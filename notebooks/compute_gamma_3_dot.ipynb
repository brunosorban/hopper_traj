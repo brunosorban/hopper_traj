{
 "cells": [
  {
   "cell_type": "code",
   "execution_count": 12,
   "metadata": {},
   "outputs": [],
   "source": [
    "import sympy as sp"
   ]
  },
  {
   "cell_type": "code",
   "execution_count": 13,
   "metadata": {},
   "outputs": [],
   "source": [
    "# initialize symbols\n",
    "t, g, m, J_z, l_tvc = sp.symbols(\"t g m J_z l_{tvc}\")\n",
    "\n",
    "x = sp.Function(\"x\")(t)\n",
    "x_dot = sp.Function(\"x_dot\")(t)\n",
    "x_dot_dot = sp.Function(\"x_dot_dot\")(t)\n",
    "x_3dot = sp.Function(\"x_3dot\")(t)\n",
    "x_4dot = sp.Function(\"x_4dot\")(t)\n",
    "x_5dot = sp.Function(\"x_5dot\")(t)\n",
    "\n",
    "y = sp.Function(\"y\")(t)\n",
    "y_dot = sp.Function(\"y_dot\")(t)\n",
    "y_dot_dot = sp.Function(\"y_dot_dot\")(t)\n",
    "y_3dot = sp.Function(\"y_3dot\")(t)\n",
    "y_4dot = sp.Function(\"y_4dot\")(t)\n",
    "y_5dot = sp.Function(\"y_5dot\")(t)"
   ]
  },
  {
   "cell_type": "code",
   "execution_count": 14,
   "metadata": {},
   "outputs": [
    {
     "data": {
      "text/latex": [
       "$\\displaystyle \\frac{- \\left(g + y_{dot dot}{\\left(t \\right)}\\right) x_{\\dot{3}}{\\left(t \\right)} + x_{dot dot}{\\left(t \\right)} y_{\\dot{3}}{\\left(t \\right)}}{\\left(g + y_{dot dot}{\\left(t \\right)}\\right)^{2} + x_{dot dot}^{2}{\\left(t \\right)}}$"
      ],
      "text/plain": [
       "(-(g + y_dot_dot(t))*x_3dot(t) + x_dot_dot(t)*y_3dot(t))/((g + y_dot_dot(t))**2 + x_dot_dot(t)**2)"
      ]
     },
     "execution_count": 14,
     "metadata": {},
     "output_type": "execute_result"
    }
   ],
   "source": [
    "gamma_dot = (y_3dot * x_dot_dot - (y_dot_dot + g) * x_3dot) / (\n",
    "    x_dot_dot**2 + (y_dot_dot + g) ** 2\n",
    ")\n",
    "gamma_dot"
   ]
  },
  {
   "cell_type": "code",
   "execution_count": 15,
   "metadata": {},
   "outputs": [
    {
     "data": {
      "text/latex": [
       "$\\displaystyle \\frac{\\left(- \\left(g + y_{dot dot}{\\left(t \\right)}\\right) x_{\\dot{3}}{\\left(t \\right)} + x_{dot dot}{\\left(t \\right)} y_{\\dot{3}}{\\left(t \\right)}\\right) \\left(- 2 \\left(g + y_{dot dot}{\\left(t \\right)}\\right) \\frac{d}{d t} y_{dot dot}{\\left(t \\right)} - 2 x_{dot dot}{\\left(t \\right)} \\frac{d}{d t} x_{dot dot}{\\left(t \\right)}\\right)}{\\left(\\left(g + y_{dot dot}{\\left(t \\right)}\\right)^{2} + x_{dot dot}^{2}{\\left(t \\right)}\\right)^{2}} + \\frac{- \\left(g + y_{dot dot}{\\left(t \\right)}\\right) \\frac{d}{d t} x_{\\dot{3}}{\\left(t \\right)} - x_{\\dot{3}}{\\left(t \\right)} \\frac{d}{d t} y_{dot dot}{\\left(t \\right)} + x_{dot dot}{\\left(t \\right)} \\frac{d}{d t} y_{\\dot{3}}{\\left(t \\right)} + y_{\\dot{3}}{\\left(t \\right)} \\frac{d}{d t} x_{dot dot}{\\left(t \\right)}}{\\left(g + y_{dot dot}{\\left(t \\right)}\\right)^{2} + x_{dot dot}^{2}{\\left(t \\right)}}$"
      ],
      "text/plain": [
       "(-(g + y_dot_dot(t))*x_3dot(t) + x_dot_dot(t)*y_3dot(t))*(-2*(g + y_dot_dot(t))*Derivative(y_dot_dot(t), t) - 2*x_dot_dot(t)*Derivative(x_dot_dot(t), t))/((g + y_dot_dot(t))**2 + x_dot_dot(t)**2)**2 + (-(g + y_dot_dot(t))*Derivative(x_3dot(t), t) - x_3dot(t)*Derivative(y_dot_dot(t), t) + x_dot_dot(t)*Derivative(y_3dot(t), t) + y_3dot(t)*Derivative(x_dot_dot(t), t))/((g + y_dot_dot(t))**2 + x_dot_dot(t)**2)"
      ]
     },
     "execution_count": 15,
     "metadata": {},
     "output_type": "execute_result"
    }
   ],
   "source": [
    "gamma_dot_dot = gamma_dot.diff(t)\n",
    "# gamma_dot_dot.simplify()\n",
    "gamma_dot_dot"
   ]
  },
  {
   "cell_type": "code",
   "execution_count": 16,
   "metadata": {},
   "outputs": [
    {
     "data": {
      "text/latex": [
       "$\\displaystyle - \\frac{\\left(- \\left(g + y_{dot dot}{\\left(t \\right)}\\right) x_{\\dot{3}}{\\left(t \\right)} + x_{dot dot}{\\left(t \\right)} y_{\\dot{3}}{\\left(t \\right)}\\right) \\left(\\left(2 g + 2 y_{dot dot}{\\left(t \\right)}\\right) y_{\\dot{3}}{\\left(t \\right)} + 2 x_{\\dot{3}}{\\left(t \\right)} x_{dot dot}{\\left(t \\right)}\\right)}{\\left(\\left(g + y_{dot dot}{\\left(t \\right)}\\right)^{2} + x_{dot dot}^{2}{\\left(t \\right)}\\right)^{2}} + \\frac{- \\left(g + y_{dot dot}{\\left(t \\right)}\\right) x_{\\dot{4}}{\\left(t \\right)} + x_{dot dot}{\\left(t \\right)} y_{\\dot{4}}{\\left(t \\right)}}{\\left(g + y_{dot dot}{\\left(t \\right)}\\right)^{2} + x_{dot dot}^{2}{\\left(t \\right)}}$"
      ],
      "text/plain": [
       "-(-(g + y_dot_dot(t))*x_3dot(t) + x_dot_dot(t)*y_3dot(t))*((2*g + 2*y_dot_dot(t))*y_3dot(t) + 2*x_3dot(t)*x_dot_dot(t))/((g + y_dot_dot(t))**2 + x_dot_dot(t)**2)**2 + (-(g + y_dot_dot(t))*x_4dot(t) + x_dot_dot(t)*y_4dot(t))/((g + y_dot_dot(t))**2 + x_dot_dot(t)**2)"
      ]
     },
     "execution_count": 16,
     "metadata": {},
     "output_type": "execute_result"
    }
   ],
   "source": [
    "dd_gamma = (y_4dot * x_dot_dot - (y_dot_dot + g) * x_4dot) / (\n",
    "    x_dot_dot**2 + (y_dot_dot + g) ** 2\n",
    ") - (y_3dot * x_dot_dot - (y_dot_dot + g) * x_3dot) * (\n",
    "    2 * x_dot_dot * x_3dot + 2 * (y_dot_dot + g) * y_3dot\n",
    ") / (\n",
    "    x_dot_dot**2 + (y_dot_dot + g) ** 2\n",
    ") ** 2\n",
    "dd_gamma"
   ]
  },
  {
   "cell_type": "code",
   "execution_count": 17,
   "metadata": {},
   "outputs": [
    {
     "data": {
      "text/latex": [
       "$\\displaystyle - \\frac{\\left(- \\left(g + y_{dot dot}{\\left(t \\right)}\\right) x_{\\dot{3}}{\\left(t \\right)} + x_{dot dot}{\\left(t \\right)} y_{\\dot{3}}{\\left(t \\right)}\\right) \\left(- 4 \\left(g + y_{dot dot}{\\left(t \\right)}\\right) \\frac{d}{d t} y_{dot dot}{\\left(t \\right)} - 4 x_{dot dot}{\\left(t \\right)} \\frac{d}{d t} x_{dot dot}{\\left(t \\right)}\\right) \\left(\\left(2 g + 2 y_{dot dot}{\\left(t \\right)}\\right) y_{\\dot{3}}{\\left(t \\right)} + 2 x_{\\dot{3}}{\\left(t \\right)} x_{dot dot}{\\left(t \\right)}\\right)}{\\left(\\left(g + y_{dot dot}{\\left(t \\right)}\\right)^{2} + x_{dot dot}^{2}{\\left(t \\right)}\\right)^{3}} - \\frac{\\left(- \\left(g + y_{dot dot}{\\left(t \\right)}\\right) x_{\\dot{3}}{\\left(t \\right)} + x_{dot dot}{\\left(t \\right)} y_{\\dot{3}}{\\left(t \\right)}\\right) \\left(\\left(2 g + 2 y_{dot dot}{\\left(t \\right)}\\right) \\frac{d}{d t} y_{\\dot{3}}{\\left(t \\right)} + 2 x_{\\dot{3}}{\\left(t \\right)} \\frac{d}{d t} x_{dot dot}{\\left(t \\right)} + 2 x_{dot dot}{\\left(t \\right)} \\frac{d}{d t} x_{\\dot{3}}{\\left(t \\right)} + 2 y_{\\dot{3}}{\\left(t \\right)} \\frac{d}{d t} y_{dot dot}{\\left(t \\right)}\\right)}{\\left(\\left(g + y_{dot dot}{\\left(t \\right)}\\right)^{2} + x_{dot dot}^{2}{\\left(t \\right)}\\right)^{2}} + \\frac{\\left(- \\left(g + y_{dot dot}{\\left(t \\right)}\\right) x_{\\dot{4}}{\\left(t \\right)} + x_{dot dot}{\\left(t \\right)} y_{\\dot{4}}{\\left(t \\right)}\\right) \\left(- 2 \\left(g + y_{dot dot}{\\left(t \\right)}\\right) \\frac{d}{d t} y_{dot dot}{\\left(t \\right)} - 2 x_{dot dot}{\\left(t \\right)} \\frac{d}{d t} x_{dot dot}{\\left(t \\right)}\\right)}{\\left(\\left(g + y_{dot dot}{\\left(t \\right)}\\right)^{2} + x_{dot dot}^{2}{\\left(t \\right)}\\right)^{2}} - \\frac{\\left(\\left(2 g + 2 y_{dot dot}{\\left(t \\right)}\\right) y_{\\dot{3}}{\\left(t \\right)} + 2 x_{\\dot{3}}{\\left(t \\right)} x_{dot dot}{\\left(t \\right)}\\right) \\left(- \\left(g + y_{dot dot}{\\left(t \\right)}\\right) \\frac{d}{d t} x_{\\dot{3}}{\\left(t \\right)} - x_{\\dot{3}}{\\left(t \\right)} \\frac{d}{d t} y_{dot dot}{\\left(t \\right)} + x_{dot dot}{\\left(t \\right)} \\frac{d}{d t} y_{\\dot{3}}{\\left(t \\right)} + y_{\\dot{3}}{\\left(t \\right)} \\frac{d}{d t} x_{dot dot}{\\left(t \\right)}\\right)}{\\left(\\left(g + y_{dot dot}{\\left(t \\right)}\\right)^{2} + x_{dot dot}^{2}{\\left(t \\right)}\\right)^{2}} + \\frac{- \\left(g + y_{dot dot}{\\left(t \\right)}\\right) \\frac{d}{d t} x_{\\dot{4}}{\\left(t \\right)} - x_{\\dot{4}}{\\left(t \\right)} \\frac{d}{d t} y_{dot dot}{\\left(t \\right)} + x_{dot dot}{\\left(t \\right)} \\frac{d}{d t} y_{\\dot{4}}{\\left(t \\right)} + y_{\\dot{4}}{\\left(t \\right)} \\frac{d}{d t} x_{dot dot}{\\left(t \\right)}}{\\left(g + y_{dot dot}{\\left(t \\right)}\\right)^{2} + x_{dot dot}^{2}{\\left(t \\right)}}$"
      ],
      "text/plain": [
       "-(-(g + y_dot_dot(t))*x_3dot(t) + x_dot_dot(t)*y_3dot(t))*(-4*(g + y_dot_dot(t))*Derivative(y_dot_dot(t), t) - 4*x_dot_dot(t)*Derivative(x_dot_dot(t), t))*((2*g + 2*y_dot_dot(t))*y_3dot(t) + 2*x_3dot(t)*x_dot_dot(t))/((g + y_dot_dot(t))**2 + x_dot_dot(t)**2)**3 - (-(g + y_dot_dot(t))*x_3dot(t) + x_dot_dot(t)*y_3dot(t))*((2*g + 2*y_dot_dot(t))*Derivative(y_3dot(t), t) + 2*x_3dot(t)*Derivative(x_dot_dot(t), t) + 2*x_dot_dot(t)*Derivative(x_3dot(t), t) + 2*y_3dot(t)*Derivative(y_dot_dot(t), t))/((g + y_dot_dot(t))**2 + x_dot_dot(t)**2)**2 + (-(g + y_dot_dot(t))*x_4dot(t) + x_dot_dot(t)*y_4dot(t))*(-2*(g + y_dot_dot(t))*Derivative(y_dot_dot(t), t) - 2*x_dot_dot(t)*Derivative(x_dot_dot(t), t))/((g + y_dot_dot(t))**2 + x_dot_dot(t)**2)**2 - ((2*g + 2*y_dot_dot(t))*y_3dot(t) + 2*x_3dot(t)*x_dot_dot(t))*(-(g + y_dot_dot(t))*Derivative(x_3dot(t), t) - x_3dot(t)*Derivative(y_dot_dot(t), t) + x_dot_dot(t)*Derivative(y_3dot(t), t) + y_3dot(t)*Derivative(x_dot_dot(t), t))/((g + y_dot_dot(t))**2 + x_dot_dot(t)**2)**2 + (-(g + y_dot_dot(t))*Derivative(x_4dot(t), t) - x_4dot(t)*Derivative(y_dot_dot(t), t) + x_dot_dot(t)*Derivative(y_4dot(t), t) + y_4dot(t)*Derivative(x_dot_dot(t), t))/((g + y_dot_dot(t))**2 + x_dot_dot(t)**2)"
      ]
     },
     "execution_count": 17,
     "metadata": {},
     "output_type": "execute_result"
    }
   ],
   "source": [
    "gamma_3dot = dd_gamma.diff(t)\n",
    "gamma_3dot"
   ]
  },
  {
   "cell_type": "code",
   "execution_count": 18,
   "metadata": {},
   "outputs": [
    {
     "name": "stdout",
     "output_type": "stream",
     "text": [
      "g = Symbol('g')\n",
      "t = Symbol('t')\n",
      "y_dot_dot = Function('y_dot_dot')\n",
      "x_3dot = Function('x_3dot')\n",
      "x_dot_dot = Function('x_dot_dot')\n",
      "y_3dot = Function('y_3dot')\n",
      "x_4dot = Function('x_4dot')\n",
      "y_4dot = Function('y_4dot')\n",
      "e = -(-(g + y_dot_dot(t))*x_3dot(t) + x_dot_dot(t)*y_3dot(t))*(-4*(g + y_dot_dot(t))*Derivative(y_dot_dot(t), t) - 4*x_dot_dot(t)*Derivative(x_dot_dot(t), t))*((2*g + 2*y_dot_dot(t))*y_3dot(t) + 2*x_3dot(t)*x_dot_dot(t))/((g + y_dot_dot(t))**2 + x_dot_dot(t)**2)**3 - (-(g + y_dot_dot(t))*x_3dot(t) + x_dot_dot(t)*y_3dot(t))*((2*g + 2*y_dot_dot(t))*Derivative(y_3dot(t), t) + 2*x_3dot(t)*Derivative(x_dot_dot(t), t) + 2*x_dot_dot(t)*Derivative(x_3dot(t), t) + 2*y_3dot(t)*Derivative(y_dot_dot(t), t))/((g + y_dot_dot(t))**2 + x_dot_dot(t)**2)**2 + (-(g + y_dot_dot(t))*x_4dot(t) + x_dot_dot(t)*y_4dot(t))*(-2*(g + y_dot_dot(t))*Derivative(y_dot_dot(t), t) - 2*x_dot_dot(t)*Derivative(x_dot_dot(t), t))/((g + y_dot_dot(t))**2 + x_dot_dot(t)**2)**2 - ((2*g + 2*y_dot_dot(t))*y_3dot(t) + 2*x_3dot(t)*x_dot_dot(t))*(-(g + y_dot_dot(t))*Derivative(x_3dot(t), t) - x_3dot(t)*Derivative(y_dot_dot(t), t) + x_dot_dot(t)*Derivative(y_3dot(t), t) + y_3dot(t)*Derivative(x_dot_dot(t), t))/((g + y_dot_dot(t))**2 + x_dot_dot(t)**2)**2 + (-(g + y_dot_dot(t))*Derivative(x_4dot(t), t) - x_4dot(t)*Derivative(y_dot_dot(t), t) + x_dot_dot(t)*Derivative(y_4dot(t), t) + y_4dot(t)*Derivative(x_dot_dot(t), t))/((g + y_dot_dot(t))**2 + x_dot_dot(t)**2)\n"
     ]
    }
   ],
   "source": [
    "sp.print_python(gamma_3dot)"
   ]
  },
  {
   "cell_type": "code",
   "execution_count": null,
   "metadata": {},
   "outputs": [],
   "source": []
  }
 ],
 "metadata": {
  "kernelspec": {
   "display_name": "base",
   "language": "python",
   "name": "python3"
  },
  "language_info": {
   "codemirror_mode": {
    "name": "ipython",
    "version": 3
   },
   "file_extension": ".py",
   "mimetype": "text/x-python",
   "name": "python",
   "nbconvert_exporter": "python",
   "pygments_lexer": "ipython3",
   "version": "3.10.9"
  },
  "orig_nbformat": 4
 },
 "nbformat": 4,
 "nbformat_minor": 2
}
