{
 "cells": [
  {
   "cell_type": "code",
   "execution_count": 1,
   "metadata": {},
   "outputs": [],
   "source": [
    "import sympy as sp"
   ]
  },
  {
   "cell_type": "code",
   "execution_count": 28,
   "metadata": {},
   "outputs": [],
   "source": [
    "e1bx, e1by, e1bz, e2bx, e2by, e2bz, e3bx, e3by, e3bz = sp.symbols(\n",
    "    \"e_{1bx} e_{1by} e_{1bz} e_{2bx} e_{2by} e_{2bz} e_{3bx} e_{3by} e_{3bz}\"\n",
    ")\n",
    "(\n",
    "    e1bx_dot,\n",
    "    e1by_dot,\n",
    "    e1bz_dot,\n",
    "    e2bx_dot,\n",
    "    e2by_dot,\n",
    "    e2bz_dot,\n",
    "    e3bx_dot,\n",
    "    e3by_dot,\n",
    "    e3bz_dot,\n",
    ") = sp.symbols(\n",
    "    \"e_{1bx_{dot}} e_{1by_{dot}} e_{1bz_{dot}} e_{2bx_{dot}} e_{2by_{dot}} e_{2bz_{dot}} e_{3bx_{dot}} e_{3by_{dot}} e_{3bz_{dot}}\"\n",
    ")\n",
    "(\n",
    "    e1bx_dot_dot,\n",
    "    e1by_dot_dot,\n",
    "    e1bz_dot_dot,\n",
    "    e2bx_dot_dot,\n",
    "    e2by_dot_dot,\n",
    "    e2bz_dot_dot,\n",
    "    e3bx_dot_dot,\n",
    "    e3by_dot_dot,\n",
    "    e3bz_dot_dot,\n",
    ") = sp.symbols(\n",
    "    \"e_{1bx_{ddot}} e_{1by_{ddot}} e_{1bz_{ddot}} e_{2bx_{ddot}} e_{2by_{ddot}} e_{2bz_{ddot}} e_{3bx_{ddot}} e_{3by_{ddot}} e_{3bz_{ddot}}\"\n",
    ")"
   ]
  },
  {
   "cell_type": "code",
   "execution_count": 29,
   "metadata": {},
   "outputs": [],
   "source": [
    "R = sp.Matrix([[e1bx, e2bx, e3bx], [e1by, e2by, e3by], [e1bz, e2bz, e3bz]])\n",
    "\n",
    "R_dot = sp.Matrix(\n",
    "    [\n",
    "        [e1bx_dot, e2bx_dot, e3bx_dot],\n",
    "        [e1by_dot, e2by_dot, e3by_dot],\n",
    "        [e1bz_dot, e2bz_dot, e3bz_dot],\n",
    "    ]\n",
    ")\n",
    "\n",
    "R_dot_dot = sp.Matrix(\n",
    "    [\n",
    "        [e1bx_dot_dot, e2bx_dot_dot, e3bx_dot_dot],\n",
    "        [e1by_dot_dot, e2by_dot_dot, e3by_dot_dot],\n",
    "        [e1bz_dot_dot, e2bz_dot_dot, e3bz_dot_dot],\n",
    "    ]\n",
    ")"
   ]
  },
  {
   "cell_type": "code",
   "execution_count": 30,
   "metadata": {},
   "outputs": [],
   "source": [
    "omega = R.T * R_dot\n",
    "omega[0, 0] = 0\n",
    "omega[1, 1] = 0\n",
    "omega[2, 2] = 0"
   ]
  },
  {
   "cell_type": "code",
   "execution_count": 31,
   "metadata": {},
   "outputs": [
    {
     "data": {
      "text/latex": [
       "$\\displaystyle \\left[\\begin{matrix}0 & e_{1bx} e_{2bx_{dot}} + e_{1by} e_{2by_{dot}} + e_{1bz} e_{2bz_{dot}} & e_{1bx} e_{3bx_{dot}} + e_{1by} e_{3by_{dot}} + e_{1bz} e_{3bz_{dot}}\\\\e_{1bx_{dot}} e_{2bx} + e_{1by_{dot}} e_{2by} + e_{1bz_{dot}} e_{2bz} & 0 & e_{2bx} e_{3bx_{dot}} + e_{2by} e_{3by_{dot}} + e_{2bz} e_{3bz_{dot}}\\\\e_{1bx_{dot}} e_{3bx} + e_{1by_{dot}} e_{3by} + e_{1bz_{dot}} e_{3bz} & e_{2bx_{dot}} e_{3bx} + e_{2by_{dot}} e_{3by} + e_{2bz_{dot}} e_{3bz} & 0\\end{matrix}\\right]$"
      ],
      "text/plain": [
       "Matrix([\n",
       "[                                                                    0, e_{1bx}*e_{2bx_{dot}} + e_{1by}*e_{2by_{dot}} + e_{1bz}*e_{2bz_{dot}}, e_{1bx}*e_{3bx_{dot}} + e_{1by}*e_{3by_{dot}} + e_{1bz}*e_{3bz_{dot}}],\n",
       "[e_{1bx_{dot}}*e_{2bx} + e_{1by_{dot}}*e_{2by} + e_{1bz_{dot}}*e_{2bz},                                                                     0, e_{2bx}*e_{3bx_{dot}} + e_{2by}*e_{3by_{dot}} + e_{2bz}*e_{3bz_{dot}}],\n",
       "[e_{1bx_{dot}}*e_{3bx} + e_{1by_{dot}}*e_{3by} + e_{1bz_{dot}}*e_{3bz}, e_{2bx_{dot}}*e_{3bx} + e_{2by_{dot}}*e_{3by} + e_{2bz_{dot}}*e_{3bz},                                                                     0]])"
      ]
     },
     "execution_count": 31,
     "metadata": {},
     "output_type": "execute_result"
    }
   ],
   "source": [
    "omega"
   ]
  },
  {
   "cell_type": "code",
   "execution_count": 32,
   "metadata": {},
   "outputs": [
    {
     "data": {
      "text/latex": [
       "$\\displaystyle - e_{3bx} \\left(e_{1bx_{ddot}} - e_{2bx_{dot}} \\left(e_{1bx_{dot}} e_{2bx} + e_{1by_{dot}} e_{2by} + e_{1bz_{dot}} e_{2bz}\\right) - e_{3bx_{dot}} \\left(e_{1bx_{dot}} e_{3bx} + e_{1by_{dot}} e_{3by} + e_{1bz_{dot}} e_{3bz}\\right)\\right) - e_{3by} \\left(e_{1by_{ddot}} - e_{2by_{dot}} \\left(e_{1bx_{dot}} e_{2bx} + e_{1by_{dot}} e_{2by} + e_{1bz_{dot}} e_{2bz}\\right) - e_{3by_{dot}} \\left(e_{1bx_{dot}} e_{3bx} + e_{1by_{dot}} e_{3by} + e_{1bz_{dot}} e_{3bz}\\right)\\right) - e_{3bz} \\left(e_{1bz_{ddot}} - e_{2bz_{dot}} \\left(e_{1bx_{dot}} e_{2bx} + e_{1by_{dot}} e_{2by} + e_{1bz_{dot}} e_{2bz}\\right) - e_{3bz_{dot}} \\left(e_{1bx_{dot}} e_{3bx} + e_{1by_{dot}} e_{3by} + e_{1bz_{dot}} e_{3bz}\\right)\\right)$"
      ],
      "text/plain": [
       "-e_{3bx}*(e_{1bx_{ddot}} - e_{2bx_{dot}}*(e_{1bx_{dot}}*e_{2bx} + e_{1by_{dot}}*e_{2by} + e_{1bz_{dot}}*e_{2bz}) - e_{3bx_{dot}}*(e_{1bx_{dot}}*e_{3bx} + e_{1by_{dot}}*e_{3by} + e_{1bz_{dot}}*e_{3bz})) - e_{3by}*(e_{1by_{ddot}} - e_{2by_{dot}}*(e_{1bx_{dot}}*e_{2bx} + e_{1by_{dot}}*e_{2by} + e_{1bz_{dot}}*e_{2bz}) - e_{3by_{dot}}*(e_{1bx_{dot}}*e_{3bx} + e_{1by_{dot}}*e_{3by} + e_{1bz_{dot}}*e_{3bz})) - e_{3bz}*(e_{1bz_{ddot}} - e_{2bz_{dot}}*(e_{1bx_{dot}}*e_{2bx} + e_{1by_{dot}}*e_{2by} + e_{1bz_{dot}}*e_{2bz}) - e_{3bz_{dot}}*(e_{1bx_{dot}}*e_{3bx} + e_{1by_{dot}}*e_{3by} + e_{1bz_{dot}}*e_{3bz}))"
      ]
     },
     "execution_count": 32,
     "metadata": {},
     "output_type": "execute_result"
    }
   ],
   "source": [
    "omega_dot = R.T * (R_dot_dot - R_dot * omega)  # (3, 1)\n",
    "omega_y_dot = -omega_dot[2, 0]\n",
    "omega_z_dot = omega_dot[1, 0]\n",
    "omega_y_dot"
   ]
  },
  {
   "cell_type": "code",
   "execution_count": 5,
   "metadata": {},
   "outputs": [
    {
     "data": {
      "text/latex": [
       "$\\displaystyle \\frac{\\sqrt{\\left|{\\left(720 a_{10} t^{7} + 990 a_{11} t^{8} + 1320 a_{12} t^{9} + 6 a_{3} + 24 a_{4} t + 60 a_{5} t^{2} + 120 a_{6} t^{3} + 210 a_{7} t^{4} + 336 a_{8} t^{5} + 504 a_{9} t^{6}\\right) \\left(90 b_{10} t^{8} + 110 b_{11} t^{9} + 132 b_{12} t^{10} + 2 b_{2} + 6 b_{3} t + 12 b_{4} t^{2} + 20 b_{5} t^{3} + 30 b_{6} t^{4} + 42 b_{7} t^{5} + 56 b_{8} t^{6} + 72 b_{9} t^{7}\\right) - \\left(720 b_{10} t^{7} + 990 b_{11} t^{8} + 1320 b_{12} t^{9} + 6 b_{3} + 24 b_{4} t + 60 b_{5} t^{2} + 120 b_{6} t^{3} + 210 b_{7} t^{4} + 336 b_{8} t^{5} + 504 b_{9} t^{6}\\right) \\left(90 a_{10} t^{8} + 110 a_{11} t^{9} + 132 a_{12} t^{10} + 2 a_{2} + 6 a_{3} t + 12 a_{4} t^{2} + 20 a_{5} t^{3} + 30 a_{6} t^{4} + 42 a_{7} t^{5} + 56 a_{8} t^{6} + 72 a_{9} t^{7}\\right)}\\right|^{2} + \\left|{\\left(720 a_{10} t^{7} + 990 a_{11} t^{8} + 1320 a_{12} t^{9} + 6 a_{3} + 24 a_{4} t + 60 a_{5} t^{2} + 120 a_{6} t^{3} + 210 a_{7} t^{4} + 336 a_{8} t^{5} + 504 a_{9} t^{6}\\right) \\left(90 c_{10} t^{8} + 110 c_{11} t^{9} + 132 c_{12} t^{10} + 2 c_{2} + 6 c_{3} t + 12 c_{4} t^{2} + 20 c_{5} t^{3} + 30 c_{6} t^{4} + 42 c_{7} t^{5} + 56 c_{8} t^{6} + 72 c_{9} t^{7}\\right) - \\left(720 c_{10} t^{7} + 990 c_{11} t^{8} + 1320 c_{12} t^{9} + 6 c_{3} + 24 c_{4} t + 60 c_{5} t^{2} + 120 c_{6} t^{3} + 210 c_{7} t^{4} + 336 c_{8} t^{5} + 504 c_{9} t^{6}\\right) \\left(90 a_{10} t^{8} + 110 a_{11} t^{9} + 132 a_{12} t^{10} + 2 a_{2} + 6 a_{3} t + 12 a_{4} t^{2} + 20 a_{5} t^{3} + 30 a_{6} t^{4} + 42 a_{7} t^{5} + 56 a_{8} t^{6} + 72 a_{9} t^{7}\\right)}\\right|^{2} + \\left|{\\left(720 b_{10} t^{7} + 990 b_{11} t^{8} + 1320 b_{12} t^{9} + 6 b_{3} + 24 b_{4} t + 60 b_{5} t^{2} + 120 b_{6} t^{3} + 210 b_{7} t^{4} + 336 b_{8} t^{5} + 504 b_{9} t^{6}\\right) \\left(90 c_{10} t^{8} + 110 c_{11} t^{9} + 132 c_{12} t^{10} + 2 c_{2} + 6 c_{3} t + 12 c_{4} t^{2} + 20 c_{5} t^{3} + 30 c_{6} t^{4} + 42 c_{7} t^{5} + 56 c_{8} t^{6} + 72 c_{9} t^{7}\\right) - \\left(720 c_{10} t^{7} + 990 c_{11} t^{8} + 1320 c_{12} t^{9} + 6 c_{3} + 24 c_{4} t + 60 c_{5} t^{2} + 120 c_{6} t^{3} + 210 c_{7} t^{4} + 336 c_{8} t^{5} + 504 c_{9} t^{6}\\right) \\left(90 b_{10} t^{8} + 110 b_{11} t^{9} + 132 b_{12} t^{10} + 2 b_{2} + 6 b_{3} t + 12 b_{4} t^{2} + 20 b_{5} t^{3} + 30 b_{6} t^{4} + 42 b_{7} t^{5} + 56 b_{8} t^{6} + 72 b_{9} t^{7}\\right)}\\right|^{2}}}{\\left(\\left|{90 a_{10} t^{8} + 110 a_{11} t^{9} + 132 a_{12} t^{10} + 2 a_{2} + 6 a_{3} t + 12 a_{4} t^{2} + 20 a_{5} t^{3} + 30 a_{6} t^{4} + 42 a_{7} t^{5} + 56 a_{8} t^{6} + 72 a_{9} t^{7}}\\right|^{2} + \\left|{90 b_{10} t^{8} + 110 b_{11} t^{9} + 132 b_{12} t^{10} + 2 b_{2} + 6 b_{3} t + 12 b_{4} t^{2} + 20 b_{5} t^{3} + 30 b_{6} t^{4} + 42 b_{7} t^{5} + 56 b_{8} t^{6} + 72 b_{9} t^{7}}\\right|^{2} + \\left|{90 c_{10} t^{8} + 110 c_{11} t^{9} + 132 c_{12} t^{10} + 2 c_{2} + 6 c_{3} t + 12 c_{4} t^{2} + 20 c_{5} t^{3} + 30 c_{6} t^{4} + 42 c_{7} t^{5} + 56 c_{8} t^{6} + 72 c_{9} t^{7}}\\right|^{2}\\right)^{\\frac{3}{2}}}$"
      ],
      "text/plain": [
       "sqrt(Abs((720*a10*t**7 + 990*a11*t**8 + 1320*a12*t**9 + 6*a3 + 24*a4*t + 60*a5*t**2 + 120*a6*t**3 + 210*a7*t**4 + 336*a8*t**5 + 504*a9*t**6)*(90*b10*t**8 + 110*b11*t**9 + 132*b12*t**10 + 2*b2 + 6*b3*t + 12*b4*t**2 + 20*b5*t**3 + 30*b6*t**4 + 42*b7*t**5 + 56*b8*t**6 + 72*b9*t**7) - (720*b10*t**7 + 990*b11*t**8 + 1320*b12*t**9 + 6*b3 + 24*b4*t + 60*b5*t**2 + 120*b6*t**3 + 210*b7*t**4 + 336*b8*t**5 + 504*b9*t**6)*(90*a10*t**8 + 110*a11*t**9 + 132*a12*t**10 + 2*a2 + 6*a3*t + 12*a4*t**2 + 20*a5*t**3 + 30*a6*t**4 + 42*a7*t**5 + 56*a8*t**6 + 72*a9*t**7))**2 + Abs((720*a10*t**7 + 990*a11*t**8 + 1320*a12*t**9 + 6*a3 + 24*a4*t + 60*a5*t**2 + 120*a6*t**3 + 210*a7*t**4 + 336*a8*t**5 + 504*a9*t**6)*(90*c10*t**8 + 110*c11*t**9 + 132*c12*t**10 + 2*c2 + 6*c3*t + 12*c4*t**2 + 20*c5*t**3 + 30*c6*t**4 + 42*c7*t**5 + 56*c8*t**6 + 72*c9*t**7) - (720*c10*t**7 + 990*c11*t**8 + 1320*c12*t**9 + 6*c3 + 24*c4*t + 60*c5*t**2 + 120*c6*t**3 + 210*c7*t**4 + 336*c8*t**5 + 504*c9*t**6)*(90*a10*t**8 + 110*a11*t**9 + 132*a12*t**10 + 2*a2 + 6*a3*t + 12*a4*t**2 + 20*a5*t**3 + 30*a6*t**4 + 42*a7*t**5 + 56*a8*t**6 + 72*a9*t**7))**2 + Abs((720*b10*t**7 + 990*b11*t**8 + 1320*b12*t**9 + 6*b3 + 24*b4*t + 60*b5*t**2 + 120*b6*t**3 + 210*b7*t**4 + 336*b8*t**5 + 504*b9*t**6)*(90*c10*t**8 + 110*c11*t**9 + 132*c12*t**10 + 2*c2 + 6*c3*t + 12*c4*t**2 + 20*c5*t**3 + 30*c6*t**4 + 42*c7*t**5 + 56*c8*t**6 + 72*c9*t**7) - (720*c10*t**7 + 990*c11*t**8 + 1320*c12*t**9 + 6*c3 + 24*c4*t + 60*c5*t**2 + 120*c6*t**3 + 210*c7*t**4 + 336*c8*t**5 + 504*c9*t**6)*(90*b10*t**8 + 110*b11*t**9 + 132*b12*t**10 + 2*b2 + 6*b3*t + 12*b4*t**2 + 20*b5*t**3 + 30*b6*t**4 + 42*b7*t**5 + 56*b8*t**6 + 72*b9*t**7))**2)/(Abs(90*a10*t**8 + 110*a11*t**9 + 132*a12*t**10 + 2*a2 + 6*a3*t + 12*a4*t**2 + 20*a5*t**3 + 30*a6*t**4 + 42*a7*t**5 + 56*a8*t**6 + 72*a9*t**7)**2 + Abs(90*b10*t**8 + 110*b11*t**9 + 132*b12*t**10 + 2*b2 + 6*b3*t + 12*b4*t**2 + 20*b5*t**3 + 30*b6*t**4 + 42*b7*t**5 + 56*b8*t**6 + 72*b9*t**7)**2 + Abs(90*c10*t**8 + 110*c11*t**9 + 132*c12*t**10 + 2*c2 + 6*c3*t + 12*c4*t**2 + 20*c5*t**3 + 30*c6*t**4 + 42*c7*t**5 + 56*c8*t**6 + 72*c9*t**7)**2)**(3/2)"
      ]
     },
     "execution_count": 5,
     "metadata": {},
     "output_type": "execute_result"
    }
   ],
   "source": [
    "from sympy import symbols, diff, Matrix, sqrt, Function\n",
    "\n",
    "# Define the time variable\n",
    "t = symbols(\"t\")\n",
    "\n",
    "# Define the coefficients for the polynomials\n",
    "a_coeffs = symbols(\"a0:13\")\n",
    "b_coeffs = symbols(\"b0:13\")\n",
    "c_coeffs = symbols(\"c0:13\")\n",
    "\n",
    "# Define the polynomials for x(t), y(t), and z(t)\n",
    "x_t = sum(a_coeffs[i] * t**i for i in range(13))\n",
    "y_t = sum(b_coeffs[i] * t**i for i in range(13))\n",
    "z_t = sum(c_coeffs[i] * t**i for i in range(13))\n",
    "\n",
    "# Define the position vector\n",
    "r = Matrix([x_t, y_t, z_t])\n",
    "\n",
    "# Compute the velocity vector\n",
    "v = diff(r, t)\n",
    "\n",
    "# Compute the acceleration vector\n",
    "a = diff(v, t)\n",
    "\n",
    "# Compute the derivative of acceleration vector\n",
    "da_dt = diff(a, t)\n",
    "\n",
    "# Compute the cross product of acceleration and its derivative\n",
    "cross_product = a.cross(da_dt)\n",
    "\n",
    "# Compute the magnitude of acceleration vector\n",
    "a_magnitude = a.norm()\n",
    "\n",
    "# Compute the angular acceleration\n",
    "alpha_poly = cross_product.norm() / a_magnitude**3\n",
    "\n",
    "alpha_poly"
   ]
  },
  {
   "cell_type": "code",
   "execution_count": null,
   "metadata": {},
   "outputs": [],
   "source": []
  }
 ],
 "metadata": {
  "kernelspec": {
   "display_name": "base",
   "language": "python",
   "name": "python3"
  },
  "language_info": {
   "codemirror_mode": {
    "name": "ipython",
    "version": 3
   },
   "file_extension": ".py",
   "mimetype": "text/x-python",
   "name": "python",
   "nbconvert_exporter": "python",
   "pygments_lexer": "ipython3",
   "version": "3.10.9"
  },
  "orig_nbformat": 4
 },
 "nbformat": 4,
 "nbformat_minor": 2
}
