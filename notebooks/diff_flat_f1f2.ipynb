{
 "cells": [
  {
   "cell_type": "code",
   "execution_count": 1,
   "metadata": {},
   "outputs": [],
   "source": [
    "import sympy as sp"
   ]
  },
  {
   "cell_type": "code",
   "execution_count": 2,
   "metadata": {},
   "outputs": [],
   "source": [
    "# initialize symbols\n",
    "t, g, m, J_z, l_tvc = sp.symbols(\"t g m J_z l_{tvc}\")\n",
    "x = sp.Function(\"x\")(t)\n",
    "x_dot = sp.Function(\"\\dot{x}\")(t)\n",
    "x_dot_dot = sp.Function(\"\\ddot{x}\")(t)\n",
    "x_3dot = sp.Function(\"x^{(3)}\")(t)\n",
    "x_4dot = sp.Function(\"x^{(4)}\")(t)\n",
    "\n",
    "y = sp.Function(\"y\")(t)\n",
    "y_dot = sp.Function(\"\\dot{y}\")(t)\n",
    "y_dot_dot = sp.Function(\"\\ddot{y}\")(t)\n",
    "y_3dot = sp.Function(\"y^{(3)}\")(t)\n",
    "y_4dot = sp.Function(\"y^{(4)}\")(t)\n",
    "\n",
    "gamma_dot_dot = sp.Function(\"gamma_dot_dot\")(t)"
   ]
  },
  {
   "cell_type": "code",
   "execution_count": 3,
   "metadata": {},
   "outputs": [
    {
     "data": {
      "text/latex": [
       "$\\displaystyle \\sqrt{- \\frac{J_{z}^{2} \\gamma_{dot dot}^{2}{\\left(t \\right)}}{l_{tvc}^{2}} + m^{2} \\left(g + \\ddot{y}{\\left(t \\right)}\\right)^{2} + m^{2} \\ddot{x}^{2}{\\left(t \\right)}}$"
      ],
      "text/plain": [
       "sqrt(-J_z**2*gamma_dot_dot(t)**2/l_{tvc}**2 + m**2*(g + \\ddot{y}(t))**2 + m**2*\\ddot{x}(t)**2)"
      ]
     },
     "execution_count": 3,
     "metadata": {},
     "output_type": "execute_result"
    }
   ],
   "source": [
    "f1 = sp.sqrt(\n",
    "    (m * x_dot_dot) ** 2\n",
    "    + (m * (y_dot_dot + g)) ** 2\n",
    "    - (-J_z * gamma_dot_dot / l_tvc) ** 2\n",
    ")\n",
    "f1"
   ]
  },
  {
   "cell_type": "code",
   "execution_count": 4,
   "metadata": {},
   "outputs": [
    {
     "name": "stdout",
     "output_type": "stream",
     "text": [
      "J_z = Symbol('J_z')\n",
      "t = Symbol('t')\n",
      "l_tvc = Symbol('l_{tvc}')\n",
      "m = Symbol('m')\n",
      "g = Symbol('g')\n",
      "gamma_dot_dot = Function('gamma_dot_dot')\n",
      "\\ddot{y} = Function('\\ddot{y}')\n",
      "\\ddot{x} = Function('\\ddot{x}')\n",
      "e = (-J_z**2*gamma_dot_dot(t)*Derivative(gamma_dot_dot(t), t)/l_tvc**2 + m**2*(g + \\ddot{y}(t))*Derivative(\\ddot{y}(t), t) + m**2*\\ddot{x}(t)*Derivative(\\ddot{x}(t), t))/sqrt(-J_z**2*gamma_dot_dot(t)**2/l_tvc**2 + m**2*(g + \\ddot{y}(t))**2 + m**2*\\ddot{x}(t)**2)\n"
     ]
    }
   ],
   "source": [
    "f1_dot = sp.diff(f1, t)\n",
    "f1_dot.simplify()\n",
    "sp.print_python(f1_dot)"
   ]
  },
  {
   "cell_type": "code",
   "execution_count": 5,
   "metadata": {},
   "outputs": [
    {
     "data": {
      "text/latex": [
       "$\\displaystyle \\frac{f_{1}{\\left(t \\right)} \\frac{d}{d t} f_{2}{\\left(t \\right)} - f_{2}{\\left(t \\right)} \\frac{d}{d t} f_{1}{\\left(t \\right)}}{f_{1}^{2}{\\left(t \\right)} + f_{2}^{2}{\\left(t \\right)}}$"
      ],
      "text/plain": [
       "(f_1(t)*Derivative(f_2(t), t) - f_2(t)*Derivative(f_1(t), t))/(f_1(t)**2 + f_2(t)**2)"
      ]
     },
     "execution_count": 5,
     "metadata": {},
     "output_type": "execute_result"
    }
   ],
   "source": [
    "f1 = sp.Function(\"f_1\")(t)\n",
    "f2 = sp.Function(\"f_2\")(t)\n",
    "\n",
    "delta = sp.atan(f2 / f1)\n",
    "\n",
    "delta.diff(t).simplify()"
   ]
  },
  {
   "cell_type": "code",
   "execution_count": null,
   "metadata": {},
   "outputs": [],
   "source": []
  }
 ],
 "metadata": {
  "kernelspec": {
   "display_name": "base",
   "language": "python",
   "name": "python3"
  },
  "language_info": {
   "codemirror_mode": {
    "name": "ipython",
    "version": 3
   },
   "file_extension": ".py",
   "mimetype": "text/x-python",
   "name": "python",
   "nbconvert_exporter": "python",
   "pygments_lexer": "ipython3",
   "version": "3.10.9"
  },
  "orig_nbformat": 4
 },
 "nbformat": 4,
 "nbformat_minor": 2
}
