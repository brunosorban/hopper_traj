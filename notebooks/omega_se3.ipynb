{
 "cells": [
  {
   "cell_type": "code",
   "execution_count": 42,
   "metadata": {},
   "outputs": [],
   "source": [
    "import sympy as sp"
   ]
  },
  {
   "cell_type": "code",
   "execution_count": 43,
   "metadata": {},
   "outputs": [],
   "source": [
    "def vee(in_mat):\n",
    "    \"\"\"\n",
    "    Calculates the vee operator for a 3x3 matrix.\n",
    "\n",
    "    Parameters:\n",
    "        in_mat (array-like): 3x3 matrix.\n",
    "\n",
    "    Returns:\n",
    "        out_vec (array-like): 3-dimensional vector.\n",
    "    \"\"\"\n",
    "    out_vec = sp.Matrix([in_mat[2, 1], in_mat[0, 2], in_mat[1, 0]])\n",
    "    return out_vec"
   ]
  },
  {
   "cell_type": "code",
   "execution_count": 44,
   "metadata": {},
   "outputs": [],
   "source": [
    "t, g = sp.symbols(\"t g\")\n",
    "x = sp.Function(\"x\")(t)\n",
    "x_dot = sp.Function(\"\\dot{x}\")(t)\n",
    "x_ddot = sp.Function(\"\\ddot{x}\")(t)\n",
    "\n",
    "y = sp.Function(\"y\")(t)\n",
    "y_dot = sp.Function(\"\\dot{y}\")(t)\n",
    "y_ddot = sp.Function(\"\\ddot{y}\")(t)"
   ]
  },
  {
   "cell_type": "code",
   "execution_count": 45,
   "metadata": {},
   "outputs": [],
   "source": [
    "t_vec = sp.Matrix([x_ddot, y_ddot + g])\n",
    "\n",
    "norm_t = sp.sqrt(t_vec[0] ** 2 + t_vec[1] ** 2)\n",
    "\n",
    "e1bx = x_ddot / norm_t\n",
    "e1by = (y_ddot + g) / norm_t\n",
    "e2bx = -(y_ddot + g) / norm_t\n",
    "e2by = x_ddot / norm_t"
   ]
  },
  {
   "cell_type": "code",
   "execution_count": 46,
   "metadata": {},
   "outputs": [
    {
     "data": {
      "text/latex": [
       "$\\displaystyle \\left[\\begin{matrix}\\frac{\\ddot{x}{\\left(t \\right)}}{\\sqrt{\\left(g + \\ddot{y}{\\left(t \\right)}\\right)^{2} + \\ddot{x}^{2}{\\left(t \\right)}}} & \\frac{- g - \\ddot{y}{\\left(t \\right)}}{\\sqrt{\\left(g + \\ddot{y}{\\left(t \\right)}\\right)^{2} + \\ddot{x}^{2}{\\left(t \\right)}}} & 0\\\\\\frac{g + \\ddot{y}{\\left(t \\right)}}{\\sqrt{\\left(g + \\ddot{y}{\\left(t \\right)}\\right)^{2} + \\ddot{x}^{2}{\\left(t \\right)}}} & \\frac{\\ddot{x}{\\left(t \\right)}}{\\sqrt{\\left(g + \\ddot{y}{\\left(t \\right)}\\right)^{2} + \\ddot{x}^{2}{\\left(t \\right)}}} & 0\\\\0 & 0 & 1\\end{matrix}\\right]$"
      ],
      "text/plain": [
       "Matrix([\n",
       "[      \\ddot{x}(t)/sqrt((g + \\ddot{y}(t))**2 + \\ddot{x}(t)**2), (-g - \\ddot{y}(t))/sqrt((g + \\ddot{y}(t))**2 + \\ddot{x}(t)**2), 0],\n",
       "[(g + \\ddot{y}(t))/sqrt((g + \\ddot{y}(t))**2 + \\ddot{x}(t)**2),        \\ddot{x}(t)/sqrt((g + \\ddot{y}(t))**2 + \\ddot{x}(t)**2), 0],\n",
       "[                                                            0,                                                              0, 1]])"
      ]
     },
     "execution_count": 46,
     "metadata": {},
     "output_type": "execute_result"
    }
   ],
   "source": [
    "R = sp.Matrix([[e1bx, e2bx, 0], [e1by, e2by, 0], [0, 0, 1]])\n",
    "R"
   ]
  },
  {
   "cell_type": "code",
   "execution_count": 47,
   "metadata": {},
   "outputs": [
    {
     "data": {
      "text/latex": [
       "$\\displaystyle \\left[\\begin{matrix}0\\\\0\\\\\\frac{\\left(- g - \\ddot{y}{\\left(t \\right)}\\right) \\left(\\frac{\\left(- \\left(g + \\ddot{y}{\\left(t \\right)}\\right) \\frac{d}{d t} \\ddot{y}{\\left(t \\right)} - \\ddot{x}{\\left(t \\right)} \\frac{d}{d t} \\ddot{x}{\\left(t \\right)}\\right) \\ddot{x}{\\left(t \\right)}}{\\left(\\left(g + \\ddot{y}{\\left(t \\right)}\\right)^{2} + \\ddot{x}^{2}{\\left(t \\right)}\\right)^{\\frac{3}{2}}} + \\frac{\\frac{d}{d t} \\ddot{x}{\\left(t \\right)}}{\\sqrt{\\left(g + \\ddot{y}{\\left(t \\right)}\\right)^{2} + \\ddot{x}^{2}{\\left(t \\right)}}}\\right)}{\\sqrt{\\left(g + \\ddot{y}{\\left(t \\right)}\\right)^{2} + \\ddot{x}^{2}{\\left(t \\right)}}} + \\frac{\\left(\\frac{\\left(g + \\ddot{y}{\\left(t \\right)}\\right) \\left(- \\left(g + \\ddot{y}{\\left(t \\right)}\\right) \\frac{d}{d t} \\ddot{y}{\\left(t \\right)} - \\ddot{x}{\\left(t \\right)} \\frac{d}{d t} \\ddot{x}{\\left(t \\right)}\\right)}{\\left(\\left(g + \\ddot{y}{\\left(t \\right)}\\right)^{2} + \\ddot{x}^{2}{\\left(t \\right)}\\right)^{\\frac{3}{2}}} + \\frac{\\frac{d}{d t} \\ddot{y}{\\left(t \\right)}}{\\sqrt{\\left(g + \\ddot{y}{\\left(t \\right)}\\right)^{2} + \\ddot{x}^{2}{\\left(t \\right)}}}\\right) \\ddot{x}{\\left(t \\right)}}{\\sqrt{\\left(g + \\ddot{y}{\\left(t \\right)}\\right)^{2} + \\ddot{x}^{2}{\\left(t \\right)}}}\\end{matrix}\\right]$"
      ],
      "text/plain": [
       "Matrix([\n",
       "[                                                                                                                                                                                                                                                                                                                                                                                                                                                                                                                                                                                           0],\n",
       "[                                                                                                                                                                                                                                                                                                                                                                                                                                                                                                                                                                                           0],\n",
       "[(-g - \\ddot{y}(t))*((-(g + \\ddot{y}(t))*Derivative(\\ddot{y}(t), t) - \\ddot{x}(t)*Derivative(\\ddot{x}(t), t))*\\ddot{x}(t)/((g + \\ddot{y}(t))**2 + \\ddot{x}(t)**2)**(3/2) + Derivative(\\ddot{x}(t), t)/sqrt((g + \\ddot{y}(t))**2 + \\ddot{x}(t)**2))/sqrt((g + \\ddot{y}(t))**2 + \\ddot{x}(t)**2) + ((g + \\ddot{y}(t))*(-(g + \\ddot{y}(t))*Derivative(\\ddot{y}(t), t) - \\ddot{x}(t)*Derivative(\\ddot{x}(t), t))/((g + \\ddot{y}(t))**2 + \\ddot{x}(t)**2)**(3/2) + Derivative(\\ddot{y}(t), t)/sqrt((g + \\ddot{y}(t))**2 + \\ddot{x}(t)**2))*\\ddot{x}(t)/sqrt((g + \\ddot{y}(t))**2 + \\ddot{x}(t)**2)]])"
      ]
     },
     "execution_count": 47,
     "metadata": {},
     "output_type": "execute_result"
    }
   ],
   "source": [
    "omega = vee(R.T * sp.diff(R, t))\n",
    "omega"
   ]
  },
  {
   "cell_type": "code",
   "execution_count": null,
   "metadata": {},
   "outputs": [],
   "source": []
  }
 ],
 "metadata": {
  "kernelspec": {
   "display_name": "base",
   "language": "python",
   "name": "python3"
  },
  "language_info": {
   "codemirror_mode": {
    "name": "ipython",
    "version": 3
   },
   "file_extension": ".py",
   "mimetype": "text/x-python",
   "name": "python",
   "nbconvert_exporter": "python",
   "pygments_lexer": "ipython3",
   "version": "3.10.9"
  },
  "orig_nbformat": 4
 },
 "nbformat": 4,
 "nbformat_minor": 2
}
