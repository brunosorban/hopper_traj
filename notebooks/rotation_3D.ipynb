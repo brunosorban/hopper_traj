{
 "cells": [
  {
   "cell_type": "code",
   "execution_count": 1,
   "metadata": {},
   "outputs": [],
   "source": [
    "import sympy as sp"
   ]
  },
  {
   "cell_type": "code",
   "execution_count": 2,
   "metadata": {},
   "outputs": [],
   "source": [
    "t, g, m, J_z, r = sp.symbols(\"t g m J_z r\")\n",
    "\n",
    "x = sp.Function(\"x\")(t)\n",
    "x_dot = sp.Function(\"x_dot\")(t)\n",
    "x_dot_dot = sp.Function(\"x_dot_dot\")(t)\n",
    "x_3dot = sp.Function(\"x_3dot\")(t)\n",
    "x_4dot = sp.Function(\"x_4dot\")(t)\n",
    "\n",
    "y = sp.Function(\"y\")(t)\n",
    "y_dot = sp.Function(\"y_dot\")(t)\n",
    "y_dot_dot = sp.Function(\"y_dot_dot\")(t)\n",
    "y_3dot = sp.Function(\"y_3dot\")(t)\n",
    "y_4dot = sp.Function(\"y_4dot\")(t)\n",
    "\n",
    "z = sp.Function(\"z\")(t)\n",
    "z_dot = sp.Function(\"z_dot\")(t)\n",
    "z_dot_dot = sp.Function(\"z_dot_dot\")(t)\n",
    "z_3dot = sp.Function(\"z_3dot\")(t)\n",
    "z_4dot = sp.Function(\"z_4dot\")(t)"
   ]
  },
  {
   "cell_type": "code",
   "execution_count": 3,
   "metadata": {},
   "outputs": [],
   "source": [
    "e1bx = x_dot_dot / sp.sqrt(x_dot_dot**2 + y_dot_dot**2 + (z_dot_dot + g) ** 2)\n",
    "e1by = y_dot_dot / sp.sqrt(x_dot_dot**2 + y_dot_dot**2 + (z_dot_dot + g) ** 2)\n",
    "e1bz = (z_dot_dot + g) / sp.sqrt(x_dot_dot**2 + y_dot_dot**2 + (z_dot_dot + g) ** 2)"
   ]
  },
  {
   "cell_type": "code",
   "execution_count": 4,
   "metadata": {},
   "outputs": [
    {
     "data": {
      "text/latex": [
       "$\\displaystyle - \\frac{\\left(\\left(g + z_{dot dot}{\\left(t \\right)}\\right) z_{\\dot{3}}{\\left(t \\right)} + x_{\\dot{3}}{\\left(t \\right)} x_{dot dot}{\\left(t \\right)} + y_{\\dot{3}}{\\left(t \\right)} y_{dot dot}{\\left(t \\right)}\\right) x_{dot dot}{\\left(t \\right)}}{\\left(\\left(g + z_{dot dot}{\\left(t \\right)}\\right)^{2} + x_{dot dot}^{2}{\\left(t \\right)} + y_{dot dot}^{2}{\\left(t \\right)}\\right)^{1.5}} + \\frac{x_{\\dot{3}}{\\left(t \\right)}}{\\sqrt{\\left(g + z_{dot dot}{\\left(t \\right)}\\right)^{2} + x_{dot dot}^{2}{\\left(t \\right)} + y_{dot dot}^{2}{\\left(t \\right)}}}$"
      ],
      "text/plain": [
       "-((g + z_dot_dot(t))*z_3dot(t) + x_3dot(t)*x_dot_dot(t) + y_3dot(t)*y_dot_dot(t))*x_dot_dot(t)/((g + z_dot_dot(t))**2 + x_dot_dot(t)**2 + y_dot_dot(t)**2)**1.5 + x_3dot(t)/sqrt((g + z_dot_dot(t))**2 + x_dot_dot(t)**2 + y_dot_dot(t)**2)"
      ]
     },
     "execution_count": 4,
     "metadata": {},
     "output_type": "execute_result"
    }
   ],
   "source": [
    "e1bx_dot = x_3dot / sp.sqrt(x_dot_dot**2 + y_dot_dot**2 + (z_dot_dot + g) ** 2) - (\n",
    "    x_dot_dot * (x_dot_dot * x_3dot + y_dot_dot * y_3dot + (z_dot_dot + g) * z_3dot)\n",
    ") / (x_dot_dot**2 + y_dot_dot**2 + (z_dot_dot + g) ** 2) ** (3 / 2)\n",
    "e1bx_dot"
   ]
  },
  {
   "cell_type": "code",
   "execution_count": 5,
   "metadata": {},
   "outputs": [
    {
     "data": {
      "text/latex": [
       "$\\displaystyle - \\frac{\\left(\\left(g + z_{dot dot}{\\left(t \\right)}\\right) z_{\\dot{3}}{\\left(t \\right)} + x_{\\dot{3}}{\\left(t \\right)} x_{dot dot}{\\left(t \\right)} + y_{\\dot{3}}{\\left(t \\right)} y_{dot dot}{\\left(t \\right)}\\right) y_{dot dot}{\\left(t \\right)}}{\\left(\\left(g + z_{dot dot}{\\left(t \\right)}\\right)^{2} + x_{dot dot}^{2}{\\left(t \\right)} + y_{dot dot}^{2}{\\left(t \\right)}\\right)^{1.5}} + \\frac{y_{\\dot{3}}{\\left(t \\right)}}{\\sqrt{\\left(g + z_{dot dot}{\\left(t \\right)}\\right)^{2} + x_{dot dot}^{2}{\\left(t \\right)} + y_{dot dot}^{2}{\\left(t \\right)}}}$"
      ],
      "text/plain": [
       "-((g + z_dot_dot(t))*z_3dot(t) + x_3dot(t)*x_dot_dot(t) + y_3dot(t)*y_dot_dot(t))*y_dot_dot(t)/((g + z_dot_dot(t))**2 + x_dot_dot(t)**2 + y_dot_dot(t)**2)**1.5 + y_3dot(t)/sqrt((g + z_dot_dot(t))**2 + x_dot_dot(t)**2 + y_dot_dot(t)**2)"
      ]
     },
     "execution_count": 5,
     "metadata": {},
     "output_type": "execute_result"
    }
   ],
   "source": [
    "e1by_dot = y_3dot / sp.sqrt(x_dot_dot**2 + y_dot_dot**2 + (z_dot_dot + g) ** 2) - (\n",
    "    y_dot_dot * (x_dot_dot * x_3dot + y_dot_dot * y_3dot + (z_dot_dot + g) * z_3dot)\n",
    ") / (x_dot_dot**2 + y_dot_dot**2 + (z_dot_dot + g) ** 2) ** (3 / 2)\n",
    "e1by_dot"
   ]
  },
  {
   "cell_type": "code",
   "execution_count": 6,
   "metadata": {},
   "outputs": [
    {
     "data": {
      "text/latex": [
       "$\\displaystyle - \\frac{\\left(g + z_{dot dot}{\\left(t \\right)}\\right) \\left(\\left(g + z_{dot dot}{\\left(t \\right)}\\right) z_{\\dot{3}}{\\left(t \\right)} + x_{\\dot{3}}{\\left(t \\right)} x_{dot dot}{\\left(t \\right)} + y_{\\dot{3}}{\\left(t \\right)} y_{dot dot}{\\left(t \\right)}\\right)}{\\left(\\left(g + z_{dot dot}{\\left(t \\right)}\\right)^{2} + x_{dot dot}^{2}{\\left(t \\right)} + y_{dot dot}^{2}{\\left(t \\right)}\\right)^{1.5}} + \\frac{z_{\\dot{3}}{\\left(t \\right)}}{\\sqrt{\\left(g + z_{dot dot}{\\left(t \\right)}\\right)^{2} + x_{dot dot}^{2}{\\left(t \\right)} + y_{dot dot}^{2}{\\left(t \\right)}}}$"
      ],
      "text/plain": [
       "-(g + z_dot_dot(t))*((g + z_dot_dot(t))*z_3dot(t) + x_3dot(t)*x_dot_dot(t) + y_3dot(t)*y_dot_dot(t))/((g + z_dot_dot(t))**2 + x_dot_dot(t)**2 + y_dot_dot(t)**2)**1.5 + z_3dot(t)/sqrt((g + z_dot_dot(t))**2 + x_dot_dot(t)**2 + y_dot_dot(t)**2)"
      ]
     },
     "execution_count": 6,
     "metadata": {},
     "output_type": "execute_result"
    }
   ],
   "source": [
    "e1bz_dot = z_3dot / sp.sqrt(x_dot_dot**2 + y_dot_dot**2 + (z_dot_dot + g) ** 2) - (\n",
    "    (z_dot_dot + g)\n",
    "    * (x_dot_dot * x_3dot + y_dot_dot * y_3dot + (z_dot_dot + g) * z_3dot)\n",
    ") / (x_dot_dot**2 + y_dot_dot**2 + (z_dot_dot + g) ** 2) ** (3 / 2)\n",
    "e1bz_dot"
   ]
  },
  {
   "cell_type": "code",
   "execution_count": 7,
   "metadata": {},
   "outputs": [
    {
     "data": {
      "text/latex": [
       "$\\displaystyle \\frac{- \\left(\\left(\\left(g + z_{dot dot}{\\left(t \\right)}\\right) z_{\\dot{3}}{\\left(t \\right)} + x_{\\dot{3}}{\\left(t \\right)} x_{dot dot}{\\left(t \\right)} + y_{\\dot{3}}{\\left(t \\right)} y_{dot dot}{\\left(t \\right)}\\right) \\frac{d}{d t} x_{dot dot}{\\left(t \\right)} + \\left(\\left(g + z_{dot dot}{\\left(t \\right)}\\right) \\frac{d}{d t} z_{\\dot{3}}{\\left(t \\right)} + x_{\\dot{3}}{\\left(t \\right)} \\frac{d}{d t} x_{dot dot}{\\left(t \\right)} + x_{dot dot}{\\left(t \\right)} \\frac{d}{d t} x_{\\dot{3}}{\\left(t \\right)} + y_{\\dot{3}}{\\left(t \\right)} \\frac{d}{d t} y_{dot dot}{\\left(t \\right)} + y_{dot dot}{\\left(t \\right)} \\frac{d}{d t} y_{\\dot{3}}{\\left(t \\right)} + z_{\\dot{3}}{\\left(t \\right)} \\frac{d}{d t} z_{dot dot}{\\left(t \\right)}\\right) x_{dot dot}{\\left(t \\right)}\\right) \\left(\\left(g + z_{dot dot}{\\left(t \\right)}\\right)^{2} + x_{dot dot}^{2}{\\left(t \\right)} + y_{dot dot}^{2}{\\left(t \\right)}\\right)^{4.5} + 3.0 \\left(\\left(g + z_{dot dot}{\\left(t \\right)}\\right) z_{\\dot{3}}{\\left(t \\right)} + x_{\\dot{3}}{\\left(t \\right)} x_{dot dot}{\\left(t \\right)} + y_{\\dot{3}}{\\left(t \\right)} y_{dot dot}{\\left(t \\right)}\\right) \\left(\\left(g + z_{dot dot}{\\left(t \\right)}\\right) \\frac{d}{d t} z_{dot dot}{\\left(t \\right)} + x_{dot dot}{\\left(t \\right)} \\frac{d}{d t} x_{dot dot}{\\left(t \\right)} + y_{dot dot}{\\left(t \\right)} \\frac{d}{d t} y_{dot dot}{\\left(t \\right)}\\right) \\left(\\left(g + z_{dot dot}{\\left(t \\right)}\\right)^{2} + x_{dot dot}^{2}{\\left(t \\right)} + y_{dot dot}^{2}{\\left(t \\right)}\\right)^{3.5} x_{dot dot}{\\left(t \\right)} - \\left(\\left(g + z_{dot dot}{\\left(t \\right)}\\right) \\frac{d}{d t} z_{dot dot}{\\left(t \\right)} + x_{dot dot}{\\left(t \\right)} \\frac{d}{d t} x_{dot dot}{\\left(t \\right)} + y_{dot dot}{\\left(t \\right)} \\frac{d}{d t} y_{dot dot}{\\left(t \\right)}\\right) \\left(\\left(g + z_{dot dot}{\\left(t \\right)}\\right)^{2} + x_{dot dot}^{2}{\\left(t \\right)} + y_{dot dot}^{2}{\\left(t \\right)}\\right)^{4.5} x_{\\dot{3}}{\\left(t \\right)} + \\left(\\left(g + z_{dot dot}{\\left(t \\right)}\\right)^{2} + x_{dot dot}^{2}{\\left(t \\right)} + y_{dot dot}^{2}{\\left(t \\right)}\\right)^{5.5} \\frac{d}{d t} x_{\\dot{3}}{\\left(t \\right)}}{\\left(\\left(g + z_{dot dot}{\\left(t \\right)}\\right)^{2} + x_{dot dot}^{2}{\\left(t \\right)} + y_{dot dot}^{2}{\\left(t \\right)}\\right)^{6.0}}$"
      ],
      "text/plain": [
       "(-(((g + z_dot_dot(t))*z_3dot(t) + x_3dot(t)*x_dot_dot(t) + y_3dot(t)*y_dot_dot(t))*Derivative(x_dot_dot(t), t) + ((g + z_dot_dot(t))*Derivative(z_3dot(t), t) + x_3dot(t)*Derivative(x_dot_dot(t), t) + x_dot_dot(t)*Derivative(x_3dot(t), t) + y_3dot(t)*Derivative(y_dot_dot(t), t) + y_dot_dot(t)*Derivative(y_3dot(t), t) + z_3dot(t)*Derivative(z_dot_dot(t), t))*x_dot_dot(t))*((g + z_dot_dot(t))**2 + x_dot_dot(t)**2 + y_dot_dot(t)**2)**4.5 + 3.0*((g + z_dot_dot(t))*z_3dot(t) + x_3dot(t)*x_dot_dot(t) + y_3dot(t)*y_dot_dot(t))*((g + z_dot_dot(t))*Derivative(z_dot_dot(t), t) + x_dot_dot(t)*Derivative(x_dot_dot(t), t) + y_dot_dot(t)*Derivative(y_dot_dot(t), t))*((g + z_dot_dot(t))**2 + x_dot_dot(t)**2 + y_dot_dot(t)**2)**3.5*x_dot_dot(t) - ((g + z_dot_dot(t))*Derivative(z_dot_dot(t), t) + x_dot_dot(t)*Derivative(x_dot_dot(t), t) + y_dot_dot(t)*Derivative(y_dot_dot(t), t))*((g + z_dot_dot(t))**2 + x_dot_dot(t)**2 + y_dot_dot(t)**2)**4.5*x_3dot(t) + ((g + z_dot_dot(t))**2 + x_dot_dot(t)**2 + y_dot_dot(t)**2)**5.5*Derivative(x_3dot(t), t))/((g + z_dot_dot(t))**2 + x_dot_dot(t)**2 + y_dot_dot(t)**2)**6.0"
      ]
     },
     "execution_count": 7,
     "metadata": {},
     "output_type": "execute_result"
    }
   ],
   "source": [
    "e1bx_dot_dot = e1bx_dot.diff(t)\n",
    "e1bx_dot_dot.simplify()"
   ]
  },
  {
   "cell_type": "code",
   "execution_count": 8,
   "metadata": {},
   "outputs": [
    {
     "data": {
      "text/latex": [
       "$\\displaystyle \\frac{- \\left(\\left(\\left(g + z_{dot dot}{\\left(t \\right)}\\right) z_{\\dot{3}}{\\left(t \\right)} + x_{\\dot{3}}{\\left(t \\right)} x_{dot dot}{\\left(t \\right)} + y_{\\dot{3}}{\\left(t \\right)} y_{dot dot}{\\left(t \\right)}\\right) \\frac{d}{d t} y_{dot dot}{\\left(t \\right)} + \\left(\\left(g + z_{dot dot}{\\left(t \\right)}\\right) \\frac{d}{d t} z_{\\dot{3}}{\\left(t \\right)} + x_{\\dot{3}}{\\left(t \\right)} \\frac{d}{d t} x_{dot dot}{\\left(t \\right)} + x_{dot dot}{\\left(t \\right)} \\frac{d}{d t} x_{\\dot{3}}{\\left(t \\right)} + y_{\\dot{3}}{\\left(t \\right)} \\frac{d}{d t} y_{dot dot}{\\left(t \\right)} + y_{dot dot}{\\left(t \\right)} \\frac{d}{d t} y_{\\dot{3}}{\\left(t \\right)} + z_{\\dot{3}}{\\left(t \\right)} \\frac{d}{d t} z_{dot dot}{\\left(t \\right)}\\right) y_{dot dot}{\\left(t \\right)}\\right) \\left(\\left(g + z_{dot dot}{\\left(t \\right)}\\right)^{2} + x_{dot dot}^{2}{\\left(t \\right)} + y_{dot dot}^{2}{\\left(t \\right)}\\right)^{4.5} + 3.0 \\left(\\left(g + z_{dot dot}{\\left(t \\right)}\\right) z_{\\dot{3}}{\\left(t \\right)} + x_{\\dot{3}}{\\left(t \\right)} x_{dot dot}{\\left(t \\right)} + y_{\\dot{3}}{\\left(t \\right)} y_{dot dot}{\\left(t \\right)}\\right) \\left(\\left(g + z_{dot dot}{\\left(t \\right)}\\right) \\frac{d}{d t} z_{dot dot}{\\left(t \\right)} + x_{dot dot}{\\left(t \\right)} \\frac{d}{d t} x_{dot dot}{\\left(t \\right)} + y_{dot dot}{\\left(t \\right)} \\frac{d}{d t} y_{dot dot}{\\left(t \\right)}\\right) \\left(\\left(g + z_{dot dot}{\\left(t \\right)}\\right)^{2} + x_{dot dot}^{2}{\\left(t \\right)} + y_{dot dot}^{2}{\\left(t \\right)}\\right)^{3.5} y_{dot dot}{\\left(t \\right)} - \\left(\\left(g + z_{dot dot}{\\left(t \\right)}\\right) \\frac{d}{d t} z_{dot dot}{\\left(t \\right)} + x_{dot dot}{\\left(t \\right)} \\frac{d}{d t} x_{dot dot}{\\left(t \\right)} + y_{dot dot}{\\left(t \\right)} \\frac{d}{d t} y_{dot dot}{\\left(t \\right)}\\right) \\left(\\left(g + z_{dot dot}{\\left(t \\right)}\\right)^{2} + x_{dot dot}^{2}{\\left(t \\right)} + y_{dot dot}^{2}{\\left(t \\right)}\\right)^{4.5} y_{\\dot{3}}{\\left(t \\right)} + \\left(\\left(g + z_{dot dot}{\\left(t \\right)}\\right)^{2} + x_{dot dot}^{2}{\\left(t \\right)} + y_{dot dot}^{2}{\\left(t \\right)}\\right)^{5.5} \\frac{d}{d t} y_{\\dot{3}}{\\left(t \\right)}}{\\left(\\left(g + z_{dot dot}{\\left(t \\right)}\\right)^{2} + x_{dot dot}^{2}{\\left(t \\right)} + y_{dot dot}^{2}{\\left(t \\right)}\\right)^{6.0}}$"
      ],
      "text/plain": [
       "(-(((g + z_dot_dot(t))*z_3dot(t) + x_3dot(t)*x_dot_dot(t) + y_3dot(t)*y_dot_dot(t))*Derivative(y_dot_dot(t), t) + ((g + z_dot_dot(t))*Derivative(z_3dot(t), t) + x_3dot(t)*Derivative(x_dot_dot(t), t) + x_dot_dot(t)*Derivative(x_3dot(t), t) + y_3dot(t)*Derivative(y_dot_dot(t), t) + y_dot_dot(t)*Derivative(y_3dot(t), t) + z_3dot(t)*Derivative(z_dot_dot(t), t))*y_dot_dot(t))*((g + z_dot_dot(t))**2 + x_dot_dot(t)**2 + y_dot_dot(t)**2)**4.5 + 3.0*((g + z_dot_dot(t))*z_3dot(t) + x_3dot(t)*x_dot_dot(t) + y_3dot(t)*y_dot_dot(t))*((g + z_dot_dot(t))*Derivative(z_dot_dot(t), t) + x_dot_dot(t)*Derivative(x_dot_dot(t), t) + y_dot_dot(t)*Derivative(y_dot_dot(t), t))*((g + z_dot_dot(t))**2 + x_dot_dot(t)**2 + y_dot_dot(t)**2)**3.5*y_dot_dot(t) - ((g + z_dot_dot(t))*Derivative(z_dot_dot(t), t) + x_dot_dot(t)*Derivative(x_dot_dot(t), t) + y_dot_dot(t)*Derivative(y_dot_dot(t), t))*((g + z_dot_dot(t))**2 + x_dot_dot(t)**2 + y_dot_dot(t)**2)**4.5*y_3dot(t) + ((g + z_dot_dot(t))**2 + x_dot_dot(t)**2 + y_dot_dot(t)**2)**5.5*Derivative(y_3dot(t), t))/((g + z_dot_dot(t))**2 + x_dot_dot(t)**2 + y_dot_dot(t)**2)**6.0"
      ]
     },
     "execution_count": 8,
     "metadata": {},
     "output_type": "execute_result"
    }
   ],
   "source": [
    "e1by_dot_dot = e1by_dot.diff(t)\n",
    "e1by_dot_dot.simplify()"
   ]
  },
  {
   "cell_type": "code",
   "execution_count": 9,
   "metadata": {},
   "outputs": [
    {
     "data": {
      "text/latex": [
       "$\\displaystyle \\frac{3.0 \\left(g + z_{dot dot}{\\left(t \\right)}\\right) \\left(\\left(g + z_{dot dot}{\\left(t \\right)}\\right) z_{\\dot{3}}{\\left(t \\right)} + x_{\\dot{3}}{\\left(t \\right)} x_{dot dot}{\\left(t \\right)} + y_{\\dot{3}}{\\left(t \\right)} y_{dot dot}{\\left(t \\right)}\\right) \\left(\\left(g + z_{dot dot}{\\left(t \\right)}\\right) \\frac{d}{d t} z_{dot dot}{\\left(t \\right)} + x_{dot dot}{\\left(t \\right)} \\frac{d}{d t} x_{dot dot}{\\left(t \\right)} + y_{dot dot}{\\left(t \\right)} \\frac{d}{d t} y_{dot dot}{\\left(t \\right)}\\right) \\left(\\left(g + z_{dot dot}{\\left(t \\right)}\\right)^{2} + x_{dot dot}^{2}{\\left(t \\right)} + y_{dot dot}^{2}{\\left(t \\right)}\\right)^{3.5} - \\left(\\left(g + z_{dot dot}{\\left(t \\right)}\\right) \\left(\\left(g + z_{dot dot}{\\left(t \\right)}\\right) \\frac{d}{d t} z_{\\dot{3}}{\\left(t \\right)} + x_{\\dot{3}}{\\left(t \\right)} \\frac{d}{d t} x_{dot dot}{\\left(t \\right)} + x_{dot dot}{\\left(t \\right)} \\frac{d}{d t} x_{\\dot{3}}{\\left(t \\right)} + y_{\\dot{3}}{\\left(t \\right)} \\frac{d}{d t} y_{dot dot}{\\left(t \\right)} + y_{dot dot}{\\left(t \\right)} \\frac{d}{d t} y_{\\dot{3}}{\\left(t \\right)} + z_{\\dot{3}}{\\left(t \\right)} \\frac{d}{d t} z_{dot dot}{\\left(t \\right)}\\right) + \\left(\\left(g + z_{dot dot}{\\left(t \\right)}\\right) z_{\\dot{3}}{\\left(t \\right)} + x_{\\dot{3}}{\\left(t \\right)} x_{dot dot}{\\left(t \\right)} + y_{\\dot{3}}{\\left(t \\right)} y_{dot dot}{\\left(t \\right)}\\right) \\frac{d}{d t} z_{dot dot}{\\left(t \\right)}\\right) \\left(\\left(g + z_{dot dot}{\\left(t \\right)}\\right)^{2} + x_{dot dot}^{2}{\\left(t \\right)} + y_{dot dot}^{2}{\\left(t \\right)}\\right)^{4.5} - \\left(\\left(g + z_{dot dot}{\\left(t \\right)}\\right) \\frac{d}{d t} z_{dot dot}{\\left(t \\right)} + x_{dot dot}{\\left(t \\right)} \\frac{d}{d t} x_{dot dot}{\\left(t \\right)} + y_{dot dot}{\\left(t \\right)} \\frac{d}{d t} y_{dot dot}{\\left(t \\right)}\\right) \\left(\\left(g + z_{dot dot}{\\left(t \\right)}\\right)^{2} + x_{dot dot}^{2}{\\left(t \\right)} + y_{dot dot}^{2}{\\left(t \\right)}\\right)^{4.5} z_{\\dot{3}}{\\left(t \\right)} + \\left(\\left(g + z_{dot dot}{\\left(t \\right)}\\right)^{2} + x_{dot dot}^{2}{\\left(t \\right)} + y_{dot dot}^{2}{\\left(t \\right)}\\right)^{5.5} \\frac{d}{d t} z_{\\dot{3}}{\\left(t \\right)}}{\\left(\\left(g + z_{dot dot}{\\left(t \\right)}\\right)^{2} + x_{dot dot}^{2}{\\left(t \\right)} + y_{dot dot}^{2}{\\left(t \\right)}\\right)^{6.0}}$"
      ],
      "text/plain": [
       "(3.0*(g + z_dot_dot(t))*((g + z_dot_dot(t))*z_3dot(t) + x_3dot(t)*x_dot_dot(t) + y_3dot(t)*y_dot_dot(t))*((g + z_dot_dot(t))*Derivative(z_dot_dot(t), t) + x_dot_dot(t)*Derivative(x_dot_dot(t), t) + y_dot_dot(t)*Derivative(y_dot_dot(t), t))*((g + z_dot_dot(t))**2 + x_dot_dot(t)**2 + y_dot_dot(t)**2)**3.5 - ((g + z_dot_dot(t))*((g + z_dot_dot(t))*Derivative(z_3dot(t), t) + x_3dot(t)*Derivative(x_dot_dot(t), t) + x_dot_dot(t)*Derivative(x_3dot(t), t) + y_3dot(t)*Derivative(y_dot_dot(t), t) + y_dot_dot(t)*Derivative(y_3dot(t), t) + z_3dot(t)*Derivative(z_dot_dot(t), t)) + ((g + z_dot_dot(t))*z_3dot(t) + x_3dot(t)*x_dot_dot(t) + y_3dot(t)*y_dot_dot(t))*Derivative(z_dot_dot(t), t))*((g + z_dot_dot(t))**2 + x_dot_dot(t)**2 + y_dot_dot(t)**2)**4.5 - ((g + z_dot_dot(t))*Derivative(z_dot_dot(t), t) + x_dot_dot(t)*Derivative(x_dot_dot(t), t) + y_dot_dot(t)*Derivative(y_dot_dot(t), t))*((g + z_dot_dot(t))**2 + x_dot_dot(t)**2 + y_dot_dot(t)**2)**4.5*z_3dot(t) + ((g + z_dot_dot(t))**2 + x_dot_dot(t)**2 + y_dot_dot(t)**2)**5.5*Derivative(z_3dot(t), t))/((g + z_dot_dot(t))**2 + x_dot_dot(t)**2 + y_dot_dot(t)**2)**6.0"
      ]
     },
     "execution_count": 9,
     "metadata": {},
     "output_type": "execute_result"
    }
   ],
   "source": [
    "e1bz_dot_dot = e1bz_dot.diff(t)\n",
    "e1bz_dot_dot.simplify()"
   ]
  },
  {
   "cell_type": "code",
   "execution_count": 10,
   "metadata": {},
   "outputs": [],
   "source": [
    "# omega = sp.sqrt(e1bx_dot_dot**2 + e1by_dot_dot**2 + e1bz_dot_dot**2)\n",
    "# omega"
   ]
  },
  {
   "cell_type": "code",
   "execution_count": 11,
   "metadata": {},
   "outputs": [],
   "source": [
    "# sp.print_python(omega)"
   ]
  },
  {
   "cell_type": "code",
   "execution_count": 18,
   "metadata": {},
   "outputs": [],
   "source": [
    "from sympy import symbols\n",
    "from sympy.vector import CoordSys3D\n",
    "from sympy.vector.vector import cross"
   ]
  },
  {
   "cell_type": "code",
   "execution_count": 29,
   "metadata": {},
   "outputs": [],
   "source": [
    "W = CoordSys3D(\"W\")\n",
    "\n",
    "e1b = e1bx * W.i + e1by * W.j + e1bz * W.k\n",
    "e1b_dot = e1bx_dot * W.i + e1by_dot * W.j + e1bz_dot * W.k"
   ]
  },
  {
   "cell_type": "code",
   "execution_count": 30,
   "metadata": {},
   "outputs": [
    {
     "data": {
      "text/latex": [
       "$\\displaystyle \\left(- \\frac{\\left(\\left(g + z_{dot dot}{\\left(t \\right)}\\right) z_{\\dot{3}}{\\left(t \\right)} + x_{\\dot{3}}{\\left(t \\right)} x_{dot dot}{\\left(t \\right)} + y_{\\dot{3}}{\\left(t \\right)} y_{dot dot}{\\left(t \\right)}\\right) x_{dot dot}{\\left(t \\right)}}{\\left(\\left(g + z_{dot dot}{\\left(t \\right)}\\right)^{2} + x_{dot dot}^{2}{\\left(t \\right)} + y_{dot dot}^{2}{\\left(t \\right)}\\right)^{1.5}} + \\frac{x_{\\dot{3}}{\\left(t \\right)}}{\\sqrt{\\left(g + z_{dot dot}{\\left(t \\right)}\\right)^{2} + x_{dot dot}^{2}{\\left(t \\right)} + y_{dot dot}^{2}{\\left(t \\right)}}}\\right)\\mathbf{\\hat{i}_{W}} + \\left(- \\frac{\\left(\\left(g + z_{dot dot}{\\left(t \\right)}\\right) z_{\\dot{3}}{\\left(t \\right)} + x_{\\dot{3}}{\\left(t \\right)} x_{dot dot}{\\left(t \\right)} + y_{\\dot{3}}{\\left(t \\right)} y_{dot dot}{\\left(t \\right)}\\right) y_{dot dot}{\\left(t \\right)}}{\\left(\\left(g + z_{dot dot}{\\left(t \\right)}\\right)^{2} + x_{dot dot}^{2}{\\left(t \\right)} + y_{dot dot}^{2}{\\left(t \\right)}\\right)^{1.5}} + \\frac{y_{\\dot{3}}{\\left(t \\right)}}{\\sqrt{\\left(g + z_{dot dot}{\\left(t \\right)}\\right)^{2} + x_{dot dot}^{2}{\\left(t \\right)} + y_{dot dot}^{2}{\\left(t \\right)}}}\\right)\\mathbf{\\hat{j}_{W}} + \\left(- \\frac{\\left(g + z_{dot dot}{\\left(t \\right)}\\right) \\left(\\left(g + z_{dot dot}{\\left(t \\right)}\\right) z_{\\dot{3}}{\\left(t \\right)} + x_{\\dot{3}}{\\left(t \\right)} x_{dot dot}{\\left(t \\right)} + y_{\\dot{3}}{\\left(t \\right)} y_{dot dot}{\\left(t \\right)}\\right)}{\\left(\\left(g + z_{dot dot}{\\left(t \\right)}\\right)^{2} + x_{dot dot}^{2}{\\left(t \\right)} + y_{dot dot}^{2}{\\left(t \\right)}\\right)^{1.5}} + \\frac{z_{\\dot{3}}{\\left(t \\right)}}{\\sqrt{\\left(g + z_{dot dot}{\\left(t \\right)}\\right)^{2} + x_{dot dot}^{2}{\\left(t \\right)} + y_{dot dot}^{2}{\\left(t \\right)}}}\\right)\\mathbf{\\hat{k}_{W}}$"
      ],
      "text/plain": [
       "(-((g + z_dot_dot(t))*z_3dot(t) + x_3dot(t)*x_dot_dot(t) + y_3dot(t)*y_dot_dot(t))*x_dot_dot(t)/((g + z_dot_dot(t))**2 + x_dot_dot(t)**2 + y_dot_dot(t)**2)**1.5 + x_3dot(t)/sqrt((g + z_dot_dot(t))**2 + x_dot_dot(t)**2 + y_dot_dot(t)**2))*W.i + (-((g + z_dot_dot(t))*z_3dot(t) + x_3dot(t)*x_dot_dot(t) + y_3dot(t)*y_dot_dot(t))*y_dot_dot(t)/((g + z_dot_dot(t))**2 + x_dot_dot(t)**2 + y_dot_dot(t)**2)**1.5 + y_3dot(t)/sqrt((g + z_dot_dot(t))**2 + x_dot_dot(t)**2 + y_dot_dot(t)**2))*W.j + (-(g + z_dot_dot(t))*((g + z_dot_dot(t))*z_3dot(t) + x_3dot(t)*x_dot_dot(t) + y_3dot(t)*y_dot_dot(t))/((g + z_dot_dot(t))**2 + x_dot_dot(t)**2 + y_dot_dot(t)**2)**1.5 + z_3dot(t)/sqrt((g + z_dot_dot(t))**2 + x_dot_dot(t)**2 + y_dot_dot(t)**2))*W.k"
      ]
     },
     "execution_count": 30,
     "metadata": {},
     "output_type": "execute_result"
    }
   ],
   "source": [
    "e1b_dot"
   ]
  },
  {
   "cell_type": "code",
   "execution_count": 47,
   "metadata": {},
   "outputs": [
    {
     "data": {
      "text/latex": [
       "$\\displaystyle \\left(\\frac{- g y_{\\dot{3}}{\\left(t \\right)} - y_{\\dot{3}}{\\left(t \\right)} z_{dot dot}{\\left(t \\right)} + y_{dot dot}{\\left(t \\right)} z_{\\dot{3}}{\\left(t \\right)}}{\\left(g^{2} + 2 g z_{dot dot}{\\left(t \\right)} + x_{dot dot}^{2}{\\left(t \\right)} + y_{dot dot}^{2}{\\left(t \\right)} + z_{dot dot}^{2}{\\left(t \\right)}\\right)^{1.0}}\\right)\\mathbf{\\hat{i}_{W}} + \\left(\\frac{g x_{\\dot{3}}{\\left(t \\right)} + x_{\\dot{3}}{\\left(t \\right)} z_{dot dot}{\\left(t \\right)} - x_{dot dot}{\\left(t \\right)} z_{\\dot{3}}{\\left(t \\right)}}{\\left(g^{2} + 2 g z_{dot dot}{\\left(t \\right)} + x_{dot dot}^{2}{\\left(t \\right)} + y_{dot dot}^{2}{\\left(t \\right)} + z_{dot dot}^{2}{\\left(t \\right)}\\right)^{1.0}}\\right)\\mathbf{\\hat{j}_{W}} + \\left(\\frac{- x_{\\dot{3}}{\\left(t \\right)} y_{dot dot}{\\left(t \\right)} + x_{dot dot}{\\left(t \\right)} y_{\\dot{3}}{\\left(t \\right)}}{\\left(g^{2} + 2 g z_{dot dot}{\\left(t \\right)} + x_{dot dot}^{2}{\\left(t \\right)} + y_{dot dot}^{2}{\\left(t \\right)} + z_{dot dot}^{2}{\\left(t \\right)}\\right)^{1.0}}\\right)\\mathbf{\\hat{k}_{W}}$"
      ],
      "text/plain": [
       "((-g*y_3dot(t) - y_3dot(t)*z_dot_dot(t) + y_dot_dot(t)*z_3dot(t))/(g**2 + 2*g*z_dot_dot(t) + x_dot_dot(t)**2 + y_dot_dot(t)**2 + z_dot_dot(t)**2)**1.0)*W.i + ((g*x_3dot(t) + x_3dot(t)*z_dot_dot(t) - x_dot_dot(t)*z_3dot(t))/(g**2 + 2*g*z_dot_dot(t) + x_dot_dot(t)**2 + y_dot_dot(t)**2 + z_dot_dot(t)**2)**1.0)*W.j + ((-x_3dot(t)*y_dot_dot(t) + x_dot_dot(t)*y_3dot(t))/(g**2 + 2*g*z_dot_dot(t) + x_dot_dot(t)**2 + y_dot_dot(t)**2 + z_dot_dot(t)**2)**1.0)*W.k"
      ]
     },
     "execution_count": 47,
     "metadata": {},
     "output_type": "execute_result"
    }
   ],
   "source": [
    "omega_e1b = cross(e1b, e1b_dot) / e1b.magnitude() ** 2\n",
    "omega_e1b = omega_e1b.simplify()\n",
    "omega_e1b"
   ]
  },
  {
   "cell_type": "code",
   "execution_count": 48,
   "metadata": {},
   "outputs": [
    {
     "name": "stdout",
     "output_type": "stream",
     "text": [
      "g = Symbol('g')\n",
      "t = Symbol('t')\n",
      "y_3dot = Function('y_3dot')\n",
      "z_dot_dot = Function('z_dot_dot')\n",
      "y_dot_dot = Function('y_dot_dot')\n",
      "z_3dot = Function('z_3dot')\n",
      "x_dot_dot = Function('x_dot_dot')\n",
      "x_3dot = Function('x_3dot')\n",
      "e = CoordSys3D(Str('W'), (ImmutableDenseMatrix([[1, 0, 0], [0, 1, 0], [0, 0, 1]]), VectorZero())).i*(-g*y_3dot(t) - y_3dot(t)*z_dot_dot(t) + y_dot_dot(t)*z_3dot(t))/(g**2 + 2*g*z_dot_dot(t) + x_dot_dot(t)**2 + y_dot_dot(t)**2 + z_dot_dot(t)**2)**Float('1.0', precision=53) + CoordSys3D(Str('W'), (ImmutableDenseMatrix([[1, 0, 0], [0, 1, 0], [0, 0, 1]]), VectorZero())).j*(g*x_3dot(t) + x_3dot(t)*z_dot_dot(t) - x_dot_dot(t)*z_3dot(t))/(g**2 + 2*g*z_dot_dot(t) + x_dot_dot(t)**2 + y_dot_dot(t)**2 + z_dot_dot(t)**2)**Float('1.0', precision=53) + CoordSys3D(Str('W'), (ImmutableDenseMatrix([[1, 0, 0], [0, 1, 0], [0, 0, 1]]), VectorZero())).k*(-x_3dot(t)*y_dot_dot(t) + x_dot_dot(t)*y_3dot(t))/(g**2 + 2*g*z_dot_dot(t) + x_dot_dot(t)**2 + y_dot_dot(t)**2 + z_dot_dot(t)**2)**Float('1.0', precision=53)\n"
     ]
    }
   ],
   "source": [
    "sp.print_python(omega_e1b)"
   ]
  },
  {
   "cell_type": "code",
   "execution_count": 35,
   "metadata": {},
   "outputs": [
    {
     "data": {
      "text/latex": [
       "$\\displaystyle \\left(\\frac{\\frac{\\left(g + z_{dot dot}{\\left(t \\right)}\\right) \\left(- \\frac{\\left(\\left(g + z_{dot dot}{\\left(t \\right)}\\right) z_{\\dot{3}}{\\left(t \\right)} + x_{\\dot{3}}{\\left(t \\right)} x_{dot dot}{\\left(t \\right)}\\right) x_{dot dot}{\\left(t \\right)}}{\\left(\\left(g + z_{dot dot}{\\left(t \\right)}\\right)^{2} + x_{dot dot}^{2}{\\left(t \\right)}\\right)^{1.5}} + \\frac{x_{\\dot{3}}{\\left(t \\right)}}{\\sqrt{\\left(g + z_{dot dot}{\\left(t \\right)}\\right)^{2} + x_{dot dot}^{2}{\\left(t \\right)}}}\\right)}{\\sqrt{\\left(g + z_{dot dot}{\\left(t \\right)}\\right)^{2} + x_{dot dot}^{2}{\\left(t \\right)}}} + \\frac{\\left(\\frac{\\left(g + z_{dot dot}{\\left(t \\right)}\\right) \\left(\\left(g + z_{dot dot}{\\left(t \\right)}\\right) z_{\\dot{3}}{\\left(t \\right)} + x_{\\dot{3}}{\\left(t \\right)} x_{dot dot}{\\left(t \\right)}\\right)}{\\left(\\left(g + z_{dot dot}{\\left(t \\right)}\\right)^{2} + x_{dot dot}^{2}{\\left(t \\right)}\\right)^{1.5}} - \\frac{z_{\\dot{3}}{\\left(t \\right)}}{\\sqrt{\\left(g + z_{dot dot}{\\left(t \\right)}\\right)^{2} + x_{dot dot}^{2}{\\left(t \\right)}}}\\right) x_{dot dot}{\\left(t \\right)}}{\\sqrt{\\left(g + z_{dot dot}{\\left(t \\right)}\\right)^{2} + x_{dot dot}^{2}{\\left(t \\right)}}}}{\\frac{\\left(g + z_{dot dot}{\\left(t \\right)}\\right)^{2}}{\\left(g + z_{dot dot}{\\left(t \\right)}\\right)^{2} + x_{dot dot}^{2}{\\left(t \\right)}} + \\frac{x_{dot dot}^{2}{\\left(t \\right)}}{\\left(g + z_{dot dot}{\\left(t \\right)}\\right)^{2} + x_{dot dot}^{2}{\\left(t \\right)}}}\\right)\\mathbf{\\hat{j}_{W}}$"
      ],
      "text/plain": [
       "(((g + z_dot_dot(t))*(-((g + z_dot_dot(t))*z_3dot(t) + x_3dot(t)*x_dot_dot(t))*x_dot_dot(t)/((g + z_dot_dot(t))**2 + x_dot_dot(t)**2)**1.5 + x_3dot(t)/sqrt((g + z_dot_dot(t))**2 + x_dot_dot(t)**2))/sqrt((g + z_dot_dot(t))**2 + x_dot_dot(t)**2) + ((g + z_dot_dot(t))*((g + z_dot_dot(t))*z_3dot(t) + x_3dot(t)*x_dot_dot(t))/((g + z_dot_dot(t))**2 + x_dot_dot(t)**2)**1.5 - z_3dot(t)/sqrt((g + z_dot_dot(t))**2 + x_dot_dot(t)**2))*x_dot_dot(t)/sqrt((g + z_dot_dot(t))**2 + x_dot_dot(t)**2))/((g + z_dot_dot(t))**2/((g + z_dot_dot(t))**2 + x_dot_dot(t)**2) + x_dot_dot(t)**2/((g + z_dot_dot(t))**2 + x_dot_dot(t)**2)))*W.j"
      ]
     },
     "execution_count": 35,
     "metadata": {},
     "output_type": "execute_result"
    }
   ],
   "source": [
    "# simplify to the xz plane\n",
    "omega_e1b_xz = omega_e1b.subs({y_dot: 0, y_dot_dot: 0, y_3dot: 0})\n",
    "omega_e1b_xz"
   ]
  },
  {
   "cell_type": "code",
   "execution_count": 38,
   "metadata": {},
   "outputs": [
    {
     "data": {
      "text/latex": [
       "$\\displaystyle \\left(\\frac{g x_{\\dot{3}}{\\left(t \\right)} + x_{\\dot{3}}{\\left(t \\right)} z_{dot dot}{\\left(t \\right)} - x_{dot dot}{\\left(t \\right)} z_{\\dot{3}}{\\left(t \\right)}}{\\left(g^{2} + 2 g z_{dot dot}{\\left(t \\right)} + x_{dot dot}^{2}{\\left(t \\right)} + z_{dot dot}^{2}{\\left(t \\right)}\\right)^{1.0}}\\right)\\mathbf{\\hat{j}_{W}}$"
      ],
      "text/plain": [
       "((g*x_3dot(t) + x_3dot(t)*z_dot_dot(t) - x_dot_dot(t)*z_3dot(t))/(g**2 + 2*g*z_dot_dot(t) + x_dot_dot(t)**2 + z_dot_dot(t)**2)**1.0)*W.j"
      ]
     },
     "execution_count": 38,
     "metadata": {},
     "output_type": "execute_result"
    }
   ],
   "source": [
    "omega_e1b_xz.simplify()"
   ]
  },
  {
   "cell_type": "code",
   "execution_count": 43,
   "metadata": {},
   "outputs": [
    {
     "data": {
      "text/latex": [
       "$\\displaystyle \\left(\\frac{2 g^{2} y_{\\dot{3}}{\\left(t \\right)} \\frac{d}{d t} z_{dot dot}{\\left(t \\right)}}{\\left(g^{2} + 2 g z_{dot dot}{\\left(t \\right)} + x_{dot dot}^{2}{\\left(t \\right)} + y_{dot dot}^{2}{\\left(t \\right)} + z_{dot dot}^{2}{\\left(t \\right)}\\right)^{2.0}} + \\frac{2 g x_{dot dot}{\\left(t \\right)} y_{\\dot{3}}{\\left(t \\right)} \\frac{d}{d t} x_{dot dot}{\\left(t \\right)}}{\\left(g^{2} + 2 g z_{dot dot}{\\left(t \\right)} + x_{dot dot}^{2}{\\left(t \\right)} + y_{dot dot}^{2}{\\left(t \\right)} + z_{dot dot}^{2}{\\left(t \\right)}\\right)^{2.0}} + \\frac{2 g y_{\\dot{3}}{\\left(t \\right)} y_{dot dot}{\\left(t \\right)} \\frac{d}{d t} y_{dot dot}{\\left(t \\right)}}{\\left(g^{2} + 2 g z_{dot dot}{\\left(t \\right)} + x_{dot dot}^{2}{\\left(t \\right)} + y_{dot dot}^{2}{\\left(t \\right)} + z_{dot dot}^{2}{\\left(t \\right)}\\right)^{2.0}} + \\frac{4 g y_{\\dot{3}}{\\left(t \\right)} z_{dot dot}{\\left(t \\right)} \\frac{d}{d t} z_{dot dot}{\\left(t \\right)}}{\\left(g^{2} + 2 g z_{dot dot}{\\left(t \\right)} + x_{dot dot}^{2}{\\left(t \\right)} + y_{dot dot}^{2}{\\left(t \\right)} + z_{dot dot}^{2}{\\left(t \\right)}\\right)^{2.0}} - \\frac{2 g y_{dot dot}{\\left(t \\right)} z_{\\dot{3}}{\\left(t \\right)} \\frac{d}{d t} z_{dot dot}{\\left(t \\right)}}{\\left(g^{2} + 2 g z_{dot dot}{\\left(t \\right)} + x_{dot dot}^{2}{\\left(t \\right)} + y_{dot dot}^{2}{\\left(t \\right)} + z_{dot dot}^{2}{\\left(t \\right)}\\right)^{2.0}} - \\frac{g \\frac{d}{d t} y_{\\dot{3}}{\\left(t \\right)}}{\\left(g^{2} + 2 g z_{dot dot}{\\left(t \\right)} + x_{dot dot}^{2}{\\left(t \\right)} + y_{dot dot}^{2}{\\left(t \\right)} + z_{dot dot}^{2}{\\left(t \\right)}\\right)^{1.0}} + \\frac{2 x_{dot dot}{\\left(t \\right)} y_{\\dot{3}}{\\left(t \\right)} z_{dot dot}{\\left(t \\right)} \\frac{d}{d t} x_{dot dot}{\\left(t \\right)}}{\\left(g^{2} + 2 g z_{dot dot}{\\left(t \\right)} + x_{dot dot}^{2}{\\left(t \\right)} + y_{dot dot}^{2}{\\left(t \\right)} + z_{dot dot}^{2}{\\left(t \\right)}\\right)^{2.0}} - \\frac{2 x_{dot dot}{\\left(t \\right)} y_{dot dot}{\\left(t \\right)} z_{\\dot{3}}{\\left(t \\right)} \\frac{d}{d t} x_{dot dot}{\\left(t \\right)}}{\\left(g^{2} + 2 g z_{dot dot}{\\left(t \\right)} + x_{dot dot}^{2}{\\left(t \\right)} + y_{dot dot}^{2}{\\left(t \\right)} + z_{dot dot}^{2}{\\left(t \\right)}\\right)^{2.0}} + \\frac{2 y_{\\dot{3}}{\\left(t \\right)} y_{dot dot}{\\left(t \\right)} z_{dot dot}{\\left(t \\right)} \\frac{d}{d t} y_{dot dot}{\\left(t \\right)}}{\\left(g^{2} + 2 g z_{dot dot}{\\left(t \\right)} + x_{dot dot}^{2}{\\left(t \\right)} + y_{dot dot}^{2}{\\left(t \\right)} + z_{dot dot}^{2}{\\left(t \\right)}\\right)^{2.0}} + \\frac{2 y_{\\dot{3}}{\\left(t \\right)} z_{dot dot}^{2}{\\left(t \\right)} \\frac{d}{d t} z_{dot dot}{\\left(t \\right)}}{\\left(g^{2} + 2 g z_{dot dot}{\\left(t \\right)} + x_{dot dot}^{2}{\\left(t \\right)} + y_{dot dot}^{2}{\\left(t \\right)} + z_{dot dot}^{2}{\\left(t \\right)}\\right)^{2.0}} - \\frac{2 y_{dot dot}^{2}{\\left(t \\right)} z_{\\dot{3}}{\\left(t \\right)} \\frac{d}{d t} y_{dot dot}{\\left(t \\right)}}{\\left(g^{2} + 2 g z_{dot dot}{\\left(t \\right)} + x_{dot dot}^{2}{\\left(t \\right)} + y_{dot dot}^{2}{\\left(t \\right)} + z_{dot dot}^{2}{\\left(t \\right)}\\right)^{2.0}} - \\frac{2 y_{dot dot}{\\left(t \\right)} z_{\\dot{3}}{\\left(t \\right)} z_{dot dot}{\\left(t \\right)} \\frac{d}{d t} z_{dot dot}{\\left(t \\right)}}{\\left(g^{2} + 2 g z_{dot dot}{\\left(t \\right)} + x_{dot dot}^{2}{\\left(t \\right)} + y_{dot dot}^{2}{\\left(t \\right)} + z_{dot dot}^{2}{\\left(t \\right)}\\right)^{2.0}} - \\frac{y_{\\dot{3}}{\\left(t \\right)} \\frac{d}{d t} z_{dot dot}{\\left(t \\right)}}{\\left(g^{2} + 2 g z_{dot dot}{\\left(t \\right)} + x_{dot dot}^{2}{\\left(t \\right)} + y_{dot dot}^{2}{\\left(t \\right)} + z_{dot dot}^{2}{\\left(t \\right)}\\right)^{1.0}} + \\frac{y_{dot dot}{\\left(t \\right)} \\frac{d}{d t} z_{\\dot{3}}{\\left(t \\right)}}{\\left(g^{2} + 2 g z_{dot dot}{\\left(t \\right)} + x_{dot dot}^{2}{\\left(t \\right)} + y_{dot dot}^{2}{\\left(t \\right)} + z_{dot dot}^{2}{\\left(t \\right)}\\right)^{1.0}} + \\frac{z_{\\dot{3}}{\\left(t \\right)} \\frac{d}{d t} y_{dot dot}{\\left(t \\right)}}{\\left(g^{2} + 2 g z_{dot dot}{\\left(t \\right)} + x_{dot dot}^{2}{\\left(t \\right)} + y_{dot dot}^{2}{\\left(t \\right)} + z_{dot dot}^{2}{\\left(t \\right)}\\right)^{1.0}} - \\frac{z_{dot dot}{\\left(t \\right)} \\frac{d}{d t} y_{\\dot{3}}{\\left(t \\right)}}{\\left(g^{2} + 2 g z_{dot dot}{\\left(t \\right)} + x_{dot dot}^{2}{\\left(t \\right)} + y_{dot dot}^{2}{\\left(t \\right)} + z_{dot dot}^{2}{\\left(t \\right)}\\right)^{1.0}}\\right)\\mathbf{\\hat{i}_{W}} + \\left(- \\frac{2 g^{2} x_{\\dot{3}}{\\left(t \\right)} \\frac{d}{d t} z_{dot dot}{\\left(t \\right)}}{\\left(g^{2} + 2 g z_{dot dot}{\\left(t \\right)} + x_{dot dot}^{2}{\\left(t \\right)} + y_{dot dot}^{2}{\\left(t \\right)} + z_{dot dot}^{2}{\\left(t \\right)}\\right)^{2.0}} - \\frac{2 g x_{\\dot{3}}{\\left(t \\right)} x_{dot dot}{\\left(t \\right)} \\frac{d}{d t} x_{dot dot}{\\left(t \\right)}}{\\left(g^{2} + 2 g z_{dot dot}{\\left(t \\right)} + x_{dot dot}^{2}{\\left(t \\right)} + y_{dot dot}^{2}{\\left(t \\right)} + z_{dot dot}^{2}{\\left(t \\right)}\\right)^{2.0}} - \\frac{2 g x_{\\dot{3}}{\\left(t \\right)} y_{dot dot}{\\left(t \\right)} \\frac{d}{d t} y_{dot dot}{\\left(t \\right)}}{\\left(g^{2} + 2 g z_{dot dot}{\\left(t \\right)} + x_{dot dot}^{2}{\\left(t \\right)} + y_{dot dot}^{2}{\\left(t \\right)} + z_{dot dot}^{2}{\\left(t \\right)}\\right)^{2.0}} - \\frac{4 g x_{\\dot{3}}{\\left(t \\right)} z_{dot dot}{\\left(t \\right)} \\frac{d}{d t} z_{dot dot}{\\left(t \\right)}}{\\left(g^{2} + 2 g z_{dot dot}{\\left(t \\right)} + x_{dot dot}^{2}{\\left(t \\right)} + y_{dot dot}^{2}{\\left(t \\right)} + z_{dot dot}^{2}{\\left(t \\right)}\\right)^{2.0}} + \\frac{2 g x_{dot dot}{\\left(t \\right)} z_{\\dot{3}}{\\left(t \\right)} \\frac{d}{d t} z_{dot dot}{\\left(t \\right)}}{\\left(g^{2} + 2 g z_{dot dot}{\\left(t \\right)} + x_{dot dot}^{2}{\\left(t \\right)} + y_{dot dot}^{2}{\\left(t \\right)} + z_{dot dot}^{2}{\\left(t \\right)}\\right)^{2.0}} + \\frac{g \\frac{d}{d t} x_{\\dot{3}}{\\left(t \\right)}}{\\left(g^{2} + 2 g z_{dot dot}{\\left(t \\right)} + x_{dot dot}^{2}{\\left(t \\right)} + y_{dot dot}^{2}{\\left(t \\right)} + z_{dot dot}^{2}{\\left(t \\right)}\\right)^{1.0}} - \\frac{2 x_{\\dot{3}}{\\left(t \\right)} x_{dot dot}{\\left(t \\right)} z_{dot dot}{\\left(t \\right)} \\frac{d}{d t} x_{dot dot}{\\left(t \\right)}}{\\left(g^{2} + 2 g z_{dot dot}{\\left(t \\right)} + x_{dot dot}^{2}{\\left(t \\right)} + y_{dot dot}^{2}{\\left(t \\right)} + z_{dot dot}^{2}{\\left(t \\right)}\\right)^{2.0}} - \\frac{2 x_{\\dot{3}}{\\left(t \\right)} y_{dot dot}{\\left(t \\right)} z_{dot dot}{\\left(t \\right)} \\frac{d}{d t} y_{dot dot}{\\left(t \\right)}}{\\left(g^{2} + 2 g z_{dot dot}{\\left(t \\right)} + x_{dot dot}^{2}{\\left(t \\right)} + y_{dot dot}^{2}{\\left(t \\right)} + z_{dot dot}^{2}{\\left(t \\right)}\\right)^{2.0}} - \\frac{2 x_{\\dot{3}}{\\left(t \\right)} z_{dot dot}^{2}{\\left(t \\right)} \\frac{d}{d t} z_{dot dot}{\\left(t \\right)}}{\\left(g^{2} + 2 g z_{dot dot}{\\left(t \\right)} + x_{dot dot}^{2}{\\left(t \\right)} + y_{dot dot}^{2}{\\left(t \\right)} + z_{dot dot}^{2}{\\left(t \\right)}\\right)^{2.0}} + \\frac{2 x_{dot dot}^{2}{\\left(t \\right)} z_{\\dot{3}}{\\left(t \\right)} \\frac{d}{d t} x_{dot dot}{\\left(t \\right)}}{\\left(g^{2} + 2 g z_{dot dot}{\\left(t \\right)} + x_{dot dot}^{2}{\\left(t \\right)} + y_{dot dot}^{2}{\\left(t \\right)} + z_{dot dot}^{2}{\\left(t \\right)}\\right)^{2.0}} + \\frac{2 x_{dot dot}{\\left(t \\right)} y_{dot dot}{\\left(t \\right)} z_{\\dot{3}}{\\left(t \\right)} \\frac{d}{d t} y_{dot dot}{\\left(t \\right)}}{\\left(g^{2} + 2 g z_{dot dot}{\\left(t \\right)} + x_{dot dot}^{2}{\\left(t \\right)} + y_{dot dot}^{2}{\\left(t \\right)} + z_{dot dot}^{2}{\\left(t \\right)}\\right)^{2.0}} + \\frac{2 x_{dot dot}{\\left(t \\right)} z_{\\dot{3}}{\\left(t \\right)} z_{dot dot}{\\left(t \\right)} \\frac{d}{d t} z_{dot dot}{\\left(t \\right)}}{\\left(g^{2} + 2 g z_{dot dot}{\\left(t \\right)} + x_{dot dot}^{2}{\\left(t \\right)} + y_{dot dot}^{2}{\\left(t \\right)} + z_{dot dot}^{2}{\\left(t \\right)}\\right)^{2.0}} + \\frac{x_{\\dot{3}}{\\left(t \\right)} \\frac{d}{d t} z_{dot dot}{\\left(t \\right)}}{\\left(g^{2} + 2 g z_{dot dot}{\\left(t \\right)} + x_{dot dot}^{2}{\\left(t \\right)} + y_{dot dot}^{2}{\\left(t \\right)} + z_{dot dot}^{2}{\\left(t \\right)}\\right)^{1.0}} - \\frac{x_{dot dot}{\\left(t \\right)} \\frac{d}{d t} z_{\\dot{3}}{\\left(t \\right)}}{\\left(g^{2} + 2 g z_{dot dot}{\\left(t \\right)} + x_{dot dot}^{2}{\\left(t \\right)} + y_{dot dot}^{2}{\\left(t \\right)} + z_{dot dot}^{2}{\\left(t \\right)}\\right)^{1.0}} - \\frac{z_{\\dot{3}}{\\left(t \\right)} \\frac{d}{d t} x_{dot dot}{\\left(t \\right)}}{\\left(g^{2} + 2 g z_{dot dot}{\\left(t \\right)} + x_{dot dot}^{2}{\\left(t \\right)} + y_{dot dot}^{2}{\\left(t \\right)} + z_{dot dot}^{2}{\\left(t \\right)}\\right)^{1.0}} + \\frac{z_{dot dot}{\\left(t \\right)} \\frac{d}{d t} x_{\\dot{3}}{\\left(t \\right)}}{\\left(g^{2} + 2 g z_{dot dot}{\\left(t \\right)} + x_{dot dot}^{2}{\\left(t \\right)} + y_{dot dot}^{2}{\\left(t \\right)} + z_{dot dot}^{2}{\\left(t \\right)}\\right)^{1.0}}\\right)\\mathbf{\\hat{j}_{W}} + \\left(\\frac{2 g x_{\\dot{3}}{\\left(t \\right)} y_{dot dot}{\\left(t \\right)} \\frac{d}{d t} z_{dot dot}{\\left(t \\right)}}{\\left(g^{2} + 2 g z_{dot dot}{\\left(t \\right)} + x_{dot dot}^{2}{\\left(t \\right)} + y_{dot dot}^{2}{\\left(t \\right)} + z_{dot dot}^{2}{\\left(t \\right)}\\right)^{2.0}} - \\frac{2 g x_{dot dot}{\\left(t \\right)} y_{\\dot{3}}{\\left(t \\right)} \\frac{d}{d t} z_{dot dot}{\\left(t \\right)}}{\\left(g^{2} + 2 g z_{dot dot}{\\left(t \\right)} + x_{dot dot}^{2}{\\left(t \\right)} + y_{dot dot}^{2}{\\left(t \\right)} + z_{dot dot}^{2}{\\left(t \\right)}\\right)^{2.0}} + \\frac{2 x_{\\dot{3}}{\\left(t \\right)} x_{dot dot}{\\left(t \\right)} y_{dot dot}{\\left(t \\right)} \\frac{d}{d t} x_{dot dot}{\\left(t \\right)}}{\\left(g^{2} + 2 g z_{dot dot}{\\left(t \\right)} + x_{dot dot}^{2}{\\left(t \\right)} + y_{dot dot}^{2}{\\left(t \\right)} + z_{dot dot}^{2}{\\left(t \\right)}\\right)^{2.0}} + \\frac{2 x_{\\dot{3}}{\\left(t \\right)} y_{dot dot}^{2}{\\left(t \\right)} \\frac{d}{d t} y_{dot dot}{\\left(t \\right)}}{\\left(g^{2} + 2 g z_{dot dot}{\\left(t \\right)} + x_{dot dot}^{2}{\\left(t \\right)} + y_{dot dot}^{2}{\\left(t \\right)} + z_{dot dot}^{2}{\\left(t \\right)}\\right)^{2.0}} + \\frac{2 x_{\\dot{3}}{\\left(t \\right)} y_{dot dot}{\\left(t \\right)} z_{dot dot}{\\left(t \\right)} \\frac{d}{d t} z_{dot dot}{\\left(t \\right)}}{\\left(g^{2} + 2 g z_{dot dot}{\\left(t \\right)} + x_{dot dot}^{2}{\\left(t \\right)} + y_{dot dot}^{2}{\\left(t \\right)} + z_{dot dot}^{2}{\\left(t \\right)}\\right)^{2.0}} - \\frac{2 x_{dot dot}^{2}{\\left(t \\right)} y_{\\dot{3}}{\\left(t \\right)} \\frac{d}{d t} x_{dot dot}{\\left(t \\right)}}{\\left(g^{2} + 2 g z_{dot dot}{\\left(t \\right)} + x_{dot dot}^{2}{\\left(t \\right)} + y_{dot dot}^{2}{\\left(t \\right)} + z_{dot dot}^{2}{\\left(t \\right)}\\right)^{2.0}} - \\frac{2 x_{dot dot}{\\left(t \\right)} y_{\\dot{3}}{\\left(t \\right)} y_{dot dot}{\\left(t \\right)} \\frac{d}{d t} y_{dot dot}{\\left(t \\right)}}{\\left(g^{2} + 2 g z_{dot dot}{\\left(t \\right)} + x_{dot dot}^{2}{\\left(t \\right)} + y_{dot dot}^{2}{\\left(t \\right)} + z_{dot dot}^{2}{\\left(t \\right)}\\right)^{2.0}} - \\frac{2 x_{dot dot}{\\left(t \\right)} y_{\\dot{3}}{\\left(t \\right)} z_{dot dot}{\\left(t \\right)} \\frac{d}{d t} z_{dot dot}{\\left(t \\right)}}{\\left(g^{2} + 2 g z_{dot dot}{\\left(t \\right)} + x_{dot dot}^{2}{\\left(t \\right)} + y_{dot dot}^{2}{\\left(t \\right)} + z_{dot dot}^{2}{\\left(t \\right)}\\right)^{2.0}} - \\frac{x_{\\dot{3}}{\\left(t \\right)} \\frac{d}{d t} y_{dot dot}{\\left(t \\right)}}{\\left(g^{2} + 2 g z_{dot dot}{\\left(t \\right)} + x_{dot dot}^{2}{\\left(t \\right)} + y_{dot dot}^{2}{\\left(t \\right)} + z_{dot dot}^{2}{\\left(t \\right)}\\right)^{1.0}} + \\frac{x_{dot dot}{\\left(t \\right)} \\frac{d}{d t} y_{\\dot{3}}{\\left(t \\right)}}{\\left(g^{2} + 2 g z_{dot dot}{\\left(t \\right)} + x_{dot dot}^{2}{\\left(t \\right)} + y_{dot dot}^{2}{\\left(t \\right)} + z_{dot dot}^{2}{\\left(t \\right)}\\right)^{1.0}} + \\frac{y_{\\dot{3}}{\\left(t \\right)} \\frac{d}{d t} x_{dot dot}{\\left(t \\right)}}{\\left(g^{2} + 2 g z_{dot dot}{\\left(t \\right)} + x_{dot dot}^{2}{\\left(t \\right)} + y_{dot dot}^{2}{\\left(t \\right)} + z_{dot dot}^{2}{\\left(t \\right)}\\right)^{1.0}} - \\frac{y_{dot dot}{\\left(t \\right)} \\frac{d}{d t} x_{\\dot{3}}{\\left(t \\right)}}{\\left(g^{2} + 2 g z_{dot dot}{\\left(t \\right)} + x_{dot dot}^{2}{\\left(t \\right)} + y_{dot dot}^{2}{\\left(t \\right)} + z_{dot dot}^{2}{\\left(t \\right)}\\right)^{1.0}}\\right)\\mathbf{\\hat{k}_{W}}$"
      ],
      "text/plain": [
       "(2*g**2*y_3dot(t)*Derivative(z_dot_dot(t), t)/(g**2 + 2*g*z_dot_dot(t) + x_dot_dot(t)**2 + y_dot_dot(t)**2 + z_dot_dot(t)**2)**2.0 + 2*g*x_dot_dot(t)*y_3dot(t)*Derivative(x_dot_dot(t), t)/(g**2 + 2*g*z_dot_dot(t) + x_dot_dot(t)**2 + y_dot_dot(t)**2 + z_dot_dot(t)**2)**2.0 + 2*g*y_3dot(t)*y_dot_dot(t)*Derivative(y_dot_dot(t), t)/(g**2 + 2*g*z_dot_dot(t) + x_dot_dot(t)**2 + y_dot_dot(t)**2 + z_dot_dot(t)**2)**2.0 + 4*g*y_3dot(t)*z_dot_dot(t)*Derivative(z_dot_dot(t), t)/(g**2 + 2*g*z_dot_dot(t) + x_dot_dot(t)**2 + y_dot_dot(t)**2 + z_dot_dot(t)**2)**2.0 - 2*g*y_dot_dot(t)*z_3dot(t)*Derivative(z_dot_dot(t), t)/(g**2 + 2*g*z_dot_dot(t) + x_dot_dot(t)**2 + y_dot_dot(t)**2 + z_dot_dot(t)**2)**2.0 - g*Derivative(y_3dot(t), t)/(g**2 + 2*g*z_dot_dot(t) + x_dot_dot(t)**2 + y_dot_dot(t)**2 + z_dot_dot(t)**2)**1.0 + 2*x_dot_dot(t)*y_3dot(t)*z_dot_dot(t)*Derivative(x_dot_dot(t), t)/(g**2 + 2*g*z_dot_dot(t) + x_dot_dot(t)**2 + y_dot_dot(t)**2 + z_dot_dot(t)**2)**2.0 - 2*x_dot_dot(t)*y_dot_dot(t)*z_3dot(t)*Derivative(x_dot_dot(t), t)/(g**2 + 2*g*z_dot_dot(t) + x_dot_dot(t)**2 + y_dot_dot(t)**2 + z_dot_dot(t)**2)**2.0 + 2*y_3dot(t)*y_dot_dot(t)*z_dot_dot(t)*Derivative(y_dot_dot(t), t)/(g**2 + 2*g*z_dot_dot(t) + x_dot_dot(t)**2 + y_dot_dot(t)**2 + z_dot_dot(t)**2)**2.0 + 2*y_3dot(t)*z_dot_dot(t)**2*Derivative(z_dot_dot(t), t)/(g**2 + 2*g*z_dot_dot(t) + x_dot_dot(t)**2 + y_dot_dot(t)**2 + z_dot_dot(t)**2)**2.0 - 2*y_dot_dot(t)**2*z_3dot(t)*Derivative(y_dot_dot(t), t)/(g**2 + 2*g*z_dot_dot(t) + x_dot_dot(t)**2 + y_dot_dot(t)**2 + z_dot_dot(t)**2)**2.0 - 2*y_dot_dot(t)*z_3dot(t)*z_dot_dot(t)*Derivative(z_dot_dot(t), t)/(g**2 + 2*g*z_dot_dot(t) + x_dot_dot(t)**2 + y_dot_dot(t)**2 + z_dot_dot(t)**2)**2.0 - y_3dot(t)*Derivative(z_dot_dot(t), t)/(g**2 + 2*g*z_dot_dot(t) + x_dot_dot(t)**2 + y_dot_dot(t)**2 + z_dot_dot(t)**2)**1.0 + y_dot_dot(t)*Derivative(z_3dot(t), t)/(g**2 + 2*g*z_dot_dot(t) + x_dot_dot(t)**2 + y_dot_dot(t)**2 + z_dot_dot(t)**2)**1.0 + z_3dot(t)*Derivative(y_dot_dot(t), t)/(g**2 + 2*g*z_dot_dot(t) + x_dot_dot(t)**2 + y_dot_dot(t)**2 + z_dot_dot(t)**2)**1.0 - z_dot_dot(t)*Derivative(y_3dot(t), t)/(g**2 + 2*g*z_dot_dot(t) + x_dot_dot(t)**2 + y_dot_dot(t)**2 + z_dot_dot(t)**2)**1.0)*W.i + (-2*g**2*x_3dot(t)*Derivative(z_dot_dot(t), t)/(g**2 + 2*g*z_dot_dot(t) + x_dot_dot(t)**2 + y_dot_dot(t)**2 + z_dot_dot(t)**2)**2.0 - 2*g*x_3dot(t)*x_dot_dot(t)*Derivative(x_dot_dot(t), t)/(g**2 + 2*g*z_dot_dot(t) + x_dot_dot(t)**2 + y_dot_dot(t)**2 + z_dot_dot(t)**2)**2.0 - 2*g*x_3dot(t)*y_dot_dot(t)*Derivative(y_dot_dot(t), t)/(g**2 + 2*g*z_dot_dot(t) + x_dot_dot(t)**2 + y_dot_dot(t)**2 + z_dot_dot(t)**2)**2.0 - 4*g*x_3dot(t)*z_dot_dot(t)*Derivative(z_dot_dot(t), t)/(g**2 + 2*g*z_dot_dot(t) + x_dot_dot(t)**2 + y_dot_dot(t)**2 + z_dot_dot(t)**2)**2.0 + 2*g*x_dot_dot(t)*z_3dot(t)*Derivative(z_dot_dot(t), t)/(g**2 + 2*g*z_dot_dot(t) + x_dot_dot(t)**2 + y_dot_dot(t)**2 + z_dot_dot(t)**2)**2.0 + g*Derivative(x_3dot(t), t)/(g**2 + 2*g*z_dot_dot(t) + x_dot_dot(t)**2 + y_dot_dot(t)**2 + z_dot_dot(t)**2)**1.0 - 2*x_3dot(t)*x_dot_dot(t)*z_dot_dot(t)*Derivative(x_dot_dot(t), t)/(g**2 + 2*g*z_dot_dot(t) + x_dot_dot(t)**2 + y_dot_dot(t)**2 + z_dot_dot(t)**2)**2.0 - 2*x_3dot(t)*y_dot_dot(t)*z_dot_dot(t)*Derivative(y_dot_dot(t), t)/(g**2 + 2*g*z_dot_dot(t) + x_dot_dot(t)**2 + y_dot_dot(t)**2 + z_dot_dot(t)**2)**2.0 - 2*x_3dot(t)*z_dot_dot(t)**2*Derivative(z_dot_dot(t), t)/(g**2 + 2*g*z_dot_dot(t) + x_dot_dot(t)**2 + y_dot_dot(t)**2 + z_dot_dot(t)**2)**2.0 + 2*x_dot_dot(t)**2*z_3dot(t)*Derivative(x_dot_dot(t), t)/(g**2 + 2*g*z_dot_dot(t) + x_dot_dot(t)**2 + y_dot_dot(t)**2 + z_dot_dot(t)**2)**2.0 + 2*x_dot_dot(t)*y_dot_dot(t)*z_3dot(t)*Derivative(y_dot_dot(t), t)/(g**2 + 2*g*z_dot_dot(t) + x_dot_dot(t)**2 + y_dot_dot(t)**2 + z_dot_dot(t)**2)**2.0 + 2*x_dot_dot(t)*z_3dot(t)*z_dot_dot(t)*Derivative(z_dot_dot(t), t)/(g**2 + 2*g*z_dot_dot(t) + x_dot_dot(t)**2 + y_dot_dot(t)**2 + z_dot_dot(t)**2)**2.0 + x_3dot(t)*Derivative(z_dot_dot(t), t)/(g**2 + 2*g*z_dot_dot(t) + x_dot_dot(t)**2 + y_dot_dot(t)**2 + z_dot_dot(t)**2)**1.0 - x_dot_dot(t)*Derivative(z_3dot(t), t)/(g**2 + 2*g*z_dot_dot(t) + x_dot_dot(t)**2 + y_dot_dot(t)**2 + z_dot_dot(t)**2)**1.0 - z_3dot(t)*Derivative(x_dot_dot(t), t)/(g**2 + 2*g*z_dot_dot(t) + x_dot_dot(t)**2 + y_dot_dot(t)**2 + z_dot_dot(t)**2)**1.0 + z_dot_dot(t)*Derivative(x_3dot(t), t)/(g**2 + 2*g*z_dot_dot(t) + x_dot_dot(t)**2 + y_dot_dot(t)**2 + z_dot_dot(t)**2)**1.0)*W.j + (2*g*x_3dot(t)*y_dot_dot(t)*Derivative(z_dot_dot(t), t)/(g**2 + 2*g*z_dot_dot(t) + x_dot_dot(t)**2 + y_dot_dot(t)**2 + z_dot_dot(t)**2)**2.0 - 2*g*x_dot_dot(t)*y_3dot(t)*Derivative(z_dot_dot(t), t)/(g**2 + 2*g*z_dot_dot(t) + x_dot_dot(t)**2 + y_dot_dot(t)**2 + z_dot_dot(t)**2)**2.0 + 2*x_3dot(t)*x_dot_dot(t)*y_dot_dot(t)*Derivative(x_dot_dot(t), t)/(g**2 + 2*g*z_dot_dot(t) + x_dot_dot(t)**2 + y_dot_dot(t)**2 + z_dot_dot(t)**2)**2.0 + 2*x_3dot(t)*y_dot_dot(t)**2*Derivative(y_dot_dot(t), t)/(g**2 + 2*g*z_dot_dot(t) + x_dot_dot(t)**2 + y_dot_dot(t)**2 + z_dot_dot(t)**2)**2.0 + 2*x_3dot(t)*y_dot_dot(t)*z_dot_dot(t)*Derivative(z_dot_dot(t), t)/(g**2 + 2*g*z_dot_dot(t) + x_dot_dot(t)**2 + y_dot_dot(t)**2 + z_dot_dot(t)**2)**2.0 - 2*x_dot_dot(t)**2*y_3dot(t)*Derivative(x_dot_dot(t), t)/(g**2 + 2*g*z_dot_dot(t) + x_dot_dot(t)**2 + y_dot_dot(t)**2 + z_dot_dot(t)**2)**2.0 - 2*x_dot_dot(t)*y_3dot(t)*y_dot_dot(t)*Derivative(y_dot_dot(t), t)/(g**2 + 2*g*z_dot_dot(t) + x_dot_dot(t)**2 + y_dot_dot(t)**2 + z_dot_dot(t)**2)**2.0 - 2*x_dot_dot(t)*y_3dot(t)*z_dot_dot(t)*Derivative(z_dot_dot(t), t)/(g**2 + 2*g*z_dot_dot(t) + x_dot_dot(t)**2 + y_dot_dot(t)**2 + z_dot_dot(t)**2)**2.0 - x_3dot(t)*Derivative(y_dot_dot(t), t)/(g**2 + 2*g*z_dot_dot(t) + x_dot_dot(t)**2 + y_dot_dot(t)**2 + z_dot_dot(t)**2)**1.0 + x_dot_dot(t)*Derivative(y_3dot(t), t)/(g**2 + 2*g*z_dot_dot(t) + x_dot_dot(t)**2 + y_dot_dot(t)**2 + z_dot_dot(t)**2)**1.0 + y_3dot(t)*Derivative(x_dot_dot(t), t)/(g**2 + 2*g*z_dot_dot(t) + x_dot_dot(t)**2 + y_dot_dot(t)**2 + z_dot_dot(t)**2)**1.0 - y_dot_dot(t)*Derivative(x_3dot(t), t)/(g**2 + 2*g*z_dot_dot(t) + x_dot_dot(t)**2 + y_dot_dot(t)**2 + z_dot_dot(t)**2)**1.0)*W.k"
      ]
     },
     "execution_count": 43,
     "metadata": {},
     "output_type": "execute_result"
    }
   ],
   "source": [
    "omega_dot_e1b = omega_e1b.diff(t)\n",
    "omega_dot_e1b = omega_dot_e1b.simplify()\n",
    "omega_dot_e1b"
   ]
  },
  {
   "cell_type": "code",
   "execution_count": 45,
   "metadata": {},
   "outputs": [
    {
     "data": {
      "text/latex": [
       "$\\displaystyle \\left(\\frac{2 \\left(g^{2} + 2 g z_{dot dot}{\\left(t \\right)} + x_{dot dot}^{2}{\\left(t \\right)} + z_{dot dot}^{2}{\\left(t \\right)}\\right)^{1.0} \\left(- g^{2} x_{\\dot{3}}{\\left(t \\right)} \\frac{d}{d t} z_{dot dot}{\\left(t \\right)} - g x_{\\dot{3}}{\\left(t \\right)} x_{dot dot}{\\left(t \\right)} \\frac{d}{d t} x_{dot dot}{\\left(t \\right)} - 2 g x_{\\dot{3}}{\\left(t \\right)} z_{dot dot}{\\left(t \\right)} \\frac{d}{d t} z_{dot dot}{\\left(t \\right)} + g x_{dot dot}{\\left(t \\right)} z_{\\dot{3}}{\\left(t \\right)} \\frac{d}{d t} z_{dot dot}{\\left(t \\right)} - x_{\\dot{3}}{\\left(t \\right)} x_{dot dot}{\\left(t \\right)} z_{dot dot}{\\left(t \\right)} \\frac{d}{d t} x_{dot dot}{\\left(t \\right)} - x_{\\dot{3}}{\\left(t \\right)} z_{dot dot}^{2}{\\left(t \\right)} \\frac{d}{d t} z_{dot dot}{\\left(t \\right)} + x_{dot dot}^{2}{\\left(t \\right)} z_{\\dot{3}}{\\left(t \\right)} \\frac{d}{d t} x_{dot dot}{\\left(t \\right)} + x_{dot dot}{\\left(t \\right)} z_{\\dot{3}}{\\left(t \\right)} z_{dot dot}{\\left(t \\right)} \\frac{d}{d t} z_{dot dot}{\\left(t \\right)}\\right) + \\left(g^{2} + 2 g z_{dot dot}{\\left(t \\right)} + x_{dot dot}^{2}{\\left(t \\right)} + z_{dot dot}^{2}{\\left(t \\right)}\\right)^{2.0} \\left(g \\frac{d}{d t} x_{\\dot{3}}{\\left(t \\right)} + x_{\\dot{3}}{\\left(t \\right)} \\frac{d}{d t} z_{dot dot}{\\left(t \\right)} - x_{dot dot}{\\left(t \\right)} \\frac{d}{d t} z_{\\dot{3}}{\\left(t \\right)} - z_{\\dot{3}}{\\left(t \\right)} \\frac{d}{d t} x_{dot dot}{\\left(t \\right)} + z_{dot dot}{\\left(t \\right)} \\frac{d}{d t} x_{\\dot{3}}{\\left(t \\right)}\\right)}{\\left(g^{2} + 2 g z_{dot dot}{\\left(t \\right)} + x_{dot dot}^{2}{\\left(t \\right)} + z_{dot dot}^{2}{\\left(t \\right)}\\right)^{3.0}}\\right)\\mathbf{\\hat{j}_{W}}$"
      ],
      "text/plain": [
       "((2*(g**2 + 2*g*z_dot_dot(t) + x_dot_dot(t)**2 + z_dot_dot(t)**2)**1.0*(-g**2*x_3dot(t)*Derivative(z_dot_dot(t), t) - g*x_3dot(t)*x_dot_dot(t)*Derivative(x_dot_dot(t), t) - 2*g*x_3dot(t)*z_dot_dot(t)*Derivative(z_dot_dot(t), t) + g*x_dot_dot(t)*z_3dot(t)*Derivative(z_dot_dot(t), t) - x_3dot(t)*x_dot_dot(t)*z_dot_dot(t)*Derivative(x_dot_dot(t), t) - x_3dot(t)*z_dot_dot(t)**2*Derivative(z_dot_dot(t), t) + x_dot_dot(t)**2*z_3dot(t)*Derivative(x_dot_dot(t), t) + x_dot_dot(t)*z_3dot(t)*z_dot_dot(t)*Derivative(z_dot_dot(t), t)) + (g**2 + 2*g*z_dot_dot(t) + x_dot_dot(t)**2 + z_dot_dot(t)**2)**2.0*(g*Derivative(x_3dot(t), t) + x_3dot(t)*Derivative(z_dot_dot(t), t) - x_dot_dot(t)*Derivative(z_3dot(t), t) - z_3dot(t)*Derivative(x_dot_dot(t), t) + z_dot_dot(t)*Derivative(x_3dot(t), t)))/(g**2 + 2*g*z_dot_dot(t) + x_dot_dot(t)**2 + z_dot_dot(t)**2)**3.0)*W.j"
      ]
     },
     "execution_count": 45,
     "metadata": {},
     "output_type": "execute_result"
    }
   ],
   "source": [
    "omega_dot_e1b_xz = omega_dot_e1b.subs({y_dot: 0, y_dot_dot: 0, y_3dot: 0})\n",
    "omega_dot_e1b_xz.simplify()"
   ]
  },
  {
   "cell_type": "code",
   "execution_count": 46,
   "metadata": {},
   "outputs": [
    {
     "name": "stdout",
     "output_type": "stream",
     "text": [
      "g = Symbol('g')\n",
      "t = Symbol('t')\n",
      "y_3dot = Function('y_3dot')\n",
      "z_dot_dot = Function('z_dot_dot')\n",
      "x_dot_dot = Function('x_dot_dot')\n",
      "y_dot_dot = Function('y_dot_dot')\n",
      "z_3dot = Function('z_3dot')\n",
      "x_3dot = Function('x_3dot')\n",
      "e = CoordSys3D(Str('W'), (ImmutableDenseMatrix([[1, 0, 0], [0, 1, 0], [0, 0, 1]]), VectorZero())).i*(2*g**2*y_3dot(t)*Derivative(z_dot_dot(t), t)/(g**2 + 2*g*z_dot_dot(t) + x_dot_dot(t)**2 + y_dot_dot(t)**2 + z_dot_dot(t)**2)**Float('2.0', precision=53) + 2*g*x_dot_dot(t)*y_3dot(t)*Derivative(x_dot_dot(t), t)/(g**2 + 2*g*z_dot_dot(t) + x_dot_dot(t)**2 + y_dot_dot(t)**2 + z_dot_dot(t)**2)**Float('2.0', precision=53) + 2*g*y_3dot(t)*y_dot_dot(t)*Derivative(y_dot_dot(t), t)/(g**2 + 2*g*z_dot_dot(t) + x_dot_dot(t)**2 + y_dot_dot(t)**2 + z_dot_dot(t)**2)**Float('2.0', precision=53) + 4*g*y_3dot(t)*z_dot_dot(t)*Derivative(z_dot_dot(t), t)/(g**2 + 2*g*z_dot_dot(t) + x_dot_dot(t)**2 + y_dot_dot(t)**2 + z_dot_dot(t)**2)**Float('2.0', precision=53) - 2*g*y_dot_dot(t)*z_3dot(t)*Derivative(z_dot_dot(t), t)/(g**2 + 2*g*z_dot_dot(t) + x_dot_dot(t)**2 + y_dot_dot(t)**2 + z_dot_dot(t)**2)**Float('2.0', precision=53) - g*Derivative(y_3dot(t), t)/(g**2 + 2*g*z_dot_dot(t) + x_dot_dot(t)**2 + y_dot_dot(t)**2 + z_dot_dot(t)**2)**Float('1.0', precision=53) + 2*x_dot_dot(t)*y_3dot(t)*z_dot_dot(t)*Derivative(x_dot_dot(t), t)/(g**2 + 2*g*z_dot_dot(t) + x_dot_dot(t)**2 + y_dot_dot(t)**2 + z_dot_dot(t)**2)**Float('2.0', precision=53) - 2*x_dot_dot(t)*y_dot_dot(t)*z_3dot(t)*Derivative(x_dot_dot(t), t)/(g**2 + 2*g*z_dot_dot(t) + x_dot_dot(t)**2 + y_dot_dot(t)**2 + z_dot_dot(t)**2)**Float('2.0', precision=53) + 2*y_3dot(t)*y_dot_dot(t)*z_dot_dot(t)*Derivative(y_dot_dot(t), t)/(g**2 + 2*g*z_dot_dot(t) + x_dot_dot(t)**2 + y_dot_dot(t)**2 + z_dot_dot(t)**2)**Float('2.0', precision=53) + 2*y_3dot(t)*z_dot_dot(t)**2*Derivative(z_dot_dot(t), t)/(g**2 + 2*g*z_dot_dot(t) + x_dot_dot(t)**2 + y_dot_dot(t)**2 + z_dot_dot(t)**2)**Float('2.0', precision=53) - 2*y_dot_dot(t)**2*z_3dot(t)*Derivative(y_dot_dot(t), t)/(g**2 + 2*g*z_dot_dot(t) + x_dot_dot(t)**2 + y_dot_dot(t)**2 + z_dot_dot(t)**2)**Float('2.0', precision=53) - 2*y_dot_dot(t)*z_3dot(t)*z_dot_dot(t)*Derivative(z_dot_dot(t), t)/(g**2 + 2*g*z_dot_dot(t) + x_dot_dot(t)**2 + y_dot_dot(t)**2 + z_dot_dot(t)**2)**Float('2.0', precision=53) - y_3dot(t)*Derivative(z_dot_dot(t), t)/(g**2 + 2*g*z_dot_dot(t) + x_dot_dot(t)**2 + y_dot_dot(t)**2 + z_dot_dot(t)**2)**Float('1.0', precision=53) + y_dot_dot(t)*Derivative(z_3dot(t), t)/(g**2 + 2*g*z_dot_dot(t) + x_dot_dot(t)**2 + y_dot_dot(t)**2 + z_dot_dot(t)**2)**Float('1.0', precision=53) + z_3dot(t)*Derivative(y_dot_dot(t), t)/(g**2 + 2*g*z_dot_dot(t) + x_dot_dot(t)**2 + y_dot_dot(t)**2 + z_dot_dot(t)**2)**Float('1.0', precision=53) - z_dot_dot(t)*Derivative(y_3dot(t), t)/(g**2 + 2*g*z_dot_dot(t) + x_dot_dot(t)**2 + y_dot_dot(t)**2 + z_dot_dot(t)**2)**Float('1.0', precision=53)) + CoordSys3D(Str('W'), (ImmutableDenseMatrix([[1, 0, 0], [0, 1, 0], [0, 0, 1]]), VectorZero())).j*(-2*g**2*x_3dot(t)*Derivative(z_dot_dot(t), t)/(g**2 + 2*g*z_dot_dot(t) + x_dot_dot(t)**2 + y_dot_dot(t)**2 + z_dot_dot(t)**2)**Float('2.0', precision=53) - 2*g*x_3dot(t)*x_dot_dot(t)*Derivative(x_dot_dot(t), t)/(g**2 + 2*g*z_dot_dot(t) + x_dot_dot(t)**2 + y_dot_dot(t)**2 + z_dot_dot(t)**2)**Float('2.0', precision=53) - 2*g*x_3dot(t)*y_dot_dot(t)*Derivative(y_dot_dot(t), t)/(g**2 + 2*g*z_dot_dot(t) + x_dot_dot(t)**2 + y_dot_dot(t)**2 + z_dot_dot(t)**2)**Float('2.0', precision=53) - 4*g*x_3dot(t)*z_dot_dot(t)*Derivative(z_dot_dot(t), t)/(g**2 + 2*g*z_dot_dot(t) + x_dot_dot(t)**2 + y_dot_dot(t)**2 + z_dot_dot(t)**2)**Float('2.0', precision=53) + 2*g*x_dot_dot(t)*z_3dot(t)*Derivative(z_dot_dot(t), t)/(g**2 + 2*g*z_dot_dot(t) + x_dot_dot(t)**2 + y_dot_dot(t)**2 + z_dot_dot(t)**2)**Float('2.0', precision=53) + g*Derivative(x_3dot(t), t)/(g**2 + 2*g*z_dot_dot(t) + x_dot_dot(t)**2 + y_dot_dot(t)**2 + z_dot_dot(t)**2)**Float('1.0', precision=53) - 2*x_3dot(t)*x_dot_dot(t)*z_dot_dot(t)*Derivative(x_dot_dot(t), t)/(g**2 + 2*g*z_dot_dot(t) + x_dot_dot(t)**2 + y_dot_dot(t)**2 + z_dot_dot(t)**2)**Float('2.0', precision=53) - 2*x_3dot(t)*y_dot_dot(t)*z_dot_dot(t)*Derivative(y_dot_dot(t), t)/(g**2 + 2*g*z_dot_dot(t) + x_dot_dot(t)**2 + y_dot_dot(t)**2 + z_dot_dot(t)**2)**Float('2.0', precision=53) - 2*x_3dot(t)*z_dot_dot(t)**2*Derivative(z_dot_dot(t), t)/(g**2 + 2*g*z_dot_dot(t) + x_dot_dot(t)**2 + y_dot_dot(t)**2 + z_dot_dot(t)**2)**Float('2.0', precision=53) + 2*x_dot_dot(t)**2*z_3dot(t)*Derivative(x_dot_dot(t), t)/(g**2 + 2*g*z_dot_dot(t) + x_dot_dot(t)**2 + y_dot_dot(t)**2 + z_dot_dot(t)**2)**Float('2.0', precision=53) + 2*x_dot_dot(t)*y_dot_dot(t)*z_3dot(t)*Derivative(y_dot_dot(t), t)/(g**2 + 2*g*z_dot_dot(t) + x_dot_dot(t)**2 + y_dot_dot(t)**2 + z_dot_dot(t)**2)**Float('2.0', precision=53) + 2*x_dot_dot(t)*z_3dot(t)*z_dot_dot(t)*Derivative(z_dot_dot(t), t)/(g**2 + 2*g*z_dot_dot(t) + x_dot_dot(t)**2 + y_dot_dot(t)**2 + z_dot_dot(t)**2)**Float('2.0', precision=53) + x_3dot(t)*Derivative(z_dot_dot(t), t)/(g**2 + 2*g*z_dot_dot(t) + x_dot_dot(t)**2 + y_dot_dot(t)**2 + z_dot_dot(t)**2)**Float('1.0', precision=53) - x_dot_dot(t)*Derivative(z_3dot(t), t)/(g**2 + 2*g*z_dot_dot(t) + x_dot_dot(t)**2 + y_dot_dot(t)**2 + z_dot_dot(t)**2)**Float('1.0', precision=53) - z_3dot(t)*Derivative(x_dot_dot(t), t)/(g**2 + 2*g*z_dot_dot(t) + x_dot_dot(t)**2 + y_dot_dot(t)**2 + z_dot_dot(t)**2)**Float('1.0', precision=53) + z_dot_dot(t)*Derivative(x_3dot(t), t)/(g**2 + 2*g*z_dot_dot(t) + x_dot_dot(t)**2 + y_dot_dot(t)**2 + z_dot_dot(t)**2)**Float('1.0', precision=53)) + CoordSys3D(Str('W'), (ImmutableDenseMatrix([[1, 0, 0], [0, 1, 0], [0, 0, 1]]), VectorZero())).k*(2*g*x_3dot(t)*y_dot_dot(t)*Derivative(z_dot_dot(t), t)/(g**2 + 2*g*z_dot_dot(t) + x_dot_dot(t)**2 + y_dot_dot(t)**2 + z_dot_dot(t)**2)**Float('2.0', precision=53) - 2*g*x_dot_dot(t)*y_3dot(t)*Derivative(z_dot_dot(t), t)/(g**2 + 2*g*z_dot_dot(t) + x_dot_dot(t)**2 + y_dot_dot(t)**2 + z_dot_dot(t)**2)**Float('2.0', precision=53) + 2*x_3dot(t)*x_dot_dot(t)*y_dot_dot(t)*Derivative(x_dot_dot(t), t)/(g**2 + 2*g*z_dot_dot(t) + x_dot_dot(t)**2 + y_dot_dot(t)**2 + z_dot_dot(t)**2)**Float('2.0', precision=53) + 2*x_3dot(t)*y_dot_dot(t)**2*Derivative(y_dot_dot(t), t)/(g**2 + 2*g*z_dot_dot(t) + x_dot_dot(t)**2 + y_dot_dot(t)**2 + z_dot_dot(t)**2)**Float('2.0', precision=53) + 2*x_3dot(t)*y_dot_dot(t)*z_dot_dot(t)*Derivative(z_dot_dot(t), t)/(g**2 + 2*g*z_dot_dot(t) + x_dot_dot(t)**2 + y_dot_dot(t)**2 + z_dot_dot(t)**2)**Float('2.0', precision=53) - 2*x_dot_dot(t)**2*y_3dot(t)*Derivative(x_dot_dot(t), t)/(g**2 + 2*g*z_dot_dot(t) + x_dot_dot(t)**2 + y_dot_dot(t)**2 + z_dot_dot(t)**2)**Float('2.0', precision=53) - 2*x_dot_dot(t)*y_3dot(t)*y_dot_dot(t)*Derivative(y_dot_dot(t), t)/(g**2 + 2*g*z_dot_dot(t) + x_dot_dot(t)**2 + y_dot_dot(t)**2 + z_dot_dot(t)**2)**Float('2.0', precision=53) - 2*x_dot_dot(t)*y_3dot(t)*z_dot_dot(t)*Derivative(z_dot_dot(t), t)/(g**2 + 2*g*z_dot_dot(t) + x_dot_dot(t)**2 + y_dot_dot(t)**2 + z_dot_dot(t)**2)**Float('2.0', precision=53) - x_3dot(t)*Derivative(y_dot_dot(t), t)/(g**2 + 2*g*z_dot_dot(t) + x_dot_dot(t)**2 + y_dot_dot(t)**2 + z_dot_dot(t)**2)**Float('1.0', precision=53) + x_dot_dot(t)*Derivative(y_3dot(t), t)/(g**2 + 2*g*z_dot_dot(t) + x_dot_dot(t)**2 + y_dot_dot(t)**2 + z_dot_dot(t)**2)**Float('1.0', precision=53) + y_3dot(t)*Derivative(x_dot_dot(t), t)/(g**2 + 2*g*z_dot_dot(t) + x_dot_dot(t)**2 + y_dot_dot(t)**2 + z_dot_dot(t)**2)**Float('1.0', precision=53) - y_dot_dot(t)*Derivative(x_3dot(t), t)/(g**2 + 2*g*z_dot_dot(t) + x_dot_dot(t)**2 + y_dot_dot(t)**2 + z_dot_dot(t)**2)**Float('1.0', precision=53))\n"
     ]
    }
   ],
   "source": [
    "sp.print_python(omega_dot_e1b)"
   ]
  },
  {
   "cell_type": "code",
   "execution_count": null,
   "metadata": {},
   "outputs": [],
   "source": []
  }
 ],
 "metadata": {
  "kernelspec": {
   "display_name": "base",
   "language": "python",
   "name": "python3"
  },
  "language_info": {
   "codemirror_mode": {
    "name": "ipython",
    "version": 3
   },
   "file_extension": ".py",
   "mimetype": "text/x-python",
   "name": "python",
   "nbconvert_exporter": "python",
   "pygments_lexer": "ipython3",
   "version": "3.10.9"
  },
  "orig_nbformat": 4
 },
 "nbformat": 4,
 "nbformat_minor": 2
}
