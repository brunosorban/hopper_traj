{
 "cells": [
  {
   "cell_type": "code",
   "execution_count": 3,
   "metadata": {},
   "outputs": [],
   "source": [
    "import sympy as sp"
   ]
  },
  {
   "cell_type": "code",
   "execution_count": 4,
   "metadata": {},
   "outputs": [],
   "source": [
    "# initialize symbols\n",
    "t, g, m, J_z, l_tvc = sp.symbols(\"t g m J_z l_{tvc}\")\n",
    "x = sp.Function(\"x\")(t)\n",
    "x_dot = sp.Function(\"\\dot{x}\")(t)\n",
    "x_dot_dot = sp.Function(\"\\ddot{x}\")(t)\n",
    "x_3dot = sp.Function(\"x^{(3)}\")(t)\n",
    "x_4dot = sp.Function(\"x^{(4)}\")(t)\n",
    "\n",
    "y = sp.Function(\"y\")(t)\n",
    "y_dot = sp.Function(\"\\dot{y}\")(t)\n",
    "y_dot_dot = sp.Function(\"\\ddot{y}\")(t)\n",
    "y_3dot = sp.Function(\"y^{(3)}\")(t)\n",
    "y_4dot = sp.Function(\"y^{(4)}\")(t)\n",
    "\n",
    "# gamma = sp.Function(\"\\gamma\")(t)\n",
    "gamma_dot = sp.Function(\"\\dot{\\gamma}\")(t)\n",
    "gamma_dot_dot = sp.Function(\"gamma_dot_dot\")(t)"
   ]
  },
  {
   "cell_type": "code",
   "execution_count": 5,
   "metadata": {},
   "outputs": [],
   "source": [
    "# gamma_dot = (y_3dot * x_dot_dot - x_3dot * (y_dot_dot + g)) / (x_dot_dot ** 2 + (y_dot_dot + g) ** 2)\n",
    "\n",
    "# gamma_dot_dot = (\n",
    "#     -2\n",
    "#     * (g + y_dot_dot)\n",
    "#     * ((g + y_dot_dot) * x_3dot - x_dot_dot * y_3dot)\n",
    "#     * ((g + y_dot_dot) * x_3dot - x_dot_dot * y_3dot)\n",
    "#     + ((g + y_dot_dot) ** 2 + x_dot_dot**2)\n",
    "#     * (\n",
    "#         2 * (g + y_dot_dot) * x_3dot**2\n",
    "#         - ((g + y_dot_dot) * x_4dot + 2 * x_3dot * y_3dot) * x_dot_dot\n",
    "#         + x_dot_dot**2 * y_4dot\n",
    "#     )\n",
    "# ) / ((x_dot_dot**2 + (g + y_dot_dot) ** 2) ** 2 * x_dot_dot)"
   ]
  },
  {
   "cell_type": "code",
   "execution_count": 6,
   "metadata": {},
   "outputs": [],
   "source": [
    "t = sp.Matrix([x_dot_dot, y_dot_dot + g, 0])\n",
    "\n",
    "e1bx = x_dot_dot / sp.sqrt(x_dot_dot**2 + (y_dot_dot + g) ** 2)\n",
    "e1by = (y_dot_dot + g) / sp.sqrt(x_dot_dot**2 + (y_dot_dot + g) ** 2)\n",
    "e2bx = -e1by\n",
    "e2by = e1bx"
   ]
  },
  {
   "cell_type": "code",
   "execution_count": 7,
   "metadata": {},
   "outputs": [],
   "source": [
    "f1 = m * sp.sqrt(x_dot_dot**2 + (y_dot_dot + g) ** 2) + J_z * gamma_dot**2 / l_tvc\n",
    "f2 = -J_z * gamma_dot_dot / l_tvc  # - J_z * gamma_dot**2 * (e1bx / e1by)/ l_tvc\n",
    "\n",
    "# f1 = m * x_dot_dot * sp.cos(gamma) + m * (y_dot_dot + g) * sp.sin(gamma)"
   ]
  },
  {
   "cell_type": "code",
   "execution_count": 8,
   "metadata": {},
   "outputs": [],
   "source": [
    "r_go = J_z / (m * l_tvc)\n",
    "a = (\n",
    "    sp.Matrix([x_dot_dot, y_dot_dot, 0])\n",
    "    - r_go * gamma_dot_dot * sp.Matrix([-e1by, e1bx, 0])\n",
    "    + r_go * (gamma_dot**2) * sp.Matrix([e1bx, e1by, 0])\n",
    ")\n",
    "\n",
    "ag_x = a[0]\n",
    "ag_y = a[1]"
   ]
  },
  {
   "cell_type": "code",
   "execution_count": 12,
   "metadata": {},
   "outputs": [],
   "source": [
    "ex = m * ag_x - f1 * e1bx - f2 * e2bx\n",
    "ey = m * ag_y - f1 * e1by - f2 * e2by - m * g\n",
    "\n",
    "# ex.simplify()\n",
    "# ey.simplify()"
   ]
  },
  {
   "cell_type": "code",
   "execution_count": 13,
   "metadata": {},
   "outputs": [
    {
     "data": {
      "text/latex": [
       "$\\displaystyle - \\frac{J_{z} \\left(g + \\ddot{y}{\\left(t \\right)}\\right) \\gamma_{dot dot}{\\left(t \\right)}}{l_{tvc} \\sqrt{\\left(g + \\ddot{y}{\\left(t \\right)}\\right)^{2} + \\ddot{x}^{2}{\\left(t \\right)}}} + m \\left(\\frac{J_{z} \\left(g + \\ddot{y}{\\left(t \\right)}\\right) \\gamma_{dot dot}{\\left(t \\right)}}{l_{tvc} m \\sqrt{\\left(g + \\ddot{y}{\\left(t \\right)}\\right)^{2} + \\ddot{x}^{2}{\\left(t \\right)}}} + \\frac{J_{z} \\ddot{x}{\\left(t \\right)} \\dot{\\gamma}^{2}{\\left(t \\right)}}{l_{tvc} m \\sqrt{\\left(g + \\ddot{y}{\\left(t \\right)}\\right)^{2} + \\ddot{x}^{2}{\\left(t \\right)}}} + \\ddot{x}{\\left(t \\right)}\\right) - \\frac{\\left(\\frac{J_{z} \\dot{\\gamma}^{2}{\\left(t \\right)}}{l_{tvc}} + m \\sqrt{\\left(g + \\ddot{y}{\\left(t \\right)}\\right)^{2} + \\ddot{x}^{2}{\\left(t \\right)}}\\right) \\ddot{x}{\\left(t \\right)}}{\\sqrt{\\left(g + \\ddot{y}{\\left(t \\right)}\\right)^{2} + \\ddot{x}^{2}{\\left(t \\right)}}}$"
      ],
      "text/plain": [
       "-J_z*(g + \\ddot{y}(t))*gamma_dot_dot(t)/(l_{tvc}*sqrt((g + \\ddot{y}(t))**2 + \\ddot{x}(t)**2)) + m*(J_z*(g + \\ddot{y}(t))*gamma_dot_dot(t)/(l_{tvc}*m*sqrt((g + \\ddot{y}(t))**2 + \\ddot{x}(t)**2)) + J_z*\\ddot{x}(t)*\\dot{\\gamma}(t)**2/(l_{tvc}*m*sqrt((g + \\ddot{y}(t))**2 + \\ddot{x}(t)**2)) + \\ddot{x}(t)) - (J_z*\\dot{\\gamma}(t)**2/l_{tvc} + m*sqrt((g + \\ddot{y}(t))**2 + \\ddot{x}(t)**2))*\\ddot{x}(t)/sqrt((g + \\ddot{y}(t))**2 + \\ddot{x}(t)**2)"
      ]
     },
     "execution_count": 13,
     "metadata": {},
     "output_type": "execute_result"
    }
   ],
   "source": [
    "ex"
   ]
  },
  {
   "cell_type": "code",
   "execution_count": 14,
   "metadata": {},
   "outputs": [
    {
     "data": {
      "text/latex": [
       "$\\displaystyle \\frac{J_{z} \\ddot{x}{\\left(t \\right)} \\gamma_{dot dot}{\\left(t \\right)}}{l_{tvc} \\sqrt{\\left(g + \\ddot{y}{\\left(t \\right)}\\right)^{2} + \\ddot{x}^{2}{\\left(t \\right)}}} - g m + m \\left(\\frac{J_{z} \\left(g + \\ddot{y}{\\left(t \\right)}\\right) \\dot{\\gamma}^{2}{\\left(t \\right)}}{l_{tvc} m \\sqrt{\\left(g + \\ddot{y}{\\left(t \\right)}\\right)^{2} + \\ddot{x}^{2}{\\left(t \\right)}}} - \\frac{J_{z} \\ddot{x}{\\left(t \\right)} \\gamma_{dot dot}{\\left(t \\right)}}{l_{tvc} m \\sqrt{\\left(g + \\ddot{y}{\\left(t \\right)}\\right)^{2} + \\ddot{x}^{2}{\\left(t \\right)}}} + \\ddot{y}{\\left(t \\right)}\\right) - \\frac{\\left(g + \\ddot{y}{\\left(t \\right)}\\right) \\left(\\frac{J_{z} \\dot{\\gamma}^{2}{\\left(t \\right)}}{l_{tvc}} + m \\sqrt{\\left(g + \\ddot{y}{\\left(t \\right)}\\right)^{2} + \\ddot{x}^{2}{\\left(t \\right)}}\\right)}{\\sqrt{\\left(g + \\ddot{y}{\\left(t \\right)}\\right)^{2} + \\ddot{x}^{2}{\\left(t \\right)}}}$"
      ],
      "text/plain": [
       "J_z*\\ddot{x}(t)*gamma_dot_dot(t)/(l_{tvc}*sqrt((g + \\ddot{y}(t))**2 + \\ddot{x}(t)**2)) - g*m + m*(J_z*(g + \\ddot{y}(t))*\\dot{\\gamma}(t)**2/(l_{tvc}*m*sqrt((g + \\ddot{y}(t))**2 + \\ddot{x}(t)**2)) - J_z*\\ddot{x}(t)*gamma_dot_dot(t)/(l_{tvc}*m*sqrt((g + \\ddot{y}(t))**2 + \\ddot{x}(t)**2)) + \\ddot{y}(t)) - (g + \\ddot{y}(t))*(J_z*\\dot{\\gamma}(t)**2/l_{tvc} + m*sqrt((g + \\ddot{y}(t))**2 + \\ddot{x}(t)**2))/sqrt((g + \\ddot{y}(t))**2 + \\ddot{x}(t)**2)"
      ]
     },
     "execution_count": 14,
     "metadata": {},
     "output_type": "execute_result"
    }
   ],
   "source": [
    "ey"
   ]
  },
  {
   "cell_type": "code",
   "execution_count": null,
   "metadata": {},
   "outputs": [],
   "source": []
  }
 ],
 "metadata": {
  "kernelspec": {
   "display_name": "base",
   "language": "python",
   "name": "python3"
  },
  "language_info": {
   "codemirror_mode": {
    "name": "ipython",
    "version": 3
   },
   "file_extension": ".py",
   "mimetype": "text/x-python",
   "name": "python",
   "nbconvert_exporter": "python",
   "pygments_lexer": "ipython3",
   "version": "3.10.9"
  },
  "orig_nbformat": 4
 },
 "nbformat": 4,
 "nbformat_minor": 2
}
