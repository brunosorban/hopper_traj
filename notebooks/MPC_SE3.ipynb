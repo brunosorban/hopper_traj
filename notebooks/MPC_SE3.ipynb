{
 "cells": [
  {
   "cell_type": "code",
   "execution_count": 1,
   "metadata": {},
   "outputs": [],
   "source": [
    "import sympy as sp"
   ]
  },
  {
   "cell_type": "code",
   "execution_count": 2,
   "metadata": {},
   "outputs": [],
   "source": [
    "e1bx, e1by, e2bx, e2by, e1tx, e1ty, e2tx, e2ty, e1dx, e1dy, e2dx, e2dy = sp.symbols(\n",
    "    \"e_{1bx} e_{1by} e_{2bx} e_{2by} e_{1tx} e_{1ty} e_{2tx} e_{2ty} e_{1dx} e_{1dy} e_{2dx} e_{2dy}\"\n",
    ")"
   ]
  },
  {
   "cell_type": "code",
   "execution_count": 11,
   "metadata": {},
   "outputs": [
    {
     "data": {
      "text/latex": [
       "$\\displaystyle \\left[\\begin{matrix}e_{1bx} & e_{2bx} & 0\\\\e_{1by} & e_{2by} & 0\\\\0 & 0 & 1\\end{matrix}\\right]$"
      ],
      "text/plain": [
       "Matrix([\n",
       "[e_{1bx}, e_{2bx}, 0],\n",
       "[e_{1by}, e_{2by}, 0],\n",
       "[      0,       0, 1]])"
      ]
     },
     "execution_count": 11,
     "metadata": {},
     "output_type": "execute_result"
    }
   ],
   "source": [
    "R = sp.Matrix([[e1bx, e2bx, 0], [e1by, e2by, 0], [0, 0, 1]])\n",
    "Rt = sp.Matrix([[e1tx, e2tx, 0], [e1ty, e2ty, 0], [0, 0, 1]])\n",
    "Rd = sp.Matrix([[e1dx, e2dx, 0], [e1dy, e2dy, 0], [0, 0, 1]])\n",
    "\n",
    "# sp.print_latex(R)\n",
    "# sp.print_latex(Rd)\n",
    "R"
   ]
  },
  {
   "cell_type": "code",
   "execution_count": 4,
   "metadata": {},
   "outputs": [],
   "source": [
    "R_error = Rd.T * R - R.T * Rd"
   ]
  },
  {
   "cell_type": "code",
   "execution_count": 5,
   "metadata": {},
   "outputs": [],
   "source": [
    "def vee(in_mat):\n",
    "    \"\"\"\n",
    "    Calculates the vee operator for a 3x3 matrix.\n",
    "\n",
    "    Parameters:\n",
    "        in_mat (array-like): 3x3 matrix.\n",
    "\n",
    "    Returns:\n",
    "        out_vec (array-like): 3-dimensional vector.\n",
    "    \"\"\"\n",
    "    out_vec = sp.Matrix([in_mat[2, 1], in_mat[0, 2], in_mat[1, 0]])\n",
    "    return out_vec"
   ]
  },
  {
   "cell_type": "code",
   "execution_count": 6,
   "metadata": {},
   "outputs": [
    {
     "name": "stdout",
     "output_type": "stream",
     "text": [
      "\\left[\\begin{matrix}0\\\\0\\\\0.5 e_{1bx} e_{2dx} + 0.5 e_{1by} e_{2dy} - 0.5 e_{1dx} e_{2bx} - 0.5 e_{1dy} e_{2by}\\end{matrix}\\right]\n"
     ]
    }
   ],
   "source": [
    "er = 1 / 2 * vee(R_error)\n",
    "sp.print_latex(er)"
   ]
  },
  {
   "cell_type": "code",
   "execution_count": 8,
   "metadata": {},
   "outputs": [
    {
     "data": {
      "text/latex": [
       "$\\displaystyle \\left[\\begin{matrix}0 & - \\omega_{z} & \\omega_{y}\\\\\\omega_{z} & 0 & - \\omega_{x}\\\\- \\omega_{y} & \\omega_{x} & 0\\end{matrix}\\right]$"
      ],
      "text/plain": [
       "Matrix([\n",
       "[        0, -\\omega_z,  \\omega_y],\n",
       "[ \\omega_z,         0, -\\omega_x],\n",
       "[-\\omega_y,  \\omega_x,         0]])"
      ]
     },
     "execution_count": 8,
     "metadata": {},
     "output_type": "execute_result"
    }
   ],
   "source": [
    "wx, wy, wz = sp.symbols(\"\\omega_x \\omega_y \\omega_z\")\n",
    "omega_hat = sp.Matrix([[0, -wz, wy], [wz, 0, -wx], [-wy, wx, 0]])\n",
    "omega_hat"
   ]
  },
  {
   "cell_type": "code",
   "execution_count": 12,
   "metadata": {},
   "outputs": [
    {
     "data": {
      "text/latex": [
       "$\\displaystyle \\left[\\begin{matrix}e_{1bx} & e_{2bx} & 0\\\\e_{1by} & e_{2by} & 0\\\\0 & 0 & 1\\end{matrix}\\right]$"
      ],
      "text/plain": [
       "Matrix([\n",
       "[e_{1bx}, e_{2bx}, 0],\n",
       "[e_{1by}, e_{2by}, 0],\n",
       "[      0,       0, 1]])"
      ]
     },
     "execution_count": 12,
     "metadata": {},
     "output_type": "execute_result"
    }
   ],
   "source": [
    "R_dot = R * omega_hat\n",
    "R"
   ]
  },
  {
   "cell_type": "code",
   "execution_count": 10,
   "metadata": {},
   "outputs": [
    {
     "data": {
      "text/latex": [
       "$\\displaystyle \\left[\\begin{matrix}\\omega_{z} e_{2bx} & - \\omega_{z} e_{1bx} & 0\\\\\\omega_{z} e_{2by} & - \\omega_{z} e_{1by} & 0\\\\0 & 0 & 0\\end{matrix}\\right]$"
      ],
      "text/plain": [
       "Matrix([\n",
       "[\\omega_z*e_{2bx}, -\\omega_z*e_{1bx}, 0],\n",
       "[\\omega_z*e_{2by}, -\\omega_z*e_{1by}, 0],\n",
       "[               0,                 0, 0]])"
      ]
     },
     "execution_count": 10,
     "metadata": {},
     "output_type": "execute_result"
    }
   ],
   "source": [
    "R_dot.subs({wx: 0, wy: 0})"
   ]
  },
  {
   "cell_type": "code",
   "execution_count": null,
   "metadata": {},
   "outputs": [],
   "source": []
  }
 ],
 "metadata": {
  "kernelspec": {
   "display_name": "base",
   "language": "python",
   "name": "python3"
  },
  "language_info": {
   "codemirror_mode": {
    "name": "ipython",
    "version": 3
   },
   "file_extension": ".py",
   "mimetype": "text/x-python",
   "name": "python",
   "nbconvert_exporter": "python",
   "pygments_lexer": "ipython3",
   "version": "3.10.9"
  },
  "orig_nbformat": 4
 },
 "nbformat": 4,
 "nbformat_minor": 2
}
