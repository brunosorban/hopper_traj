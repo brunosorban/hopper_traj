{
 "cells": [
  {
   "cell_type": "code",
   "execution_count": 29,
   "metadata": {},
   "outputs": [],
   "source": [
    "import sympy as sp"
   ]
  },
  {
   "cell_type": "code",
   "execution_count": 30,
   "metadata": {},
   "outputs": [],
   "source": [
    "e1bx, e1by, e2bx, e2by, e1tx, e1ty, e2tx, e2ty, e1dx, e1dy, e2dx, e2dy = sp.symbols(\n",
    "    \"e_{1bx} e_{1by} e_{2bx} e_{2by} e_{1tx} e_{1ty} e_{2tx} e_{2ty} e_{1dx} e_{1dy} e_{2dx} e_{2dy}\"\n",
    ")"
   ]
  },
  {
   "cell_type": "code",
   "execution_count": 31,
   "metadata": {},
   "outputs": [],
   "source": [
    "R = sp.Matrix([[e1bx, e2bx, 0], [e1by, e2by, 0], [0, 0, 1]])\n",
    "Rt = sp.Matrix([[e1tx, e2tx, 0], [e1ty, e2ty, 0], [0, 0, 1]])\n",
    "Rd = sp.Matrix([[e1dx, e2dx, 0], [e1dy, e2dy, 0], [0, 0, 1]])"
   ]
  },
  {
   "cell_type": "code",
   "execution_count": 32,
   "metadata": {},
   "outputs": [],
   "source": [
    "R_error = Rd.T * R - R.T * Rd"
   ]
  },
  {
   "cell_type": "code",
   "execution_count": 33,
   "metadata": {},
   "outputs": [],
   "source": [
    "def vee(in_mat):\n",
    "    \"\"\"\n",
    "    Calculates the vee operator for a 3x3 matrix.\n",
    "\n",
    "    Parameters:\n",
    "        in_mat (array-like): 3x3 matrix.\n",
    "\n",
    "    Returns:\n",
    "        out_vec (array-like): 3-dimensional vector.\n",
    "    \"\"\"\n",
    "    out_vec = sp.Matrix([in_mat[2, 1], in_mat[0, 2], in_mat[1, 0]])\n",
    "    return out_vec"
   ]
  },
  {
   "cell_type": "code",
   "execution_count": 35,
   "metadata": {},
   "outputs": [
    {
     "name": "stdout",
     "output_type": "stream",
     "text": [
      "e_1bx = Symbol('e_{1bx}')\n",
      "e_2dx = Symbol('e_{2dx}')\n",
      "e_1by = Symbol('e_{1by}')\n",
      "e_2dy = Symbol('e_{2dy}')\n",
      "e_1dx = Symbol('e_{1dx}')\n",
      "e_2bx = Symbol('e_{2bx}')\n",
      "e_1dy = Symbol('e_{1dy}')\n",
      "e_2by = Symbol('e_{2by}')\n",
      "e = Matrix([[0], [0], [0.5*e_1bx*e_2dx + 0.5*e_1by*e_2dy - 0.5*e_1dx*e_2bx - 0.5*e_1dy*e_2by]])\n"
     ]
    }
   ],
   "source": [
    "er = 1 / 2 * vee(R_error)\n",
    "sp.print_python(er)"
   ]
  },
  {
   "cell_type": "code",
   "execution_count": null,
   "metadata": {},
   "outputs": [],
   "source": []
  }
 ],
 "metadata": {
  "kernelspec": {
   "display_name": "base",
   "language": "python",
   "name": "python3"
  },
  "language_info": {
   "codemirror_mode": {
    "name": "ipython",
    "version": 3
   },
   "file_extension": ".py",
   "mimetype": "text/x-python",
   "name": "python",
   "nbconvert_exporter": "python",
   "pygments_lexer": "ipython3",
   "version": "3.10.9"
  },
  "orig_nbformat": 4
 },
 "nbformat": 4,
 "nbformat_minor": 2
}
