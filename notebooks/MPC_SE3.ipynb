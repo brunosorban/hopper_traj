{
 "cells": [
  {
   "cell_type": "code",
   "execution_count": 15,
   "metadata": {},
   "outputs": [],
   "source": [
    "import sympy as sp"
   ]
  },
  {
   "cell_type": "code",
   "execution_count": 16,
   "metadata": {},
   "outputs": [],
   "source": [
    "(\n",
    "    e1bx,\n",
    "    e1by,\n",
    "    e1bz,\n",
    "    e2bx,\n",
    "    e2by,\n",
    "    e2bz,\n",
    "    e3bx,\n",
    "    e3by,\n",
    "    e3bz,\n",
    "    e1tx,\n",
    "    e1ty,\n",
    "    e1tz,\n",
    "    e2tx,\n",
    "    e2ty,\n",
    "    e2tz,\n",
    "    e3tx,\n",
    "    e3ty,\n",
    "    e3tz,\n",
    "    e1dx,\n",
    "    e1dy,\n",
    "    e1dz,\n",
    "    e2dx,\n",
    "    e2dy,\n",
    "    e2dz,\n",
    "    e3dx,\n",
    "    e3dy,\n",
    "    e3dz,\n",
    ") = sp.symbols(\n",
    "    \"e_{1bx} e_{1by} e_{1bz} e_{2bx} e_{2by} e_{2bz} e_{3bx} e_{3by} e_{3bz} e_{1tx} e_{1ty} e_{1tz} e_{2tx} e_{2ty} e_{2tz} e_{3tx} e_{3ty} e_{3tz} e_{1dx} e_{1dy} e_{1dz} e_{2dx} e_{2dy} e_{2dz} e_{3dx} e_{3dy} e_{3dz}\"\n",
    ")"
   ]
  },
  {
   "cell_type": "code",
   "execution_count": 17,
   "metadata": {},
   "outputs": [
    {
     "data": {
      "text/latex": [
       "$\\displaystyle \\left[\\begin{matrix}e_{1dx} & e_{2dx} & e_{3dx}\\\\e_{1dy} & e_{2dy} & e_{3dy}\\\\e_{1dz} & e_{2dz} & e_{3dz}\\end{matrix}\\right]$"
      ],
      "text/plain": [
       "Matrix([\n",
       "[e_{1dx}, e_{2dx}, e_{3dx}],\n",
       "[e_{1dy}, e_{2dy}, e_{3dy}],\n",
       "[e_{1dz}, e_{2dz}, e_{3dz}]])"
      ]
     },
     "execution_count": 17,
     "metadata": {},
     "output_type": "execute_result"
    }
   ],
   "source": [
    "R = sp.Matrix([[e1bx, e2bx, e3bx], [e1by, e2by, e3by], [e1bz, e2bz, e3bz]])\n",
    "Rt = sp.Matrix([[e1tx, e2tx, e3tx], [e1ty, e2ty, e3ty], [e1tz, e2tz, e3tz]])\n",
    "Rd = sp.Matrix([[e1dx, e2dx, e3dx], [e1dy, e2dy, e3dy], [e1dz, e2dz, e3dz]])\n",
    "\n",
    "# sp.print_latex(R)\n",
    "# sp.print_latex(Rd)\n",
    "Rd"
   ]
  },
  {
   "cell_type": "code",
   "execution_count": 18,
   "metadata": {},
   "outputs": [],
   "source": [
    "R_error = Rd.T * R - R.T * Rd"
   ]
  },
  {
   "cell_type": "code",
   "execution_count": 19,
   "metadata": {},
   "outputs": [],
   "source": [
    "def vee(in_mat):\n",
    "    \"\"\"\n",
    "    Calculates the vee operator for a 3x3 matrix.\n",
    "\n",
    "    Parameters:\n",
    "        in_mat (array-like): 3x3 matrix.\n",
    "\n",
    "    Returns:\n",
    "        out_vec (array-like): 3-dimensional vector.\n",
    "    \"\"\"\n",
    "    out_vec = sp.Matrix([in_mat[2, 1], in_mat[0, 2], in_mat[1, 0]])\n",
    "    return out_vec"
   ]
  },
  {
   "cell_type": "code",
   "execution_count": 20,
   "metadata": {},
   "outputs": [
    {
     "name": "stdout",
     "output_type": "stream",
     "text": [
      "\\left[\\begin{matrix}0.5 e_{2bx} e_{3dx} + 0.5 e_{2by} e_{3dy} + 0.5 e_{2bz} e_{3dz} - 0.5 e_{2dx} e_{3bx} - 0.5 e_{2dy} e_{3by} - 0.5 e_{2dz} e_{3bz}\\\\- 0.5 e_{1bx} e_{3dx} - 0.5 e_{1by} e_{3dy} - 0.5 e_{1bz} e_{3dz} + 0.5 e_{1dx} e_{3bx} + 0.5 e_{1dy} e_{3by} + 0.5 e_{1dz} e_{3bz}\\\\0.5 e_{1bx} e_{2dx} + 0.5 e_{1by} e_{2dy} + 0.5 e_{1bz} e_{2dz} - 0.5 e_{1dx} e_{2bx} - 0.5 e_{1dy} e_{2by} - 0.5 e_{1dz} e_{2bz}\\end{matrix}\\right]\n"
     ]
    }
   ],
   "source": [
    "er = 1 / 2 * vee(R_error)\n",
    "sp.print_latex(er)"
   ]
  },
  {
   "cell_type": "code",
   "execution_count": 21,
   "metadata": {},
   "outputs": [
    {
     "data": {
      "text/latex": [
       "$\\displaystyle \\left[\\begin{matrix}0 & - \\omega_{z} & \\omega_{y}\\\\\\omega_{z} & 0 & - \\omega_{x}\\\\- \\omega_{y} & \\omega_{x} & 0\\end{matrix}\\right]$"
      ],
      "text/plain": [
       "Matrix([\n",
       "[        0, -\\omega_z,  \\omega_y],\n",
       "[ \\omega_z,         0, -\\omega_x],\n",
       "[-\\omega_y,  \\omega_x,         0]])"
      ]
     },
     "execution_count": 21,
     "metadata": {},
     "output_type": "execute_result"
    }
   ],
   "source": [
    "wx, wy, wz = sp.symbols(\"\\omega_x \\omega_y \\omega_z\")\n",
    "omega_hat = sp.Matrix([[0, -wz, wy], [wz, 0, -wx], [-wy, wx, 0]])\n",
    "omega_hat"
   ]
  },
  {
   "cell_type": "code",
   "execution_count": 22,
   "metadata": {},
   "outputs": [
    {
     "data": {
      "text/latex": [
       "$\\displaystyle \\left[\\begin{matrix}e_{1bx} & e_{2bx} & e_{3bx}\\\\e_{1by} & e_{2by} & e_{3by}\\\\e_{1bz} & e_{2bz} & e_{3bz}\\end{matrix}\\right]$"
      ],
      "text/plain": [
       "Matrix([\n",
       "[e_{1bx}, e_{2bx}, e_{3bx}],\n",
       "[e_{1by}, e_{2by}, e_{3by}],\n",
       "[e_{1bz}, e_{2bz}, e_{3bz}]])"
      ]
     },
     "execution_count": 22,
     "metadata": {},
     "output_type": "execute_result"
    }
   ],
   "source": [
    "R"
   ]
  },
  {
   "cell_type": "code",
   "execution_count": 23,
   "metadata": {},
   "outputs": [
    {
     "data": {
      "text/latex": [
       "$\\displaystyle \\left[\\begin{matrix}- \\omega_{y} e_{3bx} + \\omega_{z} e_{2bx} & \\omega_{x} e_{3bx} - \\omega_{z} e_{1bx} & - \\omega_{x} e_{2bx} + \\omega_{y} e_{1bx}\\\\- \\omega_{y} e_{3by} + \\omega_{z} e_{2by} & \\omega_{x} e_{3by} - \\omega_{z} e_{1by} & - \\omega_{x} e_{2by} + \\omega_{y} e_{1by}\\\\- \\omega_{y} e_{3bz} + \\omega_{z} e_{2bz} & \\omega_{x} e_{3bz} - \\omega_{z} e_{1bz} & - \\omega_{x} e_{2bz} + \\omega_{y} e_{1bz}\\end{matrix}\\right]$"
      ],
      "text/plain": [
       "Matrix([\n",
       "[-\\omega_y*e_{3bx} + \\omega_z*e_{2bx}, \\omega_x*e_{3bx} - \\omega_z*e_{1bx}, -\\omega_x*e_{2bx} + \\omega_y*e_{1bx}],\n",
       "[-\\omega_y*e_{3by} + \\omega_z*e_{2by}, \\omega_x*e_{3by} - \\omega_z*e_{1by}, -\\omega_x*e_{2by} + \\omega_y*e_{1by}],\n",
       "[-\\omega_y*e_{3bz} + \\omega_z*e_{2bz}, \\omega_x*e_{3bz} - \\omega_z*e_{1bz}, -\\omega_x*e_{2bz} + \\omega_y*e_{1bz}]])"
      ]
     },
     "execution_count": 23,
     "metadata": {},
     "output_type": "execute_result"
    }
   ],
   "source": [
    "R_dot = R * omega_hat\n",
    "R_dot"
   ]
  },
  {
   "cell_type": "code",
   "execution_count": 24,
   "metadata": {},
   "outputs": [
    {
     "data": {
      "text/latex": [
       "$\\displaystyle \\left[\\begin{matrix}- \\omega_{y} e_{3bx} & \\omega_{x} e_{3bx} & - \\omega_{x} e_{2bx} + \\omega_{y} e_{1bx}\\\\- \\omega_{y} e_{3by} & \\omega_{x} e_{3by} & - \\omega_{x} e_{2by} + \\omega_{y} e_{1by}\\\\- \\omega_{y} e_{3bz} & \\omega_{x} e_{3bz} & - \\omega_{x} e_{2bz} + \\omega_{y} e_{1bz}\\end{matrix}\\right]$"
      ],
      "text/plain": [
       "Matrix([\n",
       "[-\\omega_y*e_{3bx}, \\omega_x*e_{3bx}, -\\omega_x*e_{2bx} + \\omega_y*e_{1bx}],\n",
       "[-\\omega_y*e_{3by}, \\omega_x*e_{3by}, -\\omega_x*e_{2by} + \\omega_y*e_{1by}],\n",
       "[-\\omega_y*e_{3bz}, \\omega_x*e_{3bz}, -\\omega_x*e_{2bz} + \\omega_y*e_{1bz}]])"
      ]
     },
     "execution_count": 24,
     "metadata": {},
     "output_type": "execute_result"
    }
   ],
   "source": [
    "R_dot.subs({wz: 0})"
   ]
  },
  {
   "cell_type": "code",
   "execution_count": 26,
   "metadata": {},
   "outputs": [],
   "source": [
    "e1t = Rt[:, 0]\n",
    "e2b = R[:, 1]\n",
    "e3b = R[:, 2]"
   ]
  },
  {
   "cell_type": "code",
   "execution_count": 32,
   "metadata": {},
   "outputs": [
    {
     "data": {
      "text/latex": [
       "$\\displaystyle e_{1tx} e_{2bx} + e_{1ty} e_{2by} + e_{1tz} e_{2bz}$"
      ],
      "text/plain": [
       "e_{1tx}*e_{2bx} + e_{1ty}*e_{2by} + e_{1tz}*e_{2bz}"
      ]
     },
     "execution_count": 32,
     "metadata": {},
     "output_type": "execute_result"
    }
   ],
   "source": [
    "e1t.dot(e2b)"
   ]
  },
  {
   "cell_type": "code",
   "execution_count": 33,
   "metadata": {},
   "outputs": [
    {
     "data": {
      "text/latex": [
       "$\\displaystyle e_{1tx} e_{3bx} + e_{1ty} e_{3by} + e_{1tz} e_{3bz}$"
      ],
      "text/plain": [
       "e_{1tx}*e_{3bx} + e_{1ty}*e_{3by} + e_{1tz}*e_{3bz}"
      ]
     },
     "execution_count": 33,
     "metadata": {},
     "output_type": "execute_result"
    }
   ],
   "source": [
    "e1t.dot(e3b)"
   ]
  },
  {
   "cell_type": "code",
   "execution_count": null,
   "metadata": {},
   "outputs": [],
   "source": []
  }
 ],
 "metadata": {
  "kernelspec": {
   "display_name": "base",
   "language": "python",
   "name": "python3"
  },
  "language_info": {
   "codemirror_mode": {
    "name": "ipython",
    "version": 3
   },
   "file_extension": ".py",
   "mimetype": "text/x-python",
   "name": "python",
   "nbconvert_exporter": "python",
   "pygments_lexer": "ipython3",
   "version": "3.10.9"
  },
  "orig_nbformat": 4
 },
 "nbformat": 4,
 "nbformat_minor": 2
}
