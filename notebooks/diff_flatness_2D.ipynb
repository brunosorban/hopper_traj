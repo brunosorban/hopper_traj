{
 "cells": [
  {
   "cell_type": "code",
   "execution_count": 33,
   "metadata": {},
   "outputs": [],
   "source": [
    "import sympy as sp"
   ]
  },
  {
   "cell_type": "code",
   "execution_count": 34,
   "metadata": {},
   "outputs": [],
   "source": [
    "# initialize symbols\n",
    "t, g, m, J_z, l_tvc = sp.symbols(\"t g m J_z l_{tvc}\")\n",
    "# x = sp.Function('x')(t)\n",
    "# x_dot = x.diff(t)\n",
    "# x_dot_dot = x_dot.diff(t)\n",
    "\n",
    "# y = sp.Function('y')(t)\n",
    "# y_dot = y.diff(t)\n",
    "# y_dot_dot = y_dot.diff(t)\n",
    "# x, y\n",
    "\n",
    "x = sp.Function(\"x\")(t)\n",
    "x_dot = sp.Function(\"\\dot{x}\")(t)\n",
    "x_dot_dot = sp.Function(\"\\ddot{x}\")(t)\n",
    "x_3dot = sp.Function(\"x^{(3)}\")(t)\n",
    "x_4dot = sp.Function(\"x^{(4)}\")(t)\n",
    "\n",
    "y = sp.Function(\"y\")(t)\n",
    "y_dot = sp.Function(\"\\dot{y}\")(t)\n",
    "y_dot_dot = sp.Function(\"\\ddot{y}\")(t)\n",
    "y_3dot = sp.Function(\"y^{(3)}\")(t)\n",
    "y_4dot = sp.Function(\"y^{(4)}\")(t)"
   ]
  },
  {
   "cell_type": "code",
   "execution_count": 35,
   "metadata": {},
   "outputs": [
    {
     "data": {
      "text/latex": [
       "$\\displaystyle \\frac{- \\frac{\\left(g + \\ddot{y}{\\left(t \\right)}\\right) \\frac{d}{d t} \\ddot{x}{\\left(t \\right)}}{\\ddot{x}^{2}{\\left(t \\right)}} + \\frac{\\frac{d}{d t} \\ddot{y}{\\left(t \\right)}}{\\ddot{x}{\\left(t \\right)}}}{\\frac{\\left(g + \\ddot{y}{\\left(t \\right)}\\right)^{2}}{\\ddot{x}^{2}{\\left(t \\right)}} + 1}$"
      ],
      "text/plain": [
       "(-(g + \\ddot{y}(t))*Derivative(\\ddot{x}(t), t)/\\ddot{x}(t)**2 + Derivative(\\ddot{y}(t), t)/\\ddot{x}(t))/((g + \\ddot{y}(t))**2/\\ddot{x}(t)**2 + 1)"
      ]
     },
     "execution_count": 35,
     "metadata": {},
     "output_type": "execute_result"
    }
   ],
   "source": [
    "# start differential flatness computation\n",
    "gamma = sp.atan((y_dot_dot + g) / (x_dot_dot))\n",
    "gamma_dot = gamma.diff(t)\n",
    "gamma_dot_dot = gamma_dot.diff(t)\n",
    "\n",
    "gamma_dot"
   ]
  },
  {
   "cell_type": "code",
   "execution_count": 36,
   "metadata": {},
   "outputs": [
    {
     "data": {
      "text/latex": [
       "$\\displaystyle \\frac{\\frac{\\left(- g - \\ddot{y}{\\left(t \\right)}\\right) x^{(3)}{\\left(t \\right)}}{\\ddot{x}^{2}{\\left(t \\right)}} + \\frac{y^{(3)}{\\left(t \\right)}}{\\ddot{x}{\\left(t \\right)}}}{\\frac{\\left(g + \\ddot{y}{\\left(t \\right)}\\right)^{2}}{\\ddot{x}^{2}{\\left(t \\right)}} + 1}$"
      ],
      "text/plain": [
       "((-g - \\ddot{y}(t))*x^{(3)}(t)/\\ddot{x}(t)**2 + y^{(3)}(t)/\\ddot{x}(t))/((g + \\ddot{y}(t))**2/\\ddot{x}(t)**2 + 1)"
      ]
     },
     "execution_count": 36,
     "metadata": {},
     "output_type": "execute_result"
    }
   ],
   "source": [
    "gamma_dot_new = (-(g + y_dot_dot) * x_3dot / x_dot_dot**2 + y_3dot / x_dot_dot) / (\n",
    "    1 + (y_dot_dot + g) ** 2 / x_dot_dot**2\n",
    ")\n",
    "gamma_dot_new.simplify()\n",
    "# sp.print_latex(gamma_dot_new)\n",
    "gamma_dot_new"
   ]
  },
  {
   "cell_type": "code",
   "execution_count": 37,
   "metadata": {},
   "outputs": [
    {
     "data": {
      "text/latex": [
       "$\\displaystyle \\frac{- 2 \\left(g + \\ddot{y}{\\left(t \\right)}\\right) \\left(\\left(g + \\ddot{y}{\\left(t \\right)}\\right) x^{(3)}{\\left(t \\right)} - \\ddot{x}{\\left(t \\right)} y^{(3)}{\\left(t \\right)}\\right) \\left(\\left(g + \\ddot{y}{\\left(t \\right)}\\right) \\frac{d}{d t} \\ddot{x}{\\left(t \\right)} - \\ddot{x}{\\left(t \\right)} \\frac{d}{d t} \\ddot{y}{\\left(t \\right)}\\right) + \\left(\\left(g + \\ddot{y}{\\left(t \\right)}\\right)^{2} + \\ddot{x}^{2}{\\left(t \\right)}\\right) \\left(2 \\left(g + \\ddot{y}{\\left(t \\right)}\\right) x^{(3)}{\\left(t \\right)} \\frac{d}{d t} \\ddot{x}{\\left(t \\right)} - \\left(\\left(g + \\ddot{y}{\\left(t \\right)}\\right) \\frac{d}{d t} x^{(3)}{\\left(t \\right)} + x^{(3)}{\\left(t \\right)} \\frac{d}{d t} \\ddot{y}{\\left(t \\right)} + y^{(3)}{\\left(t \\right)} \\frac{d}{d t} \\ddot{x}{\\left(t \\right)}\\right) \\ddot{x}{\\left(t \\right)} + \\ddot{x}^{2}{\\left(t \\right)} \\frac{d}{d t} y^{(3)}{\\left(t \\right)}\\right)}{\\left(\\left(g + \\ddot{y}{\\left(t \\right)}\\right)^{2} + \\ddot{x}^{2}{\\left(t \\right)}\\right)^{2} \\ddot{x}{\\left(t \\right)}}$"
      ],
      "text/plain": [
       "(-2*(g + \\ddot{y}(t))*((g + \\ddot{y}(t))*x^{(3)}(t) - \\ddot{x}(t)*y^{(3)}(t))*((g + \\ddot{y}(t))*Derivative(\\ddot{x}(t), t) - \\ddot{x}(t)*Derivative(\\ddot{y}(t), t)) + ((g + \\ddot{y}(t))**2 + \\ddot{x}(t)**2)*(2*(g + \\ddot{y}(t))*x^{(3)}(t)*Derivative(\\ddot{x}(t), t) - ((g + \\ddot{y}(t))*Derivative(x^{(3)}(t), t) + x^{(3)}(t)*Derivative(\\ddot{y}(t), t) + y^{(3)}(t)*Derivative(\\ddot{x}(t), t))*\\ddot{x}(t) + \\ddot{x}(t)**2*Derivative(y^{(3)}(t), t)))/(((g + \\ddot{y}(t))**2 + \\ddot{x}(t)**2)**2*\\ddot{x}(t))"
      ]
     },
     "execution_count": 37,
     "metadata": {},
     "output_type": "execute_result"
    }
   ],
   "source": [
    "gamma_dot_new.simplify()\n",
    "gamma_dd = gamma_dot_new.diff(t).simplify()\n",
    "gamma_dd"
   ]
  },
  {
   "cell_type": "code",
   "execution_count": 38,
   "metadata": {},
   "outputs": [
    {
     "data": {
      "text/latex": [
       "$\\displaystyle \\frac{\\left(- 2 g - 2 \\ddot{y}{\\left(t \\right)}\\right) \\left(\\left(g + \\ddot{y}{\\left(t \\right)}\\right) x^{(3)}{\\left(t \\right)} - \\ddot{x}{\\left(t \\right)} y^{(3)}{\\left(t \\right)}\\right)^{2} + \\left(\\left(g + \\ddot{y}{\\left(t \\right)}\\right)^{2} + \\ddot{x}^{2}{\\left(t \\right)}\\right) \\left(\\left(2 g + 2 \\ddot{y}{\\left(t \\right)}\\right) \\left(x^{(3)}\\right)^{2}{\\left(t \\right)} - \\left(\\left(g + \\ddot{y}{\\left(t \\right)}\\right) x^{(4)}{\\left(t \\right)} + 2 x^{(3)}{\\left(t \\right)} y^{(3)}{\\left(t \\right)}\\right) \\ddot{x}{\\left(t \\right)} + \\ddot{x}^{2}{\\left(t \\right)} y^{(4)}{\\left(t \\right)}\\right)}{\\left(\\left(g + \\ddot{y}{\\left(t \\right)}\\right)^{2} + \\ddot{x}^{2}{\\left(t \\right)}\\right)^{2} \\ddot{x}{\\left(t \\right)}}$"
      ],
      "text/plain": [
       "((-2*g - 2*\\ddot{y}(t))*((g + \\ddot{y}(t))*x^{(3)}(t) - \\ddot{x}(t)*y^{(3)}(t))**2 + ((g + \\ddot{y}(t))**2 + \\ddot{x}(t)**2)*((2*g + 2*\\ddot{y}(t))*x^{(3)}(t)**2 - ((g + \\ddot{y}(t))*x^{(4)}(t) + 2*x^{(3)}(t)*y^{(3)}(t))*\\ddot{x}(t) + \\ddot{x}(t)**2*y^{(4)}(t)))/(((g + \\ddot{y}(t))**2 + \\ddot{x}(t)**2)**2*\\ddot{x}(t))"
      ]
     },
     "execution_count": 38,
     "metadata": {},
     "output_type": "execute_result"
    }
   ],
   "source": [
    "gamma_dot_dot_new = (\n",
    "    -2\n",
    "    * (g + y_dot_dot)\n",
    "    * ((g + y_dot_dot) * x_3dot - x_dot_dot * y_3dot)\n",
    "    * ((g + y_dot_dot) * x_3dot - x_dot_dot * y_3dot)\n",
    "    + ((g + y_dot_dot) ** 2 + x_dot_dot**2)\n",
    "    * (\n",
    "        2 * (g + y_dot_dot) * x_3dot**2\n",
    "        - ((g + y_dot_dot) * x_4dot + 2 * x_3dot * y_3dot) * x_dot_dot\n",
    "        + x_dot_dot**2 * y_4dot\n",
    "    )\n",
    ") / ((x_dot_dot**2 + (g + y_dot_dot) ** 2) ** 2 * x_dot_dot)\n",
    "gamma_dot_dot_new"
   ]
  },
  {
   "cell_type": "code",
   "execution_count": 39,
   "metadata": {},
   "outputs": [
    {
     "data": {
      "text/latex": [
       "$\\displaystyle m \\sqrt{\\ddot{x}^{2}{\\left(t \\right)} + \\ddot{y}^{2}{\\left(t \\right)}}$"
      ],
      "text/plain": [
       "m*sqrt(\\ddot{x}(t)**2 + \\ddot{y}(t)**2)"
      ]
     },
     "execution_count": 39,
     "metadata": {},
     "output_type": "execute_result"
    }
   ],
   "source": [
    "ft = m * sp.sqrt(x_dot_dot**2 + y_dot_dot**2)\n",
    "ft"
   ]
  },
  {
   "cell_type": "code",
   "execution_count": 40,
   "metadata": {},
   "outputs": [
    {
     "data": {
      "text/latex": [
       "$\\displaystyle \\frac{m \\left(\\ddot{x}{\\left(t \\right)} \\frac{d}{d t} \\ddot{x}{\\left(t \\right)} + \\ddot{y}{\\left(t \\right)} \\frac{d}{d t} \\ddot{y}{\\left(t \\right)}\\right)}{\\sqrt{\\ddot{x}^{2}{\\left(t \\right)} + \\ddot{y}^{2}{\\left(t \\right)}}}$"
      ],
      "text/plain": [
       "m*(\\ddot{x}(t)*Derivative(\\ddot{x}(t), t) + \\ddot{y}(t)*Derivative(\\ddot{y}(t), t))/sqrt(\\ddot{x}(t)**2 + \\ddot{y}(t)**2)"
      ]
     },
     "execution_count": 40,
     "metadata": {},
     "output_type": "execute_result"
    }
   ],
   "source": [
    "ft_dot = ft.diff(t)\n",
    "ft_dot"
   ]
  },
  {
   "cell_type": "code",
   "execution_count": 41,
   "metadata": {},
   "outputs": [
    {
     "name": "stdout",
     "output_type": "stream",
     "text": [
      "\\frac{m \\left(\\ddot{x}{\\left(t \\right)} x^{(3)}{\\left(t \\right)} + \\ddot{y}{\\left(t \\right)} y^{(3)}{\\left(t \\right)}\\right)}{\\sqrt{\\ddot{x}^{2}{\\left(t \\right)} + \\ddot{y}^{2}{\\left(t \\right)}}}\n"
     ]
    }
   ],
   "source": [
    "ft_dot_new = (\n",
    "    m\n",
    "    * (x_dot_dot * x_3dot + y_dot_dot * y_3dot)\n",
    "    / sp.sqrt(x_dot_dot**2 + y_dot_dot**2)\n",
    ")\n",
    "ft_dot_new\n",
    "sp.print_latex(ft_dot_new)"
   ]
  },
  {
   "cell_type": "code",
   "execution_count": 42,
   "metadata": {},
   "outputs": [
    {
     "data": {
      "text/latex": [
       "$\\displaystyle \\operatorname{asin}{\\left(\\frac{J_{z} \\left(\\left(- 2 g - 2 \\ddot{y}{\\left(t \\right)}\\right) \\left(\\left(g + \\ddot{y}{\\left(t \\right)}\\right) x^{(3)}{\\left(t \\right)} - \\ddot{x}{\\left(t \\right)} y^{(3)}{\\left(t \\right)}\\right)^{2} + \\left(\\left(g + \\ddot{y}{\\left(t \\right)}\\right)^{2} + \\ddot{x}^{2}{\\left(t \\right)}\\right) \\left(\\left(2 g + 2 \\ddot{y}{\\left(t \\right)}\\right) \\left(x^{(3)}\\right)^{2}{\\left(t \\right)} - \\left(\\left(g + \\ddot{y}{\\left(t \\right)}\\right) x^{(4)}{\\left(t \\right)} + 2 x^{(3)}{\\left(t \\right)} y^{(3)}{\\left(t \\right)}\\right) \\ddot{x}{\\left(t \\right)} + \\ddot{x}^{2}{\\left(t \\right)} y^{(4)}{\\left(t \\right)}\\right)\\right)}{l_{tvc} m \\left(\\left(g + \\ddot{y}{\\left(t \\right)}\\right)^{2} + \\ddot{x}^{2}{\\left(t \\right)}\\right)^{2} \\sqrt{\\ddot{x}^{2}{\\left(t \\right)} + \\ddot{y}^{2}{\\left(t \\right)}} \\ddot{x}{\\left(t \\right)}} \\right)}$"
      ],
      "text/plain": [
       "asin(J_z*((-2*g - 2*\\ddot{y}(t))*((g + \\ddot{y}(t))*x^{(3)}(t) - \\ddot{x}(t)*y^{(3)}(t))**2 + ((g + \\ddot{y}(t))**2 + \\ddot{x}(t)**2)*((2*g + 2*\\ddot{y}(t))*x^{(3)}(t)**2 - ((g + \\ddot{y}(t))*x^{(4)}(t) + 2*x^{(3)}(t)*y^{(3)}(t))*\\ddot{x}(t) + \\ddot{x}(t)**2*y^{(4)}(t)))/(l_{tvc}*m*((g + \\ddot{y}(t))**2 + \\ddot{x}(t)**2)**2*sqrt(\\ddot{x}(t)**2 + \\ddot{y}(t)**2)*\\ddot{x}(t)))"
      ]
     },
     "execution_count": 42,
     "metadata": {},
     "output_type": "execute_result"
    }
   ],
   "source": [
    "delta_t = sp.asin((J_z * gamma_dot_dot_new) / (ft * l_tvc))\n",
    "# delta_t.simplify()\n",
    "delta_t"
   ]
  },
  {
   "cell_type": "code",
   "execution_count": 43,
   "metadata": {},
   "outputs": [
    {
     "data": {
      "text/latex": [
       "$\\displaystyle \\frac{\\frac{J_{z} \\left(\\left(- 2 g - 2 \\ddot{y}{\\left(t \\right)}\\right) \\left(\\left(g + \\ddot{y}{\\left(t \\right)}\\right) x^{(3)}{\\left(t \\right)} - \\ddot{x}{\\left(t \\right)} y^{(3)}{\\left(t \\right)}\\right)^{2} + \\left(\\left(g + \\ddot{y}{\\left(t \\right)}\\right)^{2} + \\ddot{x}^{2}{\\left(t \\right)}\\right) \\left(\\left(2 g + 2 \\ddot{y}{\\left(t \\right)}\\right) \\left(x^{(3)}\\right)^{2}{\\left(t \\right)} - \\left(\\left(g + \\ddot{y}{\\left(t \\right)}\\right) x^{(4)}{\\left(t \\right)} + 2 x^{(3)}{\\left(t \\right)} y^{(3)}{\\left(t \\right)}\\right) \\ddot{x}{\\left(t \\right)} + \\ddot{x}^{2}{\\left(t \\right)} y^{(4)}{\\left(t \\right)}\\right)\\right) \\left(- 4 \\left(g + \\ddot{y}{\\left(t \\right)}\\right) \\frac{d}{d t} \\ddot{y}{\\left(t \\right)} - 4 \\ddot{x}{\\left(t \\right)} \\frac{d}{d t} \\ddot{x}{\\left(t \\right)}\\right)}{l_{tvc} m \\left(\\left(g + \\ddot{y}{\\left(t \\right)}\\right)^{2} + \\ddot{x}^{2}{\\left(t \\right)}\\right)^{3} \\sqrt{\\ddot{x}^{2}{\\left(t \\right)} + \\ddot{y}^{2}{\\left(t \\right)}} \\ddot{x}{\\left(t \\right)}} + \\frac{J_{z} \\left(\\left(- 2 g - 2 \\ddot{y}{\\left(t \\right)}\\right) \\left(\\left(g + \\ddot{y}{\\left(t \\right)}\\right) x^{(3)}{\\left(t \\right)} - \\ddot{x}{\\left(t \\right)} y^{(3)}{\\left(t \\right)}\\right)^{2} + \\left(\\left(g + \\ddot{y}{\\left(t \\right)}\\right)^{2} + \\ddot{x}^{2}{\\left(t \\right)}\\right) \\left(\\left(2 g + 2 \\ddot{y}{\\left(t \\right)}\\right) \\left(x^{(3)}\\right)^{2}{\\left(t \\right)} - \\left(\\left(g + \\ddot{y}{\\left(t \\right)}\\right) x^{(4)}{\\left(t \\right)} + 2 x^{(3)}{\\left(t \\right)} y^{(3)}{\\left(t \\right)}\\right) \\ddot{x}{\\left(t \\right)} + \\ddot{x}^{2}{\\left(t \\right)} y^{(4)}{\\left(t \\right)}\\right)\\right) \\left(- \\ddot{x}{\\left(t \\right)} \\frac{d}{d t} \\ddot{x}{\\left(t \\right)} - \\ddot{y}{\\left(t \\right)} \\frac{d}{d t} \\ddot{y}{\\left(t \\right)}\\right)}{l_{tvc} m \\left(\\left(g + \\ddot{y}{\\left(t \\right)}\\right)^{2} + \\ddot{x}^{2}{\\left(t \\right)}\\right)^{2} \\left(\\ddot{x}^{2}{\\left(t \\right)} + \\ddot{y}^{2}{\\left(t \\right)}\\right)^{\\frac{3}{2}} \\ddot{x}{\\left(t \\right)}} - \\frac{J_{z} \\left(\\left(- 2 g - 2 \\ddot{y}{\\left(t \\right)}\\right) \\left(\\left(g + \\ddot{y}{\\left(t \\right)}\\right) x^{(3)}{\\left(t \\right)} - \\ddot{x}{\\left(t \\right)} y^{(3)}{\\left(t \\right)}\\right)^{2} + \\left(\\left(g + \\ddot{y}{\\left(t \\right)}\\right)^{2} + \\ddot{x}^{2}{\\left(t \\right)}\\right) \\left(\\left(2 g + 2 \\ddot{y}{\\left(t \\right)}\\right) \\left(x^{(3)}\\right)^{2}{\\left(t \\right)} - \\left(\\left(g + \\ddot{y}{\\left(t \\right)}\\right) x^{(4)}{\\left(t \\right)} + 2 x^{(3)}{\\left(t \\right)} y^{(3)}{\\left(t \\right)}\\right) \\ddot{x}{\\left(t \\right)} + \\ddot{x}^{2}{\\left(t \\right)} y^{(4)}{\\left(t \\right)}\\right)\\right) \\frac{d}{d t} \\ddot{x}{\\left(t \\right)}}{l_{tvc} m \\left(\\left(g + \\ddot{y}{\\left(t \\right)}\\right)^{2} + \\ddot{x}^{2}{\\left(t \\right)}\\right)^{2} \\sqrt{\\ddot{x}^{2}{\\left(t \\right)} + \\ddot{y}^{2}{\\left(t \\right)}} \\ddot{x}^{2}{\\left(t \\right)}} + \\frac{J_{z} \\left(\\left(- 2 g - 2 \\ddot{y}{\\left(t \\right)}\\right) \\left(\\left(g + \\ddot{y}{\\left(t \\right)}\\right) x^{(3)}{\\left(t \\right)} - \\ddot{x}{\\left(t \\right)} y^{(3)}{\\left(t \\right)}\\right) \\left(2 \\left(g + \\ddot{y}{\\left(t \\right)}\\right) \\frac{d}{d t} x^{(3)}{\\left(t \\right)} - 2 \\ddot{x}{\\left(t \\right)} \\frac{d}{d t} y^{(3)}{\\left(t \\right)} + 2 x^{(3)}{\\left(t \\right)} \\frac{d}{d t} \\ddot{y}{\\left(t \\right)} - 2 y^{(3)}{\\left(t \\right)} \\frac{d}{d t} \\ddot{x}{\\left(t \\right)}\\right) - 2 \\left(\\left(g + \\ddot{y}{\\left(t \\right)}\\right) x^{(3)}{\\left(t \\right)} - \\ddot{x}{\\left(t \\right)} y^{(3)}{\\left(t \\right)}\\right)^{2} \\frac{d}{d t} \\ddot{y}{\\left(t \\right)} + \\left(2 \\left(g + \\ddot{y}{\\left(t \\right)}\\right) \\frac{d}{d t} \\ddot{y}{\\left(t \\right)} + 2 \\ddot{x}{\\left(t \\right)} \\frac{d}{d t} \\ddot{x}{\\left(t \\right)}\\right) \\left(\\left(2 g + 2 \\ddot{y}{\\left(t \\right)}\\right) \\left(x^{(3)}\\right)^{2}{\\left(t \\right)} - \\left(\\left(g + \\ddot{y}{\\left(t \\right)}\\right) x^{(4)}{\\left(t \\right)} + 2 x^{(3)}{\\left(t \\right)} y^{(3)}{\\left(t \\right)}\\right) \\ddot{x}{\\left(t \\right)} + \\ddot{x}^{2}{\\left(t \\right)} y^{(4)}{\\left(t \\right)}\\right) + \\left(\\left(g + \\ddot{y}{\\left(t \\right)}\\right)^{2} + \\ddot{x}^{2}{\\left(t \\right)}\\right) \\left(2 \\cdot \\left(2 g + 2 \\ddot{y}{\\left(t \\right)}\\right) x^{(3)}{\\left(t \\right)} \\frac{d}{d t} x^{(3)}{\\left(t \\right)} - \\left(\\left(g + \\ddot{y}{\\left(t \\right)}\\right) x^{(4)}{\\left(t \\right)} + 2 x^{(3)}{\\left(t \\right)} y^{(3)}{\\left(t \\right)}\\right) \\frac{d}{d t} \\ddot{x}{\\left(t \\right)} - \\left(\\left(g + \\ddot{y}{\\left(t \\right)}\\right) \\frac{d}{d t} x^{(4)}{\\left(t \\right)} + 2 x^{(3)}{\\left(t \\right)} \\frac{d}{d t} y^{(3)}{\\left(t \\right)} + x^{(4)}{\\left(t \\right)} \\frac{d}{d t} \\ddot{y}{\\left(t \\right)} + 2 y^{(3)}{\\left(t \\right)} \\frac{d}{d t} x^{(3)}{\\left(t \\right)}\\right) \\ddot{x}{\\left(t \\right)} + \\ddot{x}^{2}{\\left(t \\right)} \\frac{d}{d t} y^{(4)}{\\left(t \\right)} + 2 \\ddot{x}{\\left(t \\right)} y^{(4)}{\\left(t \\right)} \\frac{d}{d t} \\ddot{x}{\\left(t \\right)} + 2 \\left(x^{(3)}\\right)^{2}{\\left(t \\right)} \\frac{d}{d t} \\ddot{y}{\\left(t \\right)}\\right)\\right)}{l_{tvc} m \\left(\\left(g + \\ddot{y}{\\left(t \\right)}\\right)^{2} + \\ddot{x}^{2}{\\left(t \\right)}\\right)^{2} \\sqrt{\\ddot{x}^{2}{\\left(t \\right)} + \\ddot{y}^{2}{\\left(t \\right)}} \\ddot{x}{\\left(t \\right)}}}{\\sqrt{- \\frac{J_{z}^{2} \\left(\\left(- 2 g - 2 \\ddot{y}{\\left(t \\right)}\\right) \\left(\\left(g + \\ddot{y}{\\left(t \\right)}\\right) x^{(3)}{\\left(t \\right)} - \\ddot{x}{\\left(t \\right)} y^{(3)}{\\left(t \\right)}\\right)^{2} + \\left(\\left(g + \\ddot{y}{\\left(t \\right)}\\right)^{2} + \\ddot{x}^{2}{\\left(t \\right)}\\right) \\left(\\left(2 g + 2 \\ddot{y}{\\left(t \\right)}\\right) \\left(x^{(3)}\\right)^{2}{\\left(t \\right)} - \\left(\\left(g + \\ddot{y}{\\left(t \\right)}\\right) x^{(4)}{\\left(t \\right)} + 2 x^{(3)}{\\left(t \\right)} y^{(3)}{\\left(t \\right)}\\right) \\ddot{x}{\\left(t \\right)} + \\ddot{x}^{2}{\\left(t \\right)} y^{(4)}{\\left(t \\right)}\\right)\\right)^{2}}{l_{tvc}^{2} m^{2} \\left(\\left(g + \\ddot{y}{\\left(t \\right)}\\right)^{2} + \\ddot{x}^{2}{\\left(t \\right)}\\right)^{4} \\left(\\ddot{x}^{2}{\\left(t \\right)} + \\ddot{y}^{2}{\\left(t \\right)}\\right) \\ddot{x}^{2}{\\left(t \\right)}} + 1}}$"
      ],
      "text/plain": [
       "(J_z*((-2*g - 2*\\ddot{y}(t))*((g + \\ddot{y}(t))*x^{(3)}(t) - \\ddot{x}(t)*y^{(3)}(t))**2 + ((g + \\ddot{y}(t))**2 + \\ddot{x}(t)**2)*((2*g + 2*\\ddot{y}(t))*x^{(3)}(t)**2 - ((g + \\ddot{y}(t))*x^{(4)}(t) + 2*x^{(3)}(t)*y^{(3)}(t))*\\ddot{x}(t) + \\ddot{x}(t)**2*y^{(4)}(t)))*(-4*(g + \\ddot{y}(t))*Derivative(\\ddot{y}(t), t) - 4*\\ddot{x}(t)*Derivative(\\ddot{x}(t), t))/(l_{tvc}*m*((g + \\ddot{y}(t))**2 + \\ddot{x}(t)**2)**3*sqrt(\\ddot{x}(t)**2 + \\ddot{y}(t)**2)*\\ddot{x}(t)) + J_z*((-2*g - 2*\\ddot{y}(t))*((g + \\ddot{y}(t))*x^{(3)}(t) - \\ddot{x}(t)*y^{(3)}(t))**2 + ((g + \\ddot{y}(t))**2 + \\ddot{x}(t)**2)*((2*g + 2*\\ddot{y}(t))*x^{(3)}(t)**2 - ((g + \\ddot{y}(t))*x^{(4)}(t) + 2*x^{(3)}(t)*y^{(3)}(t))*\\ddot{x}(t) + \\ddot{x}(t)**2*y^{(4)}(t)))*(-\\ddot{x}(t)*Derivative(\\ddot{x}(t), t) - \\ddot{y}(t)*Derivative(\\ddot{y}(t), t))/(l_{tvc}*m*((g + \\ddot{y}(t))**2 + \\ddot{x}(t)**2)**2*(\\ddot{x}(t)**2 + \\ddot{y}(t)**2)**(3/2)*\\ddot{x}(t)) - J_z*((-2*g - 2*\\ddot{y}(t))*((g + \\ddot{y}(t))*x^{(3)}(t) - \\ddot{x}(t)*y^{(3)}(t))**2 + ((g + \\ddot{y}(t))**2 + \\ddot{x}(t)**2)*((2*g + 2*\\ddot{y}(t))*x^{(3)}(t)**2 - ((g + \\ddot{y}(t))*x^{(4)}(t) + 2*x^{(3)}(t)*y^{(3)}(t))*\\ddot{x}(t) + \\ddot{x}(t)**2*y^{(4)}(t)))*Derivative(\\ddot{x}(t), t)/(l_{tvc}*m*((g + \\ddot{y}(t))**2 + \\ddot{x}(t)**2)**2*sqrt(\\ddot{x}(t)**2 + \\ddot{y}(t)**2)*\\ddot{x}(t)**2) + J_z*((-2*g - 2*\\ddot{y}(t))*((g + \\ddot{y}(t))*x^{(3)}(t) - \\ddot{x}(t)*y^{(3)}(t))*(2*(g + \\ddot{y}(t))*Derivative(x^{(3)}(t), t) - 2*\\ddot{x}(t)*Derivative(y^{(3)}(t), t) + 2*x^{(3)}(t)*Derivative(\\ddot{y}(t), t) - 2*y^{(3)}(t)*Derivative(\\ddot{x}(t), t)) - 2*((g + \\ddot{y}(t))*x^{(3)}(t) - \\ddot{x}(t)*y^{(3)}(t))**2*Derivative(\\ddot{y}(t), t) + (2*(g + \\ddot{y}(t))*Derivative(\\ddot{y}(t), t) + 2*\\ddot{x}(t)*Derivative(\\ddot{x}(t), t))*((2*g + 2*\\ddot{y}(t))*x^{(3)}(t)**2 - ((g + \\ddot{y}(t))*x^{(4)}(t) + 2*x^{(3)}(t)*y^{(3)}(t))*\\ddot{x}(t) + \\ddot{x}(t)**2*y^{(4)}(t)) + ((g + \\ddot{y}(t))**2 + \\ddot{x}(t)**2)*(2*(2*g + 2*\\ddot{y}(t))*x^{(3)}(t)*Derivative(x^{(3)}(t), t) - ((g + \\ddot{y}(t))*x^{(4)}(t) + 2*x^{(3)}(t)*y^{(3)}(t))*Derivative(\\ddot{x}(t), t) - ((g + \\ddot{y}(t))*Derivative(x^{(4)}(t), t) + 2*x^{(3)}(t)*Derivative(y^{(3)}(t), t) + x^{(4)}(t)*Derivative(\\ddot{y}(t), t) + 2*y^{(3)}(t)*Derivative(x^{(3)}(t), t))*\\ddot{x}(t) + \\ddot{x}(t)**2*Derivative(y^{(4)}(t), t) + 2*\\ddot{x}(t)*y^{(4)}(t)*Derivative(\\ddot{x}(t), t) + 2*x^{(3)}(t)**2*Derivative(\\ddot{y}(t), t)))/(l_{tvc}*m*((g + \\ddot{y}(t))**2 + \\ddot{x}(t)**2)**2*sqrt(\\ddot{x}(t)**2 + \\ddot{y}(t)**2)*\\ddot{x}(t)))/sqrt(-J_z**2*((-2*g - 2*\\ddot{y}(t))*((g + \\ddot{y}(t))*x^{(3)}(t) - \\ddot{x}(t)*y^{(3)}(t))**2 + ((g + \\ddot{y}(t))**2 + \\ddot{x}(t)**2)*((2*g + 2*\\ddot{y}(t))*x^{(3)}(t)**2 - ((g + \\ddot{y}(t))*x^{(4)}(t) + 2*x^{(3)}(t)*y^{(3)}(t))*\\ddot{x}(t) + \\ddot{x}(t)**2*y^{(4)}(t)))**2/(l_{tvc}**2*m**2*((g + \\ddot{y}(t))**2 + \\ddot{x}(t)**2)**4*(\\ddot{x}(t)**2 + \\ddot{y}(t)**2)*\\ddot{x}(t)**2) + 1)"
      ]
     },
     "execution_count": 43,
     "metadata": {},
     "output_type": "execute_result"
    }
   ],
   "source": [
    "delta_t_dot = delta_t.diff(t)\n",
    "delta_t_dot"
   ]
  },
  {
   "cell_type": "code",
   "execution_count": 44,
   "metadata": {},
   "outputs": [
    {
     "data": {
      "text/latex": [
       "$\\displaystyle \\frac{\\left(g + \\ddot{y}{\\left(t \\right)}\\right) x^{(3)}{\\left(t \\right)} + \\ddot{x}{\\left(t \\right)} y^{(3)}{\\left(t \\right)}}{\\left(g + \\ddot{y}{\\left(t \\right)}\\right)^{2} + \\ddot{x}^{2}{\\left(t \\right)}}$"
      ],
      "text/plain": [
       "((g + \\ddot{y}(t))*x^{(3)}(t) + \\ddot{x}(t)*y^{(3)}(t))/((g + \\ddot{y}(t))**2 + \\ddot{x}(t)**2)"
      ]
     },
     "execution_count": 44,
     "metadata": {},
     "output_type": "execute_result"
    }
   ],
   "source": [
    "d_gamma = (y_3dot * x_dot_dot + (y_dot_dot + g) * x_3dot) / (\n",
    "    x_dot_dot**2 + (y_dot_dot + g) ** 2\n",
    ")\n",
    "d_gamma"
   ]
  },
  {
   "cell_type": "code",
   "execution_count": 45,
   "metadata": {},
   "outputs": [
    {
     "data": {
      "text/latex": [
       "$\\displaystyle \\frac{\\left(\\left(g + \\ddot{y}{\\left(t \\right)}\\right) x^{(3)}{\\left(t \\right)} + \\ddot{x}{\\left(t \\right)} y^{(3)}{\\left(t \\right)}\\right) \\left(- 2 \\left(g + \\ddot{y}{\\left(t \\right)}\\right) \\frac{d}{d t} \\ddot{y}{\\left(t \\right)} - 2 \\ddot{x}{\\left(t \\right)} \\frac{d}{d t} \\ddot{x}{\\left(t \\right)}\\right)}{\\left(\\left(g + \\ddot{y}{\\left(t \\right)}\\right)^{2} + \\ddot{x}^{2}{\\left(t \\right)}\\right)^{2}} + \\frac{\\left(g + \\ddot{y}{\\left(t \\right)}\\right) \\frac{d}{d t} x^{(3)}{\\left(t \\right)} + \\ddot{x}{\\left(t \\right)} \\frac{d}{d t} y^{(3)}{\\left(t \\right)} + x^{(3)}{\\left(t \\right)} \\frac{d}{d t} \\ddot{y}{\\left(t \\right)} + y^{(3)}{\\left(t \\right)} \\frac{d}{d t} \\ddot{x}{\\left(t \\right)}}{\\left(g + \\ddot{y}{\\left(t \\right)}\\right)^{2} + \\ddot{x}^{2}{\\left(t \\right)}}$"
      ],
      "text/plain": [
       "((g + \\ddot{y}(t))*x^{(3)}(t) + \\ddot{x}(t)*y^{(3)}(t))*(-2*(g + \\ddot{y}(t))*Derivative(\\ddot{y}(t), t) - 2*\\ddot{x}(t)*Derivative(\\ddot{x}(t), t))/((g + \\ddot{y}(t))**2 + \\ddot{x}(t)**2)**2 + ((g + \\ddot{y}(t))*Derivative(x^{(3)}(t), t) + \\ddot{x}(t)*Derivative(y^{(3)}(t), t) + x^{(3)}(t)*Derivative(\\ddot{y}(t), t) + y^{(3)}(t)*Derivative(\\ddot{x}(t), t))/((g + \\ddot{y}(t))**2 + \\ddot{x}(t)**2)"
      ]
     },
     "execution_count": 45,
     "metadata": {},
     "output_type": "execute_result"
    }
   ],
   "source": [
    "dd_gamma = d_gamma.diff(t)\n",
    "dd_gamma"
   ]
  },
  {
   "cell_type": "code",
   "execution_count": 46,
   "metadata": {},
   "outputs": [
    {
     "name": "stdout",
     "output_type": "stream",
     "text": [
      "\\frac{\\left(\\left(g + \\ddot{y}{\\left(t \\right)}\\right) x^{(3)}{\\left(t \\right)} + \\ddot{x}{\\left(t \\right)} y^{(3)}{\\left(t \\right)}\\right) \\left(\\left(2 g + 2 \\ddot{y}{\\left(t \\right)}\\right) y^{(3)}{\\left(t \\right)} + 2 \\ddot{x}{\\left(t \\right)} x^{(3)}{\\left(t \\right)}\\right) + \\left(\\left(g + \\ddot{y}{\\left(t \\right)}\\right)^{2} + \\ddot{x}^{2}{\\left(t \\right)}\\right) \\left(\\left(g + \\ddot{y}{\\left(t \\right)}\\right) x^{(4)}{\\left(t \\right)} + \\ddot{x}{\\left(t \\right)} y^{(4)}{\\left(t \\right)} + 2 x^{(3)}{\\left(t \\right)} y^{(3)}{\\left(t \\right)}\\right)}{\\left(\\left(g + \\ddot{y}{\\left(t \\right)}\\right)^{2} + \\ddot{x}^{2}{\\left(t \\right)}\\right)^{2}}\n"
     ]
    }
   ],
   "source": [
    "dd_gamma = (\n",
    "    (x_dot_dot**2 + (y_dot_dot + g) ** 2)\n",
    "    * (x_dot_dot * y_4dot + 2 * x_3dot * y_3dot + x_4dot * (y_dot_dot + g))\n",
    "    + (x_dot_dot * y_3dot + x_3dot * (y_dot_dot + g))\n",
    "    * (2 * x_dot_dot * x_3dot + 2 * (y_dot_dot + g) * y_3dot)\n",
    ") / (x_dot_dot**2 + (y_dot_dot + g) ** 2) ** 2\n",
    "sp.print_latex(dd_gamma)"
   ]
  },
  {
   "cell_type": "code",
   "execution_count": 47,
   "metadata": {},
   "outputs": [
    {
     "name": "stdout",
     "output_type": "stream",
     "text": [
      "\\operatorname{asin}{\\left(\\frac{J_{z} \\left(\\left(- 2 g - 2 \\ddot{y}{\\left(t \\right)}\\right) \\left(\\left(g + \\ddot{y}{\\left(t \\right)}\\right) x^{(3)}{\\left(t \\right)} - \\ddot{x}{\\left(t \\right)} y^{(3)}{\\left(t \\right)}\\right)^{2} + \\left(\\left(g + \\ddot{y}{\\left(t \\right)}\\right)^{2} + \\ddot{x}^{2}{\\left(t \\right)}\\right) \\left(\\left(2 g + 2 \\ddot{y}{\\left(t \\right)}\\right) \\left(x^{(3)}\\right)^{2}{\\left(t \\right)} - \\left(\\left(g + \\ddot{y}{\\left(t \\right)}\\right) x^{(4)}{\\left(t \\right)} + 2 x^{(3)}{\\left(t \\right)} y^{(3)}{\\left(t \\right)}\\right) \\ddot{x}{\\left(t \\right)} + \\ddot{x}^{2}{\\left(t \\right)} y^{(4)}{\\left(t \\right)}\\right)\\right)}{l_{tvc} m \\left(\\left(g + \\ddot{y}{\\left(t \\right)}\\right)^{2} + \\ddot{x}^{2}{\\left(t \\right)}\\right)^{2} \\sqrt{\\ddot{x}^{2}{\\left(t \\right)} + \\ddot{y}^{2}{\\left(t \\right)}} \\ddot{x}{\\left(t \\right)}} \\right)}\n"
     ]
    }
   ],
   "source": [
    "delta_t = sp.asin((J_z * gamma_dot_dot_new) / (ft * l_tvc))\n",
    "sp.print_latex(delta_t)"
   ]
  },
  {
   "cell_type": "code",
   "execution_count": 48,
   "metadata": {},
   "outputs": [],
   "source": [
    "delta_t_dot = delta_t.diff(t)\n",
    "# delta_t_dot.simplify()\n",
    "# sp.print_latex(delta_t_dot)"
   ]
  },
  {
   "cell_type": "code",
   "execution_count": null,
   "metadata": {},
   "outputs": [],
   "source": []
  }
 ],
 "metadata": {
  "kernelspec": {
   "display_name": "base",
   "language": "python",
   "name": "python3"
  },
  "language_info": {
   "codemirror_mode": {
    "name": "ipython",
    "version": 3
   },
   "file_extension": ".py",
   "mimetype": "text/x-python",
   "name": "python",
   "nbconvert_exporter": "python",
   "pygments_lexer": "ipython3",
   "version": "3.10.9"
  },
  "orig_nbformat": 4
 },
 "nbformat": 4,
 "nbformat_minor": 2
}
