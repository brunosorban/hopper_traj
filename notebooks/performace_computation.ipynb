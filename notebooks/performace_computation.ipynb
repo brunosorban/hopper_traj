{
 "cells": [
  {
   "cell_type": "code",
   "execution_count": 1,
   "metadata": {},
   "outputs": [],
   "source": [
    "import sympy as sp"
   ]
  },
  {
   "cell_type": "code",
   "execution_count": 22,
   "metadata": {},
   "outputs": [],
   "source": [
    "# initialize symbols\n",
    "t, g, m, J_z, l_tvc, r, v = sp.symbols(\"t g m J_z l_{tvc} r v\")\n",
    "\n",
    "theta = sp.Function(r\"\\theta\")(t)\n",
    "theta_dot = sp.Function(r\"\\dot{\\theta}\")(t)\n",
    "theta_dot_dot = sp.Function(r\"\\dot{\\theta}\")(t)\n",
    "theta_3dot = sp.Function(r\"\\theta^{(3)}\")(t)"
   ]
  },
  {
   "cell_type": "code",
   "execution_count": 3,
   "metadata": {},
   "outputs": [],
   "source": [
    "x = r * sp.cos(theta)\n",
    "y = r * sp.sin(theta)"
   ]
  },
  {
   "cell_type": "code",
   "execution_count": 4,
   "metadata": {},
   "outputs": [],
   "source": [
    "x_dot = sp.diff(x, t)\n",
    "x_dot_dot = sp.diff(x_dot, t)\n",
    "x_3dot = sp.diff(x_dot_dot, t)\n",
    "\n",
    "y_dot = sp.diff(y, t)\n",
    "y_dot_dot = sp.diff(y_dot, t)\n",
    "y_3dot = sp.diff(y_dot_dot, t)"
   ]
  },
  {
   "cell_type": "code",
   "execution_count": 6,
   "metadata": {},
   "outputs": [],
   "source": [
    "gamma = sp.atan2(y_dot + g, x_dot)\n",
    "gamma_dot = sp.diff(gamma, t)\n",
    "gamma_dot_dot = sp.diff(gamma_dot, t)"
   ]
  },
  {
   "cell_type": "code",
   "execution_count": 10,
   "metadata": {},
   "outputs": [
    {
     "data": {
      "text/latex": [
       "$\\displaystyle - \\frac{r \\left(2 r \\left(- g \\sin{\\left(\\theta{\\left(t \\right)} \\right)} \\left(\\frac{d}{d t} \\theta{\\left(t \\right)}\\right)^{2} + g \\cos{\\left(\\theta{\\left(t \\right)} \\right)} \\frac{d^{2}}{d t^{2}} \\theta{\\left(t \\right)} + r \\frac{d}{d t} \\theta{\\left(t \\right)} \\frac{d^{2}}{d t^{2}} \\theta{\\left(t \\right)}\\right) \\left(g \\sin{\\left(\\theta{\\left(t \\right)} \\right)} \\frac{d^{2}}{d t^{2}} \\theta{\\left(t \\right)} + g \\cos{\\left(\\theta{\\left(t \\right)} \\right)} \\left(\\frac{d}{d t} \\theta{\\left(t \\right)}\\right)^{2} + r \\left(\\frac{d}{d t} \\theta{\\left(t \\right)}\\right)^{3}\\right) - \\left(g^{2} + 2 g r \\cos{\\left(\\theta{\\left(t \\right)} \\right)} \\frac{d}{d t} \\theta{\\left(t \\right)} + r^{2} \\left(\\frac{d}{d t} \\theta{\\left(t \\right)}\\right)^{2}\\right) \\left(- g \\sin{\\left(\\theta{\\left(t \\right)} \\right)} \\left(\\frac{d}{d t} \\theta{\\left(t \\right)}\\right)^{3} + g \\sin{\\left(\\theta{\\left(t \\right)} \\right)} \\frac{d^{3}}{d t^{3}} \\theta{\\left(t \\right)} + 3 g \\cos{\\left(\\theta{\\left(t \\right)} \\right)} \\frac{d}{d t} \\theta{\\left(t \\right)} \\frac{d^{2}}{d t^{2}} \\theta{\\left(t \\right)} + 3 r \\left(\\frac{d}{d t} \\theta{\\left(t \\right)}\\right)^{2} \\frac{d^{2}}{d t^{2}} \\theta{\\left(t \\right)}\\right)\\right)}{\\left(g^{2} + 2 g r \\cos{\\left(\\theta{\\left(t \\right)} \\right)} \\frac{d}{d t} \\theta{\\left(t \\right)} + r^{2} \\left(\\frac{d}{d t} \\theta{\\left(t \\right)}\\right)^{2}\\right)^{2}}$"
      ],
      "text/plain": [
       "-r*(2*r*(-g*sin(theta(t))*Derivative(theta(t), t)**2 + g*cos(theta(t))*Derivative(theta(t), (t, 2)) + r*Derivative(theta(t), t)*Derivative(theta(t), (t, 2)))*(g*sin(theta(t))*Derivative(theta(t), (t, 2)) + g*cos(theta(t))*Derivative(theta(t), t)**2 + r*Derivative(theta(t), t)**3) - (g**2 + 2*g*r*cos(theta(t))*Derivative(theta(t), t) + r**2*Derivative(theta(t), t)**2)*(-g*sin(theta(t))*Derivative(theta(t), t)**3 + g*sin(theta(t))*Derivative(theta(t), (t, 3)) + 3*g*cos(theta(t))*Derivative(theta(t), t)*Derivative(theta(t), (t, 2)) + 3*r*Derivative(theta(t), t)**2*Derivative(theta(t), (t, 2))))/(g**2 + 2*g*r*cos(theta(t))*Derivative(theta(t), t) + r**2*Derivative(theta(t), t)**2)**2"
      ]
     },
     "execution_count": 10,
     "metadata": {},
     "output_type": "execute_result"
    }
   ],
   "source": [
    "gamma_dot_dot = sp.simplify(gamma_dot_dot)\n",
    "gamma_dot_dot"
   ]
  },
  {
   "cell_type": "code",
   "execution_count": 24,
   "metadata": {},
   "outputs": [
    {
     "name": "stdout",
     "output_type": "stream",
     "text": [
      "r = Symbol('r')\n",
      "g = Symbol('g')\n",
      "t = Symbol('t')\n",
      "theta = Function('theta')\n",
      "e = -r*(2*r*(-g*sin(theta(t))*Derivative(theta(t), t)**2 + g*cos(theta(t))*Derivative(theta(t), (t, 2)) + r*Derivative(theta(t), t)*Derivative(theta(t), (t, 2)))*(g*sin(theta(t))*Derivative(theta(t), (t, 2)) + g*cos(theta(t))*Derivative(theta(t), t)**2 + r*Derivative(theta(t), t)**3) - (g**2 + 2*g*r*cos(theta(t))*Derivative(theta(t), t) + r**2*Derivative(theta(t), t)**2)*(-g*sin(theta(t))*Derivative(theta(t), t)**3 + g*sin(theta(t))*Derivative(theta(t), (t, 3)) + 3*g*cos(theta(t))*Derivative(theta(t), t)*Derivative(theta(t), (t, 2)) + 3*r*Derivative(theta(t), t)**2*Derivative(theta(t), (t, 2))))/(g**2 + 2*g*r*cos(theta(t))*Derivative(theta(t), t) + r**2*Derivative(theta(t), t)**2)**2\n"
     ]
    }
   ],
   "source": [
    "sp.print_python(gamma_dot_dot)"
   ]
  },
  {
   "cell_type": "code",
   "execution_count": 27,
   "metadata": {},
   "outputs": [],
   "source": [
    "dd_gamma = (\n",
    "    -r\n",
    "    * (\n",
    "        2\n",
    "        * r\n",
    "        * (\n",
    "            -g * sp.sin(theta) * theta_dot**2\n",
    "            + g * sp.cos(theta) * theta_dot_dot\n",
    "            + r * theta_dot * theta_dot_dot\n",
    "        )\n",
    "        * (\n",
    "            g * sp.sin(theta) * theta_dot_dot\n",
    "            + g * sp.cos(theta) * theta_dot**2\n",
    "            + r * theta_dot**3\n",
    "        )\n",
    "        - (g**2 + 2 * g * r * sp.cos(theta) * theta_dot + r**2 * theta_dot**2)\n",
    "        * (\n",
    "            -g * sp.sin(theta) * theta_dot**3\n",
    "            + g * sp.sin(theta) * theta_3dot\n",
    "            + 3 * g * sp.cos(theta) * theta_dot * theta_dot_dot\n",
    "            + 3 * r * theta_dot**2 * theta_dot_dot\n",
    "        )\n",
    "    )\n",
    "    / (g**2 + 2 * g * r * sp.cos(theta) * theta_dot + r**2 * theta_dot**2) ** 2\n",
    ")"
   ]
  },
  {
   "attachments": {},
   "cell_type": "markdown",
   "metadata": {},
   "source": [
    "## Steady state turn with constant radius\n",
    "- The maxium curvature depends on the speed and the radius of the turn, and also\n",
    "depends of the orientation since gravity is acting on the vehicle.\n",
    "\n",
    "$$\\dot{\\theta} = \\frac{v}{r}$$\n",
    "$$\\ddot{\\theta} = \\frac{a}{r} = 0$$\n",
    "$$\\theta^{(3)} = 0$$"
   ]
  },
  {
   "cell_type": "code",
   "execution_count": 28,
   "metadata": {},
   "outputs": [
    {
     "data": {
      "text/latex": [
       "$\\displaystyle - \\frac{r \\left(2 r \\left(\\frac{g v \\sin{\\left(\\theta{\\left(t \\right)} \\right)}}{r} + \\frac{g v^{2} \\cos{\\left(\\theta{\\left(t \\right)} \\right)}}{r^{2}} + \\frac{v^{3}}{r^{2}}\\right) \\left(\\frac{g v \\cos{\\left(\\theta{\\left(t \\right)} \\right)}}{r} - \\frac{g v^{2} \\sin{\\left(\\theta{\\left(t \\right)} \\right)}}{r^{2}} + \\frac{v^{2}}{r}\\right) - \\left(g^{2} + 2 g v \\cos{\\left(\\theta{\\left(t \\right)} \\right)} + v^{2}\\right) \\left(g \\theta^{(3)}{\\left(t \\right)} \\sin{\\left(\\theta{\\left(t \\right)} \\right)} + \\frac{3 g v^{2} \\cos{\\left(\\theta{\\left(t \\right)} \\right)}}{r^{2}} - \\frac{g v^{3} \\sin{\\left(\\theta{\\left(t \\right)} \\right)}}{r^{3}} + \\frac{3 v^{3}}{r^{2}}\\right)\\right)}{\\left(g^{2} + 2 g v \\cos{\\left(\\theta{\\left(t \\right)} \\right)} + v^{2}\\right)^{2}}$"
      ],
      "text/plain": [
       "-r*(2*r*(g*v*sin(\\theta(t))/r + g*v**2*cos(\\theta(t))/r**2 + v**3/r**2)*(g*v*cos(\\theta(t))/r - g*v**2*sin(\\theta(t))/r**2 + v**2/r) - (g**2 + 2*g*v*cos(\\theta(t)) + v**2)*(g*\\theta^{(3)}(t)*sin(\\theta(t)) + 3*g*v**2*cos(\\theta(t))/r**2 - g*v**3*sin(\\theta(t))/r**3 + 3*v**3/r**2))/(g**2 + 2*g*v*cos(\\theta(t)) + v**2)**2"
      ]
     },
     "execution_count": 28,
     "metadata": {},
     "output_type": "execute_result"
    }
   ],
   "source": [
    "dd_gamma.subs({theta_dot: v / r})"
   ]
  },
  {
   "cell_type": "code",
   "execution_count": null,
   "metadata": {},
   "outputs": [],
   "source": []
  },
  {
   "attachments": {},
   "cell_type": "markdown",
   "metadata": {},
   "source": [
    "## Computing the curvature"
   ]
  },
  {
   "attachments": {},
   "cell_type": "markdown",
   "metadata": {},
   "source": [
    "R = (1 + (y')^2)^(3/2) / y''"
   ]
  }
 ],
 "metadata": {
  "kernelspec": {
   "display_name": "base",
   "language": "python",
   "name": "python3"
  },
  "language_info": {
   "codemirror_mode": {
    "name": "ipython",
    "version": 3
   },
   "file_extension": ".py",
   "mimetype": "text/x-python",
   "name": "python",
   "nbconvert_exporter": "python",
   "pygments_lexer": "ipython3",
   "version": "3.10.9"
  },
  "orig_nbformat": 4
 },
 "nbformat": 4,
 "nbformat_minor": 2
}
