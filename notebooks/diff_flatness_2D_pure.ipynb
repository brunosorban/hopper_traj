{
 "cells": [
  {
   "cell_type": "code",
   "execution_count": 2,
   "metadata": {},
   "outputs": [],
   "source": [
    "import sympy as sp"
   ]
  },
  {
   "cell_type": "code",
   "execution_count": 3,
   "metadata": {},
   "outputs": [
    {
     "data": {
      "text/plain": [
       "(x(t), y(t))"
      ]
     },
     "execution_count": 3,
     "metadata": {},
     "output_type": "execute_result"
    }
   ],
   "source": [
    "# initialize symbols\n",
    "t, g, m, J_z, l_tvc = sp.symbols(\"t g m J_z l_{tvc}\")\n",
    "x = sp.Function(\"x\")(t)\n",
    "x_dot = x.diff(t)\n",
    "x_dot_dot = x_dot.diff(t)\n",
    "\n",
    "y = sp.Function(\"y\")(t)\n",
    "y_dot = y.diff(t)\n",
    "y_dot_dot = y_dot.diff(t)\n",
    "x, y"
   ]
  },
  {
   "cell_type": "code",
   "execution_count": 10,
   "metadata": {},
   "outputs": [
    {
     "name": "stdout",
     "output_type": "stream",
     "text": [
      "\\frac{- \\frac{\\left(g + \\frac{d^{2}}{d t^{2}} y{\\left(t \\right)}\\right) \\frac{d^{3}}{d t^{3}} x{\\left(t \\right)}}{\\left(\\frac{d^{2}}{d t^{2}} x{\\left(t \\right)}\\right)^{2}} + \\frac{\\frac{d^{3}}{d t^{3}} y{\\left(t \\right)}}{\\frac{d^{2}}{d t^{2}} x{\\left(t \\right)}}}{\\frac{\\left(g + \\frac{d^{2}}{d t^{2}} y{\\left(t \\right)}\\right)^{2}}{\\left(\\frac{d^{2}}{d t^{2}} x{\\left(t \\right)}\\right)^{2}} + 1}\n"
     ]
    }
   ],
   "source": [
    "# start differential flatness computation\n",
    "gamma = sp.atan((y_dot_dot + g) / (x_dot_dot))\n",
    "gamma_dot = gamma.diff(t)\n",
    "gamma_dot_dot = gamma_dot.diff(t)\n",
    "\n",
    "sp.print_latex(gamma_dot)"
   ]
  },
  {
   "cell_type": "code",
   "execution_count": 5,
   "metadata": {},
   "outputs": [
    {
     "data": {
      "text/latex": [
       "$\\displaystyle m \\sqrt{\\left(\\frac{d^{2}}{d t^{2}} x{\\left(t \\right)}\\right)^{2} + \\left(\\frac{d^{2}}{d t^{2}} y{\\left(t \\right)}\\right)^{2}}$"
      ],
      "text/plain": [
       "m*sqrt(Derivative(x(t), (t, 2))**2 + Derivative(y(t), (t, 2))**2)"
      ]
     },
     "execution_count": 5,
     "metadata": {},
     "output_type": "execute_result"
    }
   ],
   "source": [
    "ft = m * sp.sqrt(x_dot_dot**2 + y_dot_dot**2)\n",
    "ft"
   ]
  },
  {
   "cell_type": "code",
   "execution_count": 6,
   "metadata": {},
   "outputs": [
    {
     "data": {
      "text/latex": [
       "$\\displaystyle \\frac{m \\left(\\frac{d^{2}}{d t^{2}} x{\\left(t \\right)} \\frac{d^{3}}{d t^{3}} x{\\left(t \\right)} + \\frac{d^{2}}{d t^{2}} y{\\left(t \\right)} \\frac{d^{3}}{d t^{3}} y{\\left(t \\right)}\\right)}{\\sqrt{\\left(\\frac{d^{2}}{d t^{2}} x{\\left(t \\right)}\\right)^{2} + \\left(\\frac{d^{2}}{d t^{2}} y{\\left(t \\right)}\\right)^{2}}}$"
      ],
      "text/plain": [
       "m*(Derivative(x(t), (t, 2))*Derivative(x(t), (t, 3)) + Derivative(y(t), (t, 2))*Derivative(y(t), (t, 3)))/sqrt(Derivative(x(t), (t, 2))**2 + Derivative(y(t), (t, 2))**2)"
      ]
     },
     "execution_count": 6,
     "metadata": {},
     "output_type": "execute_result"
    }
   ],
   "source": [
    "ft_dot = ft.diff(t)\n",
    "ft_dot"
   ]
  },
  {
   "cell_type": "code",
   "execution_count": 7,
   "metadata": {},
   "outputs": [
    {
     "data": {
      "text/latex": [
       "$\\displaystyle \\operatorname{asin}{\\left(\\frac{J_{z} \\left(\\frac{- \\frac{\\left(g + \\frac{d^{2}}{d t^{2}} y{\\left(t \\right)}\\right) \\frac{d^{4}}{d t^{4}} x{\\left(t \\right)}}{\\left(\\frac{d^{2}}{d t^{2}} x{\\left(t \\right)}\\right)^{2}} + \\frac{2 \\left(g + \\frac{d^{2}}{d t^{2}} y{\\left(t \\right)}\\right) \\left(\\frac{d^{3}}{d t^{3}} x{\\left(t \\right)}\\right)^{2}}{\\left(\\frac{d^{2}}{d t^{2}} x{\\left(t \\right)}\\right)^{3}} + \\frac{\\frac{d^{4}}{d t^{4}} y{\\left(t \\right)}}{\\frac{d^{2}}{d t^{2}} x{\\left(t \\right)}} - \\frac{2 \\frac{d^{3}}{d t^{3}} x{\\left(t \\right)} \\frac{d^{3}}{d t^{3}} y{\\left(t \\right)}}{\\left(\\frac{d^{2}}{d t^{2}} x{\\left(t \\right)}\\right)^{2}}}{\\frac{\\left(g + \\frac{d^{2}}{d t^{2}} y{\\left(t \\right)}\\right)^{2}}{\\left(\\frac{d^{2}}{d t^{2}} x{\\left(t \\right)}\\right)^{2}} + 1} + \\frac{\\left(- \\frac{\\left(g + \\frac{d^{2}}{d t^{2}} y{\\left(t \\right)}\\right) \\frac{d^{3}}{d t^{3}} x{\\left(t \\right)}}{\\left(\\frac{d^{2}}{d t^{2}} x{\\left(t \\right)}\\right)^{2}} + \\frac{\\frac{d^{3}}{d t^{3}} y{\\left(t \\right)}}{\\frac{d^{2}}{d t^{2}} x{\\left(t \\right)}}\\right) \\left(\\frac{2 \\left(g + \\frac{d^{2}}{d t^{2}} y{\\left(t \\right)}\\right)^{2} \\frac{d^{3}}{d t^{3}} x{\\left(t \\right)}}{\\left(\\frac{d^{2}}{d t^{2}} x{\\left(t \\right)}\\right)^{3}} - \\frac{2 \\left(g + \\frac{d^{2}}{d t^{2}} y{\\left(t \\right)}\\right) \\frac{d^{3}}{d t^{3}} y{\\left(t \\right)}}{\\left(\\frac{d^{2}}{d t^{2}} x{\\left(t \\right)}\\right)^{2}}\\right)}{\\left(\\frac{\\left(g + \\frac{d^{2}}{d t^{2}} y{\\left(t \\right)}\\right)^{2}}{\\left(\\frac{d^{2}}{d t^{2}} x{\\left(t \\right)}\\right)^{2}} + 1\\right)^{2}}\\right)}{l_{tvc} m \\sqrt{\\left(\\frac{d^{2}}{d t^{2}} x{\\left(t \\right)}\\right)^{2} + \\left(\\frac{d^{2}}{d t^{2}} y{\\left(t \\right)}\\right)^{2}}} \\right)}$"
      ],
      "text/plain": [
       "asin(J_z*((-(g + Derivative(y(t), (t, 2)))*Derivative(x(t), (t, 4))/Derivative(x(t), (t, 2))**2 + 2*(g + Derivative(y(t), (t, 2)))*Derivative(x(t), (t, 3))**2/Derivative(x(t), (t, 2))**3 + Derivative(y(t), (t, 4))/Derivative(x(t), (t, 2)) - 2*Derivative(x(t), (t, 3))*Derivative(y(t), (t, 3))/Derivative(x(t), (t, 2))**2)/((g + Derivative(y(t), (t, 2)))**2/Derivative(x(t), (t, 2))**2 + 1) + (-(g + Derivative(y(t), (t, 2)))*Derivative(x(t), (t, 3))/Derivative(x(t), (t, 2))**2 + Derivative(y(t), (t, 3))/Derivative(x(t), (t, 2)))*(2*(g + Derivative(y(t), (t, 2)))**2*Derivative(x(t), (t, 3))/Derivative(x(t), (t, 2))**3 - 2*(g + Derivative(y(t), (t, 2)))*Derivative(y(t), (t, 3))/Derivative(x(t), (t, 2))**2)/((g + Derivative(y(t), (t, 2)))**2/Derivative(x(t), (t, 2))**2 + 1)**2)/(l_{tvc}*m*sqrt(Derivative(x(t), (t, 2))**2 + Derivative(y(t), (t, 2))**2)))"
      ]
     },
     "execution_count": 7,
     "metadata": {},
     "output_type": "execute_result"
    }
   ],
   "source": [
    "delta_t = sp.asin((J_z * gamma_dot_dot) / (ft * l_tvc))\n",
    "delta_t.simplify()\n",
    "delta_t"
   ]
  },
  {
   "cell_type": "code",
   "execution_count": 8,
   "metadata": {},
   "outputs": [
    {
     "data": {
      "text/latex": [
       "$\\displaystyle \\frac{\\frac{J_{z} \\left(\\frac{- \\frac{\\left(g + \\frac{d^{2}}{d t^{2}} y{\\left(t \\right)}\\right) \\frac{d^{4}}{d t^{4}} x{\\left(t \\right)}}{\\left(\\frac{d^{2}}{d t^{2}} x{\\left(t \\right)}\\right)^{2}} + \\frac{2 \\left(g + \\frac{d^{2}}{d t^{2}} y{\\left(t \\right)}\\right) \\left(\\frac{d^{3}}{d t^{3}} x{\\left(t \\right)}\\right)^{2}}{\\left(\\frac{d^{2}}{d t^{2}} x{\\left(t \\right)}\\right)^{3}} + \\frac{\\frac{d^{4}}{d t^{4}} y{\\left(t \\right)}}{\\frac{d^{2}}{d t^{2}} x{\\left(t \\right)}} - \\frac{2 \\frac{d^{3}}{d t^{3}} x{\\left(t \\right)} \\frac{d^{3}}{d t^{3}} y{\\left(t \\right)}}{\\left(\\frac{d^{2}}{d t^{2}} x{\\left(t \\right)}\\right)^{2}}}{\\frac{\\left(g + \\frac{d^{2}}{d t^{2}} y{\\left(t \\right)}\\right)^{2}}{\\left(\\frac{d^{2}}{d t^{2}} x{\\left(t \\right)}\\right)^{2}} + 1} + \\frac{\\left(- \\frac{\\left(g + \\frac{d^{2}}{d t^{2}} y{\\left(t \\right)}\\right) \\frac{d^{3}}{d t^{3}} x{\\left(t \\right)}}{\\left(\\frac{d^{2}}{d t^{2}} x{\\left(t \\right)}\\right)^{2}} + \\frac{\\frac{d^{3}}{d t^{3}} y{\\left(t \\right)}}{\\frac{d^{2}}{d t^{2}} x{\\left(t \\right)}}\\right) \\left(\\frac{2 \\left(g + \\frac{d^{2}}{d t^{2}} y{\\left(t \\right)}\\right)^{2} \\frac{d^{3}}{d t^{3}} x{\\left(t \\right)}}{\\left(\\frac{d^{2}}{d t^{2}} x{\\left(t \\right)}\\right)^{3}} - \\frac{2 \\left(g + \\frac{d^{2}}{d t^{2}} y{\\left(t \\right)}\\right) \\frac{d^{3}}{d t^{3}} y{\\left(t \\right)}}{\\left(\\frac{d^{2}}{d t^{2}} x{\\left(t \\right)}\\right)^{2}}\\right)}{\\left(\\frac{\\left(g + \\frac{d^{2}}{d t^{2}} y{\\left(t \\right)}\\right)^{2}}{\\left(\\frac{d^{2}}{d t^{2}} x{\\left(t \\right)}\\right)^{2}} + 1\\right)^{2}}\\right) \\left(- \\frac{d^{2}}{d t^{2}} x{\\left(t \\right)} \\frac{d^{3}}{d t^{3}} x{\\left(t \\right)} - \\frac{d^{2}}{d t^{2}} y{\\left(t \\right)} \\frac{d^{3}}{d t^{3}} y{\\left(t \\right)}\\right)}{l_{tvc} m \\left(\\left(\\frac{d^{2}}{d t^{2}} x{\\left(t \\right)}\\right)^{2} + \\left(\\frac{d^{2}}{d t^{2}} y{\\left(t \\right)}\\right)^{2}\\right)^{\\frac{3}{2}}} + \\frac{J_{z} \\left(\\frac{- \\frac{\\left(g + \\frac{d^{2}}{d t^{2}} y{\\left(t \\right)}\\right) \\frac{d^{5}}{d t^{5}} x{\\left(t \\right)}}{\\left(\\frac{d^{2}}{d t^{2}} x{\\left(t \\right)}\\right)^{2}} + \\frac{6 \\left(g + \\frac{d^{2}}{d t^{2}} y{\\left(t \\right)}\\right) \\frac{d^{3}}{d t^{3}} x{\\left(t \\right)} \\frac{d^{4}}{d t^{4}} x{\\left(t \\right)}}{\\left(\\frac{d^{2}}{d t^{2}} x{\\left(t \\right)}\\right)^{3}} - \\frac{6 \\left(g + \\frac{d^{2}}{d t^{2}} y{\\left(t \\right)}\\right) \\left(\\frac{d^{3}}{d t^{3}} x{\\left(t \\right)}\\right)^{3}}{\\left(\\frac{d^{2}}{d t^{2}} x{\\left(t \\right)}\\right)^{4}} + \\frac{\\frac{d^{5}}{d t^{5}} y{\\left(t \\right)}}{\\frac{d^{2}}{d t^{2}} x{\\left(t \\right)}} - \\frac{3 \\frac{d^{3}}{d t^{3}} x{\\left(t \\right)} \\frac{d^{4}}{d t^{4}} y{\\left(t \\right)}}{\\left(\\frac{d^{2}}{d t^{2}} x{\\left(t \\right)}\\right)^{2}} - \\frac{3 \\frac{d^{4}}{d t^{4}} x{\\left(t \\right)} \\frac{d^{3}}{d t^{3}} y{\\left(t \\right)}}{\\left(\\frac{d^{2}}{d t^{2}} x{\\left(t \\right)}\\right)^{2}} + \\frac{6 \\left(\\frac{d^{3}}{d t^{3}} x{\\left(t \\right)}\\right)^{2} \\frac{d^{3}}{d t^{3}} y{\\left(t \\right)}}{\\left(\\frac{d^{2}}{d t^{2}} x{\\left(t \\right)}\\right)^{3}}}{\\frac{\\left(g + \\frac{d^{2}}{d t^{2}} y{\\left(t \\right)}\\right)^{2}}{\\left(\\frac{d^{2}}{d t^{2}} x{\\left(t \\right)}\\right)^{2}} + 1} + \\frac{\\left(- \\frac{\\left(g + \\frac{d^{2}}{d t^{2}} y{\\left(t \\right)}\\right) \\frac{d^{3}}{d t^{3}} x{\\left(t \\right)}}{\\left(\\frac{d^{2}}{d t^{2}} x{\\left(t \\right)}\\right)^{2}} + \\frac{\\frac{d^{3}}{d t^{3}} y{\\left(t \\right)}}{\\frac{d^{2}}{d t^{2}} x{\\left(t \\right)}}\\right) \\left(\\frac{2 \\left(g + \\frac{d^{2}}{d t^{2}} y{\\left(t \\right)}\\right)^{2} \\frac{d^{4}}{d t^{4}} x{\\left(t \\right)}}{\\left(\\frac{d^{2}}{d t^{2}} x{\\left(t \\right)}\\right)^{3}} - \\frac{6 \\left(g + \\frac{d^{2}}{d t^{2}} y{\\left(t \\right)}\\right)^{2} \\left(\\frac{d^{3}}{d t^{3}} x{\\left(t \\right)}\\right)^{2}}{\\left(\\frac{d^{2}}{d t^{2}} x{\\left(t \\right)}\\right)^{4}} - \\frac{2 \\left(g + \\frac{d^{2}}{d t^{2}} y{\\left(t \\right)}\\right) \\frac{d^{4}}{d t^{4}} y{\\left(t \\right)}}{\\left(\\frac{d^{2}}{d t^{2}} x{\\left(t \\right)}\\right)^{2}} + \\frac{8 \\left(g + \\frac{d^{2}}{d t^{2}} y{\\left(t \\right)}\\right) \\frac{d^{3}}{d t^{3}} x{\\left(t \\right)} \\frac{d^{3}}{d t^{3}} y{\\left(t \\right)}}{\\left(\\frac{d^{2}}{d t^{2}} x{\\left(t \\right)}\\right)^{3}} - \\frac{2 \\left(\\frac{d^{3}}{d t^{3}} y{\\left(t \\right)}\\right)^{2}}{\\left(\\frac{d^{2}}{d t^{2}} x{\\left(t \\right)}\\right)^{2}}\\right)}{\\left(\\frac{\\left(g + \\frac{d^{2}}{d t^{2}} y{\\left(t \\right)}\\right)^{2}}{\\left(\\frac{d^{2}}{d t^{2}} x{\\left(t \\right)}\\right)^{2}} + 1\\right)^{2}} + \\frac{2 \\cdot \\left(\\frac{2 \\left(g + \\frac{d^{2}}{d t^{2}} y{\\left(t \\right)}\\right)^{2} \\frac{d^{3}}{d t^{3}} x{\\left(t \\right)}}{\\left(\\frac{d^{2}}{d t^{2}} x{\\left(t \\right)}\\right)^{3}} - \\frac{2 \\left(g + \\frac{d^{2}}{d t^{2}} y{\\left(t \\right)}\\right) \\frac{d^{3}}{d t^{3}} y{\\left(t \\right)}}{\\left(\\frac{d^{2}}{d t^{2}} x{\\left(t \\right)}\\right)^{2}}\\right) \\left(- \\frac{\\left(g + \\frac{d^{2}}{d t^{2}} y{\\left(t \\right)}\\right) \\frac{d^{4}}{d t^{4}} x{\\left(t \\right)}}{\\left(\\frac{d^{2}}{d t^{2}} x{\\left(t \\right)}\\right)^{2}} + \\frac{2 \\left(g + \\frac{d^{2}}{d t^{2}} y{\\left(t \\right)}\\right) \\left(\\frac{d^{3}}{d t^{3}} x{\\left(t \\right)}\\right)^{2}}{\\left(\\frac{d^{2}}{d t^{2}} x{\\left(t \\right)}\\right)^{3}} + \\frac{\\frac{d^{4}}{d t^{4}} y{\\left(t \\right)}}{\\frac{d^{2}}{d t^{2}} x{\\left(t \\right)}} - \\frac{2 \\frac{d^{3}}{d t^{3}} x{\\left(t \\right)} \\frac{d^{3}}{d t^{3}} y{\\left(t \\right)}}{\\left(\\frac{d^{2}}{d t^{2}} x{\\left(t \\right)}\\right)^{2}}\\right)}{\\left(\\frac{\\left(g + \\frac{d^{2}}{d t^{2}} y{\\left(t \\right)}\\right)^{2}}{\\left(\\frac{d^{2}}{d t^{2}} x{\\left(t \\right)}\\right)^{2}} + 1\\right)^{2}} + \\frac{\\left(- \\frac{\\left(g + \\frac{d^{2}}{d t^{2}} y{\\left(t \\right)}\\right) \\frac{d^{3}}{d t^{3}} x{\\left(t \\right)}}{\\left(\\frac{d^{2}}{d t^{2}} x{\\left(t \\right)}\\right)^{2}} + \\frac{\\frac{d^{3}}{d t^{3}} y{\\left(t \\right)}}{\\frac{d^{2}}{d t^{2}} x{\\left(t \\right)}}\\right) \\left(\\frac{2 \\left(g + \\frac{d^{2}}{d t^{2}} y{\\left(t \\right)}\\right)^{2} \\frac{d^{3}}{d t^{3}} x{\\left(t \\right)}}{\\left(\\frac{d^{2}}{d t^{2}} x{\\left(t \\right)}\\right)^{3}} - \\frac{2 \\left(g + \\frac{d^{2}}{d t^{2}} y{\\left(t \\right)}\\right) \\frac{d^{3}}{d t^{3}} y{\\left(t \\right)}}{\\left(\\frac{d^{2}}{d t^{2}} x{\\left(t \\right)}\\right)^{2}}\\right) \\left(\\frac{4 \\left(g + \\frac{d^{2}}{d t^{2}} y{\\left(t \\right)}\\right)^{2} \\frac{d^{3}}{d t^{3}} x{\\left(t \\right)}}{\\left(\\frac{d^{2}}{d t^{2}} x{\\left(t \\right)}\\right)^{3}} - \\frac{4 \\left(g + \\frac{d^{2}}{d t^{2}} y{\\left(t \\right)}\\right) \\frac{d^{3}}{d t^{3}} y{\\left(t \\right)}}{\\left(\\frac{d^{2}}{d t^{2}} x{\\left(t \\right)}\\right)^{2}}\\right)}{\\left(\\frac{\\left(g + \\frac{d^{2}}{d t^{2}} y{\\left(t \\right)}\\right)^{2}}{\\left(\\frac{d^{2}}{d t^{2}} x{\\left(t \\right)}\\right)^{2}} + 1\\right)^{3}}\\right)}{l_{tvc} m \\sqrt{\\left(\\frac{d^{2}}{d t^{2}} x{\\left(t \\right)}\\right)^{2} + \\left(\\frac{d^{2}}{d t^{2}} y{\\left(t \\right)}\\right)^{2}}}}{\\sqrt{- \\frac{J_{z}^{2} \\left(\\frac{- \\frac{\\left(g + \\frac{d^{2}}{d t^{2}} y{\\left(t \\right)}\\right) \\frac{d^{4}}{d t^{4}} x{\\left(t \\right)}}{\\left(\\frac{d^{2}}{d t^{2}} x{\\left(t \\right)}\\right)^{2}} + \\frac{2 \\left(g + \\frac{d^{2}}{d t^{2}} y{\\left(t \\right)}\\right) \\left(\\frac{d^{3}}{d t^{3}} x{\\left(t \\right)}\\right)^{2}}{\\left(\\frac{d^{2}}{d t^{2}} x{\\left(t \\right)}\\right)^{3}} + \\frac{\\frac{d^{4}}{d t^{4}} y{\\left(t \\right)}}{\\frac{d^{2}}{d t^{2}} x{\\left(t \\right)}} - \\frac{2 \\frac{d^{3}}{d t^{3}} x{\\left(t \\right)} \\frac{d^{3}}{d t^{3}} y{\\left(t \\right)}}{\\left(\\frac{d^{2}}{d t^{2}} x{\\left(t \\right)}\\right)^{2}}}{\\frac{\\left(g + \\frac{d^{2}}{d t^{2}} y{\\left(t \\right)}\\right)^{2}}{\\left(\\frac{d^{2}}{d t^{2}} x{\\left(t \\right)}\\right)^{2}} + 1} + \\frac{\\left(- \\frac{\\left(g + \\frac{d^{2}}{d t^{2}} y{\\left(t \\right)}\\right) \\frac{d^{3}}{d t^{3}} x{\\left(t \\right)}}{\\left(\\frac{d^{2}}{d t^{2}} x{\\left(t \\right)}\\right)^{2}} + \\frac{\\frac{d^{3}}{d t^{3}} y{\\left(t \\right)}}{\\frac{d^{2}}{d t^{2}} x{\\left(t \\right)}}\\right) \\left(\\frac{2 \\left(g + \\frac{d^{2}}{d t^{2}} y{\\left(t \\right)}\\right)^{2} \\frac{d^{3}}{d t^{3}} x{\\left(t \\right)}}{\\left(\\frac{d^{2}}{d t^{2}} x{\\left(t \\right)}\\right)^{3}} - \\frac{2 \\left(g + \\frac{d^{2}}{d t^{2}} y{\\left(t \\right)}\\right) \\frac{d^{3}}{d t^{3}} y{\\left(t \\right)}}{\\left(\\frac{d^{2}}{d t^{2}} x{\\left(t \\right)}\\right)^{2}}\\right)}{\\left(\\frac{\\left(g + \\frac{d^{2}}{d t^{2}} y{\\left(t \\right)}\\right)^{2}}{\\left(\\frac{d^{2}}{d t^{2}} x{\\left(t \\right)}\\right)^{2}} + 1\\right)^{2}}\\right)^{2}}{l_{tvc}^{2} m^{2} \\left(\\left(\\frac{d^{2}}{d t^{2}} x{\\left(t \\right)}\\right)^{2} + \\left(\\frac{d^{2}}{d t^{2}} y{\\left(t \\right)}\\right)^{2}\\right)} + 1}}$"
      ],
      "text/plain": [
       "(J_z*((-(g + Derivative(y(t), (t, 2)))*Derivative(x(t), (t, 4))/Derivative(x(t), (t, 2))**2 + 2*(g + Derivative(y(t), (t, 2)))*Derivative(x(t), (t, 3))**2/Derivative(x(t), (t, 2))**3 + Derivative(y(t), (t, 4))/Derivative(x(t), (t, 2)) - 2*Derivative(x(t), (t, 3))*Derivative(y(t), (t, 3))/Derivative(x(t), (t, 2))**2)/((g + Derivative(y(t), (t, 2)))**2/Derivative(x(t), (t, 2))**2 + 1) + (-(g + Derivative(y(t), (t, 2)))*Derivative(x(t), (t, 3))/Derivative(x(t), (t, 2))**2 + Derivative(y(t), (t, 3))/Derivative(x(t), (t, 2)))*(2*(g + Derivative(y(t), (t, 2)))**2*Derivative(x(t), (t, 3))/Derivative(x(t), (t, 2))**3 - 2*(g + Derivative(y(t), (t, 2)))*Derivative(y(t), (t, 3))/Derivative(x(t), (t, 2))**2)/((g + Derivative(y(t), (t, 2)))**2/Derivative(x(t), (t, 2))**2 + 1)**2)*(-Derivative(x(t), (t, 2))*Derivative(x(t), (t, 3)) - Derivative(y(t), (t, 2))*Derivative(y(t), (t, 3)))/(l_{tvc}*m*(Derivative(x(t), (t, 2))**2 + Derivative(y(t), (t, 2))**2)**(3/2)) + J_z*((-(g + Derivative(y(t), (t, 2)))*Derivative(x(t), (t, 5))/Derivative(x(t), (t, 2))**2 + 6*(g + Derivative(y(t), (t, 2)))*Derivative(x(t), (t, 3))*Derivative(x(t), (t, 4))/Derivative(x(t), (t, 2))**3 - 6*(g + Derivative(y(t), (t, 2)))*Derivative(x(t), (t, 3))**3/Derivative(x(t), (t, 2))**4 + Derivative(y(t), (t, 5))/Derivative(x(t), (t, 2)) - 3*Derivative(x(t), (t, 3))*Derivative(y(t), (t, 4))/Derivative(x(t), (t, 2))**2 - 3*Derivative(x(t), (t, 4))*Derivative(y(t), (t, 3))/Derivative(x(t), (t, 2))**2 + 6*Derivative(x(t), (t, 3))**2*Derivative(y(t), (t, 3))/Derivative(x(t), (t, 2))**3)/((g + Derivative(y(t), (t, 2)))**2/Derivative(x(t), (t, 2))**2 + 1) + (-(g + Derivative(y(t), (t, 2)))*Derivative(x(t), (t, 3))/Derivative(x(t), (t, 2))**2 + Derivative(y(t), (t, 3))/Derivative(x(t), (t, 2)))*(2*(g + Derivative(y(t), (t, 2)))**2*Derivative(x(t), (t, 4))/Derivative(x(t), (t, 2))**3 - 6*(g + Derivative(y(t), (t, 2)))**2*Derivative(x(t), (t, 3))**2/Derivative(x(t), (t, 2))**4 - 2*(g + Derivative(y(t), (t, 2)))*Derivative(y(t), (t, 4))/Derivative(x(t), (t, 2))**2 + 8*(g + Derivative(y(t), (t, 2)))*Derivative(x(t), (t, 3))*Derivative(y(t), (t, 3))/Derivative(x(t), (t, 2))**3 - 2*Derivative(y(t), (t, 3))**2/Derivative(x(t), (t, 2))**2)/((g + Derivative(y(t), (t, 2)))**2/Derivative(x(t), (t, 2))**2 + 1)**2 + 2*(2*(g + Derivative(y(t), (t, 2)))**2*Derivative(x(t), (t, 3))/Derivative(x(t), (t, 2))**3 - 2*(g + Derivative(y(t), (t, 2)))*Derivative(y(t), (t, 3))/Derivative(x(t), (t, 2))**2)*(-(g + Derivative(y(t), (t, 2)))*Derivative(x(t), (t, 4))/Derivative(x(t), (t, 2))**2 + 2*(g + Derivative(y(t), (t, 2)))*Derivative(x(t), (t, 3))**2/Derivative(x(t), (t, 2))**3 + Derivative(y(t), (t, 4))/Derivative(x(t), (t, 2)) - 2*Derivative(x(t), (t, 3))*Derivative(y(t), (t, 3))/Derivative(x(t), (t, 2))**2)/((g + Derivative(y(t), (t, 2)))**2/Derivative(x(t), (t, 2))**2 + 1)**2 + (-(g + Derivative(y(t), (t, 2)))*Derivative(x(t), (t, 3))/Derivative(x(t), (t, 2))**2 + Derivative(y(t), (t, 3))/Derivative(x(t), (t, 2)))*(2*(g + Derivative(y(t), (t, 2)))**2*Derivative(x(t), (t, 3))/Derivative(x(t), (t, 2))**3 - 2*(g + Derivative(y(t), (t, 2)))*Derivative(y(t), (t, 3))/Derivative(x(t), (t, 2))**2)*(4*(g + Derivative(y(t), (t, 2)))**2*Derivative(x(t), (t, 3))/Derivative(x(t), (t, 2))**3 - 4*(g + Derivative(y(t), (t, 2)))*Derivative(y(t), (t, 3))/Derivative(x(t), (t, 2))**2)/((g + Derivative(y(t), (t, 2)))**2/Derivative(x(t), (t, 2))**2 + 1)**3)/(l_{tvc}*m*sqrt(Derivative(x(t), (t, 2))**2 + Derivative(y(t), (t, 2))**2)))/sqrt(-J_z**2*((-(g + Derivative(y(t), (t, 2)))*Derivative(x(t), (t, 4))/Derivative(x(t), (t, 2))**2 + 2*(g + Derivative(y(t), (t, 2)))*Derivative(x(t), (t, 3))**2/Derivative(x(t), (t, 2))**3 + Derivative(y(t), (t, 4))/Derivative(x(t), (t, 2)) - 2*Derivative(x(t), (t, 3))*Derivative(y(t), (t, 3))/Derivative(x(t), (t, 2))**2)/((g + Derivative(y(t), (t, 2)))**2/Derivative(x(t), (t, 2))**2 + 1) + (-(g + Derivative(y(t), (t, 2)))*Derivative(x(t), (t, 3))/Derivative(x(t), (t, 2))**2 + Derivative(y(t), (t, 3))/Derivative(x(t), (t, 2)))*(2*(g + Derivative(y(t), (t, 2)))**2*Derivative(x(t), (t, 3))/Derivative(x(t), (t, 2))**3 - 2*(g + Derivative(y(t), (t, 2)))*Derivative(y(t), (t, 3))/Derivative(x(t), (t, 2))**2)/((g + Derivative(y(t), (t, 2)))**2/Derivative(x(t), (t, 2))**2 + 1)**2)**2/(l_{tvc}**2*m**2*(Derivative(x(t), (t, 2))**2 + Derivative(y(t), (t, 2))**2)) + 1)"
      ]
     },
     "execution_count": 8,
     "metadata": {},
     "output_type": "execute_result"
    }
   ],
   "source": [
    "delta_t_dot = delta_t.diff(t)\n",
    "delta_t_dot"
   ]
  },
  {
   "cell_type": "code",
   "execution_count": null,
   "metadata": {},
   "outputs": [],
   "source": []
  }
 ],
 "metadata": {
  "kernelspec": {
   "display_name": "base",
   "language": "python",
   "name": "python3"
  },
  "language_info": {
   "codemirror_mode": {
    "name": "ipython",
    "version": 3
   },
   "file_extension": ".py",
   "mimetype": "text/x-python",
   "name": "python",
   "nbconvert_exporter": "python",
   "pygments_lexer": "ipython3",
   "version": "3.10.9"
  },
  "orig_nbformat": 4
 },
 "nbformat": 4,
 "nbformat_minor": 2
}
