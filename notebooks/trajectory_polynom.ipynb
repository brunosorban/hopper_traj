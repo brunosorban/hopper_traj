{
 "cells": [
  {
   "cell_type": "code",
   "execution_count": 7,
   "metadata": {},
   "outputs": [],
   "source": [
    "import sympy as sp"
   ]
  },
  {
   "cell_type": "code",
   "execution_count": 8,
   "metadata": {},
   "outputs": [],
   "source": [
    "a, b, c, d, e, f, g = sp.symbols(\"a b c d e f g\")\n",
    "t0, tg, t = sp.symbols(\"t_0 t_g t\")\n",
    "\n",
    "px0, pxg = sp.symbols(\"p_{x_0} p_{x_g}\")\n",
    "vx0, vxg = sp.symbols(\"v_{x_0} v_{x_g}\")\n",
    "ax0, axg = sp.symbols(\"a_{x_0} a_{x_g}\")"
   ]
  },
  {
   "cell_type": "code",
   "execution_count": 19,
   "metadata": {},
   "outputs": [
    {
     "name": "stdout",
     "output_type": "stream",
     "text": [
      "Matrix([[t**5, t**4, t**3, t**2, t, 1]])\n",
      "Matrix([[5*t**4, 4*t**3, 3*t**2, 2*t, 1, 0]])\n",
      "Matrix([[20*t**3, 12*t**2, 6*t, 2, 0, 0]])\n"
     ]
    }
   ],
   "source": [
    "Pol = sp.Matrix(\n",
    "    [\n",
    "        [t**5, t**4, t**3, t**2, t, 1],\n",
    "    ]\n",
    ")\n",
    "dPol = sp.diff(Pol, t)\n",
    "ddPol = sp.diff(dPol, t)\n",
    "print(Pol)\n",
    "print(dPol)\n",
    "print(ddPol)"
   ]
  },
  {
   "cell_type": "code",
   "execution_count": 21,
   "metadata": {},
   "outputs": [
    {
     "name": "stdout",
     "output_type": "stream",
     "text": [
      "t_0 = Symbol('t_0')\n",
      "t_g = Symbol('t_g')\n",
      "e = MutableDenseMatrix([[t_0**5, t_0**4, t_0**3, t_0**2, t_0, 1], [t_g**5, t_g**4, t_g**3, t_g**2, t_g, 1], [5*t_0**4, 4*t_0**3, 3*t_0**2, 2*t_0, 1, 0], [5*t_g**4, 4*t_g**3, 3*t_g**2, 2*t_g, 1, 0], [20*t_0**3, 12*t_0**2, 6*t_0, 2, 0, 0], [20*t_g**3, 12*t_g**2, 6*t_g, 2, 0, 0]])\n"
     ]
    },
    {
     "data": {
      "text/latex": [
       "$\\displaystyle \\left[\\begin{matrix}t_{0}^{5} & t_{0}^{4} & t_{0}^{3} & t_{0}^{2} & t_{0} & 1\\\\t_{g}^{5} & t_{g}^{4} & t_{g}^{3} & t_{g}^{2} & t_{g} & 1\\\\5 t_{0}^{4} & 4 t_{0}^{3} & 3 t_{0}^{2} & 2 t_{0} & 1 & 0\\\\5 t_{g}^{4} & 4 t_{g}^{3} & 3 t_{g}^{2} & 2 t_{g} & 1 & 0\\\\20 t_{0}^{3} & 12 t_{0}^{2} & 6 t_{0} & 2 & 0 & 0\\\\20 t_{g}^{3} & 12 t_{g}^{2} & 6 t_{g} & 2 & 0 & 0\\end{matrix}\\right]$"
      ],
      "text/plain": [
       "Matrix([\n",
       "[   t_0**5,    t_0**4,   t_0**3, t_0**2, t_0, 1],\n",
       "[   t_g**5,    t_g**4,   t_g**3, t_g**2, t_g, 1],\n",
       "[ 5*t_0**4,  4*t_0**3, 3*t_0**2,  2*t_0,   1, 0],\n",
       "[ 5*t_g**4,  4*t_g**3, 3*t_g**2,  2*t_g,   1, 0],\n",
       "[20*t_0**3, 12*t_0**2,    6*t_0,      2,   0, 0],\n",
       "[20*t_g**3, 12*t_g**2,    6*t_g,      2,   0, 0]])"
      ]
     },
     "execution_count": 21,
     "metadata": {},
     "output_type": "execute_result"
    }
   ],
   "source": [
    "A = sp.Matrix(\n",
    "    [\n",
    "        Pol.subs(t, t0),\n",
    "        Pol.subs(t, tg),\n",
    "        dPol.subs(t, t0),\n",
    "        dPol.subs(t, tg),\n",
    "        ddPol.subs(t, t0),\n",
    "        ddPol.subs(t, tg),\n",
    "    ]\n",
    ")\n",
    "sp.print_python(A)\n",
    "A"
   ]
  },
  {
   "cell_type": "code",
   "execution_count": null,
   "metadata": {},
   "outputs": [],
   "source": []
  }
 ],
 "metadata": {
  "kernelspec": {
   "display_name": "base",
   "language": "python",
   "name": "python3"
  },
  "language_info": {
   "codemirror_mode": {
    "name": "ipython",
    "version": 3
   },
   "file_extension": ".py",
   "mimetype": "text/x-python",
   "name": "python",
   "nbconvert_exporter": "python",
   "pygments_lexer": "ipython3",
   "version": "3.10.9"
  },
  "orig_nbformat": 4
 },
 "nbformat": 4,
 "nbformat_minor": 2
}
